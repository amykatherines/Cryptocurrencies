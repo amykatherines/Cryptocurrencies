{
 "cells": [
  {
   "cell_type": "markdown",
   "metadata": {},
   "source": [
    "# Clustering Crypto"
   ]
  },
  {
   "cell_type": "markdown",
   "metadata": {},
   "source": [
    "### Instructions\n",
    "\n",
    "1. Read in the crypto_data.csv to the Pandas DataFrame named crypto_df.\n",
    "2. Keep all the cryptocurrencies that are being traded.\n",
    "3. Drop the IsTrading column.\n",
    "4. Remove rows that have at least one null value.\n",
    "5. Filter the crypto_df DataFrame so it only has rows where coins have been mined.\n",
    "6. Create a new DataFrame that holds only the cryptocurrency names, and use the crypto_df DataFrame index as the index for this new DataFrame.\n",
    "7. Remove the CoinName column from the crypto_df DataFrame since it's not going to be used on the clustering algorithm.\n",
    "\n",
    "Take a moment to check that your crypto_df DataFrame looks like the image provided in the challenge\n",
    "The crypto_df DataFrame shows four  columns: Algorithm, ProofType, TotalCoinsMined, TotalCoinSupply. It contains ten rows with the following headings: 42, 404, 1337, BTC, ETH, LTC, DASH, XMR, ETC, and ZEC\n",
    "\n",
    "8. Use the get_dummies() method to create variables for the two text features, Algorithm and ProofType, and store the resulting data in a new DataFrame named X.\n",
    "9. Use the StandardScaler fit_transform() function to standardize the features from the X DataFrame."
   ]
  },
  {
   "cell_type": "code",
   "execution_count": 26,
   "metadata": {},
   "outputs": [],
   "source": [
    "# Initial imports\n",
    "import pandas as pd\n",
    "from pandas import DataFrame\n",
    "import hvplot.pandas\n",
    "from path import Path\n",
    "import plotly.express as px\n",
    "from sklearn.preprocessing import StandardScaler, MinMaxScaler\n",
    "from sklearn.decomposition import PCA\n",
    "from sklearn.cluster import KMeans\n",
    "# from sklearn.compose import ColumnTransformer\n",
    "\n",
    "pd.set_option('display.max_rows', None)\n",
    "\n",
    "\n"
   ]
  },
  {
   "cell_type": "markdown",
   "metadata": {},
   "source": [
    "### Deliverable 1: Preprocessing the Data for PCA"
   ]
  },
  {
   "cell_type": "code",
   "execution_count": 27,
   "metadata": {},
   "outputs": [
    {
     "data": {
      "text/html": [
       "<div>\n",
       "<style scoped>\n",
       "    .dataframe tbody tr th:only-of-type {\n",
       "        vertical-align: middle;\n",
       "    }\n",
       "\n",
       "    .dataframe tbody tr th {\n",
       "        vertical-align: top;\n",
       "    }\n",
       "\n",
       "    .dataframe thead th {\n",
       "        text-align: right;\n",
       "    }\n",
       "</style>\n",
       "<table border=\"1\" class=\"dataframe\">\n",
       "  <thead>\n",
       "    <tr style=\"text-align: right;\">\n",
       "      <th></th>\n",
       "      <th>CoinName</th>\n",
       "      <th>Algorithm</th>\n",
       "      <th>IsTrading</th>\n",
       "      <th>ProofType</th>\n",
       "      <th>TotalCoinsMined</th>\n",
       "      <th>TotalCoinSupply</th>\n",
       "    </tr>\n",
       "  </thead>\n",
       "  <tbody>\n",
       "    <tr>\n",
       "      <th>42</th>\n",
       "      <td>42 Coin</td>\n",
       "      <td>Scrypt</td>\n",
       "      <td>True</td>\n",
       "      <td>PoW/PoS</td>\n",
       "      <td>4.199995e+01</td>\n",
       "      <td>42</td>\n",
       "    </tr>\n",
       "    <tr>\n",
       "      <th>365</th>\n",
       "      <td>365Coin</td>\n",
       "      <td>X11</td>\n",
       "      <td>True</td>\n",
       "      <td>PoW/PoS</td>\n",
       "      <td>NaN</td>\n",
       "      <td>2300000000</td>\n",
       "    </tr>\n",
       "    <tr>\n",
       "      <th>404</th>\n",
       "      <td>404Coin</td>\n",
       "      <td>Scrypt</td>\n",
       "      <td>True</td>\n",
       "      <td>PoW/PoS</td>\n",
       "      <td>1.055185e+09</td>\n",
       "      <td>532000000</td>\n",
       "    </tr>\n",
       "    <tr>\n",
       "      <th>611</th>\n",
       "      <td>SixEleven</td>\n",
       "      <td>SHA-256</td>\n",
       "      <td>True</td>\n",
       "      <td>PoW</td>\n",
       "      <td>NaN</td>\n",
       "      <td>611000</td>\n",
       "    </tr>\n",
       "    <tr>\n",
       "      <th>808</th>\n",
       "      <td>808</td>\n",
       "      <td>SHA-256</td>\n",
       "      <td>True</td>\n",
       "      <td>PoW/PoS</td>\n",
       "      <td>0.000000e+00</td>\n",
       "      <td>0</td>\n",
       "    </tr>\n",
       "    <tr>\n",
       "      <th>1337</th>\n",
       "      <td>EliteCoin</td>\n",
       "      <td>X13</td>\n",
       "      <td>True</td>\n",
       "      <td>PoW/PoS</td>\n",
       "      <td>2.927942e+10</td>\n",
       "      <td>314159265359</td>\n",
       "    </tr>\n",
       "    <tr>\n",
       "      <th>2015</th>\n",
       "      <td>2015 coin</td>\n",
       "      <td>X11</td>\n",
       "      <td>True</td>\n",
       "      <td>PoW/PoS</td>\n",
       "      <td>NaN</td>\n",
       "      <td>0</td>\n",
       "    </tr>\n",
       "    <tr>\n",
       "      <th>BTC</th>\n",
       "      <td>Bitcoin</td>\n",
       "      <td>SHA-256</td>\n",
       "      <td>True</td>\n",
       "      <td>PoW</td>\n",
       "      <td>1.792718e+07</td>\n",
       "      <td>21000000</td>\n",
       "    </tr>\n",
       "    <tr>\n",
       "      <th>ETH</th>\n",
       "      <td>Ethereum</td>\n",
       "      <td>Ethash</td>\n",
       "      <td>True</td>\n",
       "      <td>PoW</td>\n",
       "      <td>1.076842e+08</td>\n",
       "      <td>0</td>\n",
       "    </tr>\n",
       "    <tr>\n",
       "      <th>LTC</th>\n",
       "      <td>Litecoin</td>\n",
       "      <td>Scrypt</td>\n",
       "      <td>True</td>\n",
       "      <td>PoW</td>\n",
       "      <td>6.303924e+07</td>\n",
       "      <td>84000000</td>\n",
       "    </tr>\n",
       "  </tbody>\n",
       "</table>\n",
       "</div>"
      ],
      "text/plain": [
       "       CoinName Algorithm  IsTrading ProofType  TotalCoinsMined  \\\n",
       "42      42 Coin    Scrypt       True   PoW/PoS     4.199995e+01   \n",
       "365     365Coin       X11       True   PoW/PoS              NaN   \n",
       "404     404Coin    Scrypt       True   PoW/PoS     1.055185e+09   \n",
       "611   SixEleven   SHA-256       True       PoW              NaN   \n",
       "808         808   SHA-256       True   PoW/PoS     0.000000e+00   \n",
       "1337  EliteCoin       X13       True   PoW/PoS     2.927942e+10   \n",
       "2015  2015 coin       X11       True   PoW/PoS              NaN   \n",
       "BTC     Bitcoin   SHA-256       True       PoW     1.792718e+07   \n",
       "ETH    Ethereum    Ethash       True       PoW     1.076842e+08   \n",
       "LTC    Litecoin    Scrypt       True       PoW     6.303924e+07   \n",
       "\n",
       "     TotalCoinSupply  \n",
       "42                42  \n",
       "365       2300000000  \n",
       "404        532000000  \n",
       "611           611000  \n",
       "808                0  \n",
       "1337    314159265359  \n",
       "2015               0  \n",
       "BTC         21000000  \n",
       "ETH                0  \n",
       "LTC         84000000  "
      ]
     },
     "execution_count": 27,
     "metadata": {},
     "output_type": "execute_result"
    }
   ],
   "source": [
    "# 1. Read in the crypto_data.csv to the Pandas DataFrame named crypto_df.\n",
    "# Load the crypto_data.csv dataset.\n",
    "\n",
    "file_path = \"Resources/crypto_data.csv\"\n",
    "crypto_df = pd.read_csv(file_path)\n",
    "crypto_df.columns.values[0] = \"IndexValue\"\n",
    "crypto_df = crypto_df.set_index(keys='IndexValue', drop=True)\n",
    "crypto_df.index.name = None\n",
    "#crypto_df = crypto_df.set_index('IndexValue', inplace=True)\n",
    "# crypto_df = crypto_df[(crypto_df[0] != 'Unnamed: 0')]\n",
    "#crypto_df.head(20)\n",
    "crypto_df.head(10)\n"
   ]
  },
  {
   "cell_type": "code",
   "execution_count": 28,
   "metadata": {},
   "outputs": [
    {
     "data": {
      "text/plain": [
       "CoinName            object\n",
       "Algorithm           object\n",
       "IsTrading             bool\n",
       "ProofType           object\n",
       "TotalCoinsMined    float64\n",
       "TotalCoinSupply     object\n",
       "dtype: object"
      ]
     },
     "execution_count": 28,
     "metadata": {},
     "output_type": "execute_result"
    }
   ],
   "source": [
    "crypto_df.dtypes"
   ]
  },
  {
   "cell_type": "code",
   "execution_count": 29,
   "metadata": {},
   "outputs": [
    {
     "data": {
      "text/plain": [
       "True    1144\n",
       "Name: IsTrading, dtype: int64"
      ]
     },
     "execution_count": 29,
     "metadata": {},
     "output_type": "execute_result"
    }
   ],
   "source": [
    "# 2. Keep all the cryptocurrencies that are being traded.\n",
    "\n",
    "crypto_df = crypto_df[(crypto_df[\"IsTrading\"] == True)]\n",
    "crypto_df.IsTrading.value_counts() "
   ]
  },
  {
   "cell_type": "code",
   "execution_count": 30,
   "metadata": {},
   "outputs": [
    {
     "data": {
      "text/html": [
       "<div>\n",
       "<style scoped>\n",
       "    .dataframe tbody tr th:only-of-type {\n",
       "        vertical-align: middle;\n",
       "    }\n",
       "\n",
       "    .dataframe tbody tr th {\n",
       "        vertical-align: top;\n",
       "    }\n",
       "\n",
       "    .dataframe thead th {\n",
       "        text-align: right;\n",
       "    }\n",
       "</style>\n",
       "<table border=\"1\" class=\"dataframe\">\n",
       "  <thead>\n",
       "    <tr style=\"text-align: right;\">\n",
       "      <th></th>\n",
       "      <th>CoinName</th>\n",
       "      <th>Algorithm</th>\n",
       "      <th>ProofType</th>\n",
       "      <th>TotalCoinsMined</th>\n",
       "      <th>TotalCoinSupply</th>\n",
       "    </tr>\n",
       "  </thead>\n",
       "  <tbody>\n",
       "    <tr>\n",
       "      <th>42</th>\n",
       "      <td>42 Coin</td>\n",
       "      <td>Scrypt</td>\n",
       "      <td>PoW/PoS</td>\n",
       "      <td>4.199995e+01</td>\n",
       "      <td>42</td>\n",
       "    </tr>\n",
       "    <tr>\n",
       "      <th>365</th>\n",
       "      <td>365Coin</td>\n",
       "      <td>X11</td>\n",
       "      <td>PoW/PoS</td>\n",
       "      <td>NaN</td>\n",
       "      <td>2300000000</td>\n",
       "    </tr>\n",
       "    <tr>\n",
       "      <th>404</th>\n",
       "      <td>404Coin</td>\n",
       "      <td>Scrypt</td>\n",
       "      <td>PoW/PoS</td>\n",
       "      <td>1.055185e+09</td>\n",
       "      <td>532000000</td>\n",
       "    </tr>\n",
       "    <tr>\n",
       "      <th>611</th>\n",
       "      <td>SixEleven</td>\n",
       "      <td>SHA-256</td>\n",
       "      <td>PoW</td>\n",
       "      <td>NaN</td>\n",
       "      <td>611000</td>\n",
       "    </tr>\n",
       "    <tr>\n",
       "      <th>808</th>\n",
       "      <td>808</td>\n",
       "      <td>SHA-256</td>\n",
       "      <td>PoW/PoS</td>\n",
       "      <td>0.000000e+00</td>\n",
       "      <td>0</td>\n",
       "    </tr>\n",
       "    <tr>\n",
       "      <th>1337</th>\n",
       "      <td>EliteCoin</td>\n",
       "      <td>X13</td>\n",
       "      <td>PoW/PoS</td>\n",
       "      <td>2.927942e+10</td>\n",
       "      <td>314159265359</td>\n",
       "    </tr>\n",
       "    <tr>\n",
       "      <th>2015</th>\n",
       "      <td>2015 coin</td>\n",
       "      <td>X11</td>\n",
       "      <td>PoW/PoS</td>\n",
       "      <td>NaN</td>\n",
       "      <td>0</td>\n",
       "    </tr>\n",
       "    <tr>\n",
       "      <th>BTC</th>\n",
       "      <td>Bitcoin</td>\n",
       "      <td>SHA-256</td>\n",
       "      <td>PoW</td>\n",
       "      <td>1.792718e+07</td>\n",
       "      <td>21000000</td>\n",
       "    </tr>\n",
       "    <tr>\n",
       "      <th>ETH</th>\n",
       "      <td>Ethereum</td>\n",
       "      <td>Ethash</td>\n",
       "      <td>PoW</td>\n",
       "      <td>1.076842e+08</td>\n",
       "      <td>0</td>\n",
       "    </tr>\n",
       "    <tr>\n",
       "      <th>LTC</th>\n",
       "      <td>Litecoin</td>\n",
       "      <td>Scrypt</td>\n",
       "      <td>PoW</td>\n",
       "      <td>6.303924e+07</td>\n",
       "      <td>84000000</td>\n",
       "    </tr>\n",
       "  </tbody>\n",
       "</table>\n",
       "</div>"
      ],
      "text/plain": [
       "       CoinName Algorithm ProofType  TotalCoinsMined TotalCoinSupply\n",
       "42      42 Coin    Scrypt   PoW/PoS     4.199995e+01              42\n",
       "365     365Coin       X11   PoW/PoS              NaN      2300000000\n",
       "404     404Coin    Scrypt   PoW/PoS     1.055185e+09       532000000\n",
       "611   SixEleven   SHA-256       PoW              NaN          611000\n",
       "808         808   SHA-256   PoW/PoS     0.000000e+00               0\n",
       "1337  EliteCoin       X13   PoW/PoS     2.927942e+10    314159265359\n",
       "2015  2015 coin       X11   PoW/PoS              NaN               0\n",
       "BTC     Bitcoin   SHA-256       PoW     1.792718e+07        21000000\n",
       "ETH    Ethereum    Ethash       PoW     1.076842e+08               0\n",
       "LTC    Litecoin    Scrypt       PoW     6.303924e+07        84000000"
      ]
     },
     "execution_count": 30,
     "metadata": {},
     "output_type": "execute_result"
    }
   ],
   "source": [
    "# 3. Drop the IsTrading column.\n",
    "crypto_df = crypto_df.drop(columns=[\"IsTrading\"], axis=1)\n",
    "crypto_df.head(10)"
   ]
  },
  {
   "cell_type": "code",
   "execution_count": 31,
   "metadata": {},
   "outputs": [
    {
     "data": {
      "text/plain": [
       "CoinName           685\n",
       "Algorithm          685\n",
       "ProofType          685\n",
       "TotalCoinsMined    685\n",
       "TotalCoinSupply    685\n",
       "dtype: int64"
      ]
     },
     "execution_count": 31,
     "metadata": {},
     "output_type": "execute_result"
    }
   ],
   "source": [
    "# 4. Remove rows that have at least one null value.\n",
    "crypto_df= crypto_df.dropna(axis=0)\n",
    "crypto_df.count()"
   ]
  },
  {
   "cell_type": "code",
   "execution_count": 32,
   "metadata": {},
   "outputs": [
    {
     "data": {
      "text/plain": [
       "CoinName           532\n",
       "Algorithm          532\n",
       "ProofType          532\n",
       "TotalCoinsMined    532\n",
       "TotalCoinSupply    532\n",
       "dtype: int64"
      ]
     },
     "execution_count": 32,
     "metadata": {},
     "output_type": "execute_result"
    }
   ],
   "source": [
    "# 5. Filter the crypto_df DataFrame so it only has rows where coins have been mined.\n",
    "\n",
    "crypto_df = crypto_df[(crypto_df[\"TotalCoinsMined\"] > 0)]\n",
    "crypto_df.count()\n"
   ]
  },
  {
   "cell_type": "code",
   "execution_count": 33,
   "metadata": {},
   "outputs": [
    {
     "data": {
      "text/html": [
       "<div>\n",
       "<style scoped>\n",
       "    .dataframe tbody tr th:only-of-type {\n",
       "        vertical-align: middle;\n",
       "    }\n",
       "\n",
       "    .dataframe tbody tr th {\n",
       "        vertical-align: top;\n",
       "    }\n",
       "\n",
       "    .dataframe thead th {\n",
       "        text-align: right;\n",
       "    }\n",
       "</style>\n",
       "<table border=\"1\" class=\"dataframe\">\n",
       "  <thead>\n",
       "    <tr style=\"text-align: right;\">\n",
       "      <th></th>\n",
       "      <th>CoinName</th>\n",
       "      <th>Algorithm</th>\n",
       "      <th>ProofType</th>\n",
       "      <th>TotalCoinsMined</th>\n",
       "      <th>TotalCoinSupply</th>\n",
       "    </tr>\n",
       "  </thead>\n",
       "  <tbody>\n",
       "    <tr>\n",
       "      <th>42</th>\n",
       "      <td>42 Coin</td>\n",
       "      <td>Scrypt</td>\n",
       "      <td>PoW/PoS</td>\n",
       "      <td>4.199995e+01</td>\n",
       "      <td>42</td>\n",
       "    </tr>\n",
       "    <tr>\n",
       "      <th>404</th>\n",
       "      <td>404Coin</td>\n",
       "      <td>Scrypt</td>\n",
       "      <td>PoW/PoS</td>\n",
       "      <td>1.055185e+09</td>\n",
       "      <td>532000000</td>\n",
       "    </tr>\n",
       "    <tr>\n",
       "      <th>1337</th>\n",
       "      <td>EliteCoin</td>\n",
       "      <td>X13</td>\n",
       "      <td>PoW/PoS</td>\n",
       "      <td>2.927942e+10</td>\n",
       "      <td>314159265359</td>\n",
       "    </tr>\n",
       "    <tr>\n",
       "      <th>BTC</th>\n",
       "      <td>Bitcoin</td>\n",
       "      <td>SHA-256</td>\n",
       "      <td>PoW</td>\n",
       "      <td>1.792718e+07</td>\n",
       "      <td>21000000</td>\n",
       "    </tr>\n",
       "    <tr>\n",
       "      <th>ETH</th>\n",
       "      <td>Ethereum</td>\n",
       "      <td>Ethash</td>\n",
       "      <td>PoW</td>\n",
       "      <td>1.076842e+08</td>\n",
       "      <td>0</td>\n",
       "    </tr>\n",
       "    <tr>\n",
       "      <th>LTC</th>\n",
       "      <td>Litecoin</td>\n",
       "      <td>Scrypt</td>\n",
       "      <td>PoW</td>\n",
       "      <td>6.303924e+07</td>\n",
       "      <td>84000000</td>\n",
       "    </tr>\n",
       "    <tr>\n",
       "      <th>DASH</th>\n",
       "      <td>Dash</td>\n",
       "      <td>X11</td>\n",
       "      <td>PoW/PoS</td>\n",
       "      <td>9.031294e+06</td>\n",
       "      <td>22000000</td>\n",
       "    </tr>\n",
       "    <tr>\n",
       "      <th>XMR</th>\n",
       "      <td>Monero</td>\n",
       "      <td>CryptoNight-V7</td>\n",
       "      <td>PoW</td>\n",
       "      <td>1.720114e+07</td>\n",
       "      <td>0</td>\n",
       "    </tr>\n",
       "    <tr>\n",
       "      <th>ETC</th>\n",
       "      <td>Ethereum Classic</td>\n",
       "      <td>Ethash</td>\n",
       "      <td>PoW</td>\n",
       "      <td>1.133597e+08</td>\n",
       "      <td>210000000</td>\n",
       "    </tr>\n",
       "    <tr>\n",
       "      <th>ZEC</th>\n",
       "      <td>ZCash</td>\n",
       "      <td>Equihash</td>\n",
       "      <td>PoW</td>\n",
       "      <td>7.383056e+06</td>\n",
       "      <td>21000000</td>\n",
       "    </tr>\n",
       "  </tbody>\n",
       "</table>\n",
       "</div>"
      ],
      "text/plain": [
       "              CoinName       Algorithm ProofType  TotalCoinsMined  \\\n",
       "42             42 Coin          Scrypt   PoW/PoS     4.199995e+01   \n",
       "404            404Coin          Scrypt   PoW/PoS     1.055185e+09   \n",
       "1337         EliteCoin             X13   PoW/PoS     2.927942e+10   \n",
       "BTC            Bitcoin         SHA-256       PoW     1.792718e+07   \n",
       "ETH           Ethereum          Ethash       PoW     1.076842e+08   \n",
       "LTC           Litecoin          Scrypt       PoW     6.303924e+07   \n",
       "DASH              Dash             X11   PoW/PoS     9.031294e+06   \n",
       "XMR             Monero  CryptoNight-V7       PoW     1.720114e+07   \n",
       "ETC   Ethereum Classic          Ethash       PoW     1.133597e+08   \n",
       "ZEC              ZCash        Equihash       PoW     7.383056e+06   \n",
       "\n",
       "     TotalCoinSupply  \n",
       "42                42  \n",
       "404        532000000  \n",
       "1337    314159265359  \n",
       "BTC         21000000  \n",
       "ETH                0  \n",
       "LTC         84000000  \n",
       "DASH        22000000  \n",
       "XMR                0  \n",
       "ETC        210000000  \n",
       "ZEC         21000000  "
      ]
     },
     "execution_count": 33,
     "metadata": {},
     "output_type": "execute_result"
    }
   ],
   "source": [
    "crypto_df.head(10)"
   ]
  },
  {
   "cell_type": "code",
   "execution_count": 34,
   "metadata": {},
   "outputs": [
    {
     "data": {
      "text/html": [
       "<div>\n",
       "<style scoped>\n",
       "    .dataframe tbody tr th:only-of-type {\n",
       "        vertical-align: middle;\n",
       "    }\n",
       "\n",
       "    .dataframe tbody tr th {\n",
       "        vertical-align: top;\n",
       "    }\n",
       "\n",
       "    .dataframe thead th {\n",
       "        text-align: right;\n",
       "    }\n",
       "</style>\n",
       "<table border=\"1\" class=\"dataframe\">\n",
       "  <thead>\n",
       "    <tr style=\"text-align: right;\">\n",
       "      <th></th>\n",
       "      <th>CoinName</th>\n",
       "    </tr>\n",
       "  </thead>\n",
       "  <tbody>\n",
       "    <tr>\n",
       "      <th>42</th>\n",
       "      <td>42 Coin</td>\n",
       "    </tr>\n",
       "    <tr>\n",
       "      <th>404</th>\n",
       "      <td>404Coin</td>\n",
       "    </tr>\n",
       "    <tr>\n",
       "      <th>1337</th>\n",
       "      <td>EliteCoin</td>\n",
       "    </tr>\n",
       "    <tr>\n",
       "      <th>BTC</th>\n",
       "      <td>Bitcoin</td>\n",
       "    </tr>\n",
       "    <tr>\n",
       "      <th>ETH</th>\n",
       "      <td>Ethereum</td>\n",
       "    </tr>\n",
       "  </tbody>\n",
       "</table>\n",
       "</div>"
      ],
      "text/plain": [
       "       CoinName\n",
       "42      42 Coin\n",
       "404     404Coin\n",
       "1337  EliteCoin\n",
       "BTC     Bitcoin\n",
       "ETH    Ethereum"
      ]
     },
     "execution_count": 34,
     "metadata": {},
     "output_type": "execute_result"
    }
   ],
   "source": [
    "# 6. Create a new DataFrame that holds only the cryptocurrency names, and use the crypto_df DataFrame index as the index for this new DataFrame.\n",
    "crypto_name_list_df = crypto_df.drop(columns=['Algorithm','ProofType','TotalCoinsMined','TotalCoinSupply'])\n",
    "crypto_name_list_df.head()"
   ]
  },
  {
   "cell_type": "code",
   "execution_count": 35,
   "metadata": {},
   "outputs": [
    {
     "data": {
      "text/html": [
       "<div>\n",
       "<style scoped>\n",
       "    .dataframe tbody tr th:only-of-type {\n",
       "        vertical-align: middle;\n",
       "    }\n",
       "\n",
       "    .dataframe tbody tr th {\n",
       "        vertical-align: top;\n",
       "    }\n",
       "\n",
       "    .dataframe thead th {\n",
       "        text-align: right;\n",
       "    }\n",
       "</style>\n",
       "<table border=\"1\" class=\"dataframe\">\n",
       "  <thead>\n",
       "    <tr style=\"text-align: right;\">\n",
       "      <th></th>\n",
       "      <th>Algorithm</th>\n",
       "      <th>ProofType</th>\n",
       "      <th>TotalCoinsMined</th>\n",
       "      <th>TotalCoinSupply</th>\n",
       "    </tr>\n",
       "  </thead>\n",
       "  <tbody>\n",
       "    <tr>\n",
       "      <th>42</th>\n",
       "      <td>Scrypt</td>\n",
       "      <td>PoW/PoS</td>\n",
       "      <td>4.199995e+01</td>\n",
       "      <td>42</td>\n",
       "    </tr>\n",
       "    <tr>\n",
       "      <th>404</th>\n",
       "      <td>Scrypt</td>\n",
       "      <td>PoW/PoS</td>\n",
       "      <td>1.055185e+09</td>\n",
       "      <td>532000000</td>\n",
       "    </tr>\n",
       "    <tr>\n",
       "      <th>1337</th>\n",
       "      <td>X13</td>\n",
       "      <td>PoW/PoS</td>\n",
       "      <td>2.927942e+10</td>\n",
       "      <td>314159265359</td>\n",
       "    </tr>\n",
       "    <tr>\n",
       "      <th>BTC</th>\n",
       "      <td>SHA-256</td>\n",
       "      <td>PoW</td>\n",
       "      <td>1.792718e+07</td>\n",
       "      <td>21000000</td>\n",
       "    </tr>\n",
       "    <tr>\n",
       "      <th>ETH</th>\n",
       "      <td>Ethash</td>\n",
       "      <td>PoW</td>\n",
       "      <td>1.076842e+08</td>\n",
       "      <td>0</td>\n",
       "    </tr>\n",
       "    <tr>\n",
       "      <th>LTC</th>\n",
       "      <td>Scrypt</td>\n",
       "      <td>PoW</td>\n",
       "      <td>6.303924e+07</td>\n",
       "      <td>84000000</td>\n",
       "    </tr>\n",
       "    <tr>\n",
       "      <th>DASH</th>\n",
       "      <td>X11</td>\n",
       "      <td>PoW/PoS</td>\n",
       "      <td>9.031294e+06</td>\n",
       "      <td>22000000</td>\n",
       "    </tr>\n",
       "    <tr>\n",
       "      <th>XMR</th>\n",
       "      <td>CryptoNight-V7</td>\n",
       "      <td>PoW</td>\n",
       "      <td>1.720114e+07</td>\n",
       "      <td>0</td>\n",
       "    </tr>\n",
       "    <tr>\n",
       "      <th>ETC</th>\n",
       "      <td>Ethash</td>\n",
       "      <td>PoW</td>\n",
       "      <td>1.133597e+08</td>\n",
       "      <td>210000000</td>\n",
       "    </tr>\n",
       "    <tr>\n",
       "      <th>ZEC</th>\n",
       "      <td>Equihash</td>\n",
       "      <td>PoW</td>\n",
       "      <td>7.383056e+06</td>\n",
       "      <td>21000000</td>\n",
       "    </tr>\n",
       "  </tbody>\n",
       "</table>\n",
       "</div>"
      ],
      "text/plain": [
       "           Algorithm ProofType  TotalCoinsMined TotalCoinSupply\n",
       "42            Scrypt   PoW/PoS     4.199995e+01              42\n",
       "404           Scrypt   PoW/PoS     1.055185e+09       532000000\n",
       "1337             X13   PoW/PoS     2.927942e+10    314159265359\n",
       "BTC          SHA-256       PoW     1.792718e+07        21000000\n",
       "ETH           Ethash       PoW     1.076842e+08               0\n",
       "LTC           Scrypt       PoW     6.303924e+07        84000000\n",
       "DASH             X11   PoW/PoS     9.031294e+06        22000000\n",
       "XMR   CryptoNight-V7       PoW     1.720114e+07               0\n",
       "ETC           Ethash       PoW     1.133597e+08       210000000\n",
       "ZEC         Equihash       PoW     7.383056e+06        21000000"
      ]
     },
     "execution_count": 35,
     "metadata": {},
     "output_type": "execute_result"
    }
   ],
   "source": [
    "# Drop the 'CoinName' column since it's not going to be used on the clustering algorithm.\n",
    "# YOUR CODE HERE\n",
    "crypto_df = crypto_df.drop(columns=[\"CoinName\"], axis=1)\n",
    "crypto_df.head(10)"
   ]
  },
  {
   "cell_type": "code",
   "execution_count": 36,
   "metadata": {},
   "outputs": [
    {
     "data": {
      "text/plain": [
       "Algorithm           object\n",
       "ProofType           object\n",
       "TotalCoinsMined    float64\n",
       "TotalCoinSupply     object\n",
       "dtype: object"
      ]
     },
     "execution_count": 36,
     "metadata": {},
     "output_type": "execute_result"
    }
   ],
   "source": [
    "crypto_df.dtypes"
   ]
  },
  {
   "cell_type": "code",
   "execution_count": 37,
   "metadata": {},
   "outputs": [
    {
     "data": {
      "text/html": [
       "<div>\n",
       "<style scoped>\n",
       "    .dataframe tbody tr th:only-of-type {\n",
       "        vertical-align: middle;\n",
       "    }\n",
       "\n",
       "    .dataframe tbody tr th {\n",
       "        vertical-align: top;\n",
       "    }\n",
       "\n",
       "    .dataframe thead th {\n",
       "        text-align: right;\n",
       "    }\n",
       "</style>\n",
       "<table border=\"1\" class=\"dataframe\">\n",
       "  <thead>\n",
       "    <tr style=\"text-align: right;\">\n",
       "      <th></th>\n",
       "      <th>TotalCoinsMined</th>\n",
       "      <th>TotalCoinSupply</th>\n",
       "      <th>Algorithm_1GB AES Pattern Search</th>\n",
       "      <th>Algorithm_536</th>\n",
       "      <th>Algorithm_Argon2d</th>\n",
       "      <th>Algorithm_BLAKE256</th>\n",
       "      <th>Algorithm_Blake</th>\n",
       "      <th>Algorithm_Blake2S</th>\n",
       "      <th>Algorithm_Blake2b</th>\n",
       "      <th>Algorithm_C11</th>\n",
       "      <th>...</th>\n",
       "      <th>ProofType_PoW/PoS</th>\n",
       "      <th>ProofType_PoW/PoS</th>\n",
       "      <th>ProofType_PoW/PoW</th>\n",
       "      <th>ProofType_PoW/nPoS</th>\n",
       "      <th>ProofType_Pos</th>\n",
       "      <th>ProofType_Proof of Authority</th>\n",
       "      <th>ProofType_Proof of Trust</th>\n",
       "      <th>ProofType_TPoS</th>\n",
       "      <th>ProofType_Zero-Knowledge Proof</th>\n",
       "      <th>ProofType_dPoW/PoW</th>\n",
       "    </tr>\n",
       "  </thead>\n",
       "  <tbody>\n",
       "    <tr>\n",
       "      <th>42</th>\n",
       "      <td>4.199995e+01</td>\n",
       "      <td>4.200000e+01</td>\n",
       "      <td>0</td>\n",
       "      <td>0</td>\n",
       "      <td>0</td>\n",
       "      <td>0</td>\n",
       "      <td>0</td>\n",
       "      <td>0</td>\n",
       "      <td>0</td>\n",
       "      <td>0</td>\n",
       "      <td>...</td>\n",
       "      <td>1</td>\n",
       "      <td>0</td>\n",
       "      <td>0</td>\n",
       "      <td>0</td>\n",
       "      <td>0</td>\n",
       "      <td>0</td>\n",
       "      <td>0</td>\n",
       "      <td>0</td>\n",
       "      <td>0</td>\n",
       "      <td>0</td>\n",
       "    </tr>\n",
       "    <tr>\n",
       "      <th>404</th>\n",
       "      <td>1.055185e+09</td>\n",
       "      <td>5.320000e+08</td>\n",
       "      <td>0</td>\n",
       "      <td>0</td>\n",
       "      <td>0</td>\n",
       "      <td>0</td>\n",
       "      <td>0</td>\n",
       "      <td>0</td>\n",
       "      <td>0</td>\n",
       "      <td>0</td>\n",
       "      <td>...</td>\n",
       "      <td>1</td>\n",
       "      <td>0</td>\n",
       "      <td>0</td>\n",
       "      <td>0</td>\n",
       "      <td>0</td>\n",
       "      <td>0</td>\n",
       "      <td>0</td>\n",
       "      <td>0</td>\n",
       "      <td>0</td>\n",
       "      <td>0</td>\n",
       "    </tr>\n",
       "    <tr>\n",
       "      <th>1337</th>\n",
       "      <td>2.927942e+10</td>\n",
       "      <td>3.141593e+11</td>\n",
       "      <td>0</td>\n",
       "      <td>0</td>\n",
       "      <td>0</td>\n",
       "      <td>0</td>\n",
       "      <td>0</td>\n",
       "      <td>0</td>\n",
       "      <td>0</td>\n",
       "      <td>0</td>\n",
       "      <td>...</td>\n",
       "      <td>1</td>\n",
       "      <td>0</td>\n",
       "      <td>0</td>\n",
       "      <td>0</td>\n",
       "      <td>0</td>\n",
       "      <td>0</td>\n",
       "      <td>0</td>\n",
       "      <td>0</td>\n",
       "      <td>0</td>\n",
       "      <td>0</td>\n",
       "    </tr>\n",
       "    <tr>\n",
       "      <th>BTC</th>\n",
       "      <td>1.792718e+07</td>\n",
       "      <td>2.100000e+07</td>\n",
       "      <td>0</td>\n",
       "      <td>0</td>\n",
       "      <td>0</td>\n",
       "      <td>0</td>\n",
       "      <td>0</td>\n",
       "      <td>0</td>\n",
       "      <td>0</td>\n",
       "      <td>0</td>\n",
       "      <td>...</td>\n",
       "      <td>0</td>\n",
       "      <td>0</td>\n",
       "      <td>0</td>\n",
       "      <td>0</td>\n",
       "      <td>0</td>\n",
       "      <td>0</td>\n",
       "      <td>0</td>\n",
       "      <td>0</td>\n",
       "      <td>0</td>\n",
       "      <td>0</td>\n",
       "    </tr>\n",
       "    <tr>\n",
       "      <th>ETH</th>\n",
       "      <td>1.076842e+08</td>\n",
       "      <td>0.000000e+00</td>\n",
       "      <td>0</td>\n",
       "      <td>0</td>\n",
       "      <td>0</td>\n",
       "      <td>0</td>\n",
       "      <td>0</td>\n",
       "      <td>0</td>\n",
       "      <td>0</td>\n",
       "      <td>0</td>\n",
       "      <td>...</td>\n",
       "      <td>0</td>\n",
       "      <td>0</td>\n",
       "      <td>0</td>\n",
       "      <td>0</td>\n",
       "      <td>0</td>\n",
       "      <td>0</td>\n",
       "      <td>0</td>\n",
       "      <td>0</td>\n",
       "      <td>0</td>\n",
       "      <td>0</td>\n",
       "    </tr>\n",
       "    <tr>\n",
       "      <th>LTC</th>\n",
       "      <td>6.303924e+07</td>\n",
       "      <td>8.400000e+07</td>\n",
       "      <td>0</td>\n",
       "      <td>0</td>\n",
       "      <td>0</td>\n",
       "      <td>0</td>\n",
       "      <td>0</td>\n",
       "      <td>0</td>\n",
       "      <td>0</td>\n",
       "      <td>0</td>\n",
       "      <td>...</td>\n",
       "      <td>0</td>\n",
       "      <td>0</td>\n",
       "      <td>0</td>\n",
       "      <td>0</td>\n",
       "      <td>0</td>\n",
       "      <td>0</td>\n",
       "      <td>0</td>\n",
       "      <td>0</td>\n",
       "      <td>0</td>\n",
       "      <td>0</td>\n",
       "    </tr>\n",
       "    <tr>\n",
       "      <th>DASH</th>\n",
       "      <td>9.031294e+06</td>\n",
       "      <td>2.200000e+07</td>\n",
       "      <td>0</td>\n",
       "      <td>0</td>\n",
       "      <td>0</td>\n",
       "      <td>0</td>\n",
       "      <td>0</td>\n",
       "      <td>0</td>\n",
       "      <td>0</td>\n",
       "      <td>0</td>\n",
       "      <td>...</td>\n",
       "      <td>1</td>\n",
       "      <td>0</td>\n",
       "      <td>0</td>\n",
       "      <td>0</td>\n",
       "      <td>0</td>\n",
       "      <td>0</td>\n",
       "      <td>0</td>\n",
       "      <td>0</td>\n",
       "      <td>0</td>\n",
       "      <td>0</td>\n",
       "    </tr>\n",
       "    <tr>\n",
       "      <th>XMR</th>\n",
       "      <td>1.720114e+07</td>\n",
       "      <td>0.000000e+00</td>\n",
       "      <td>0</td>\n",
       "      <td>0</td>\n",
       "      <td>0</td>\n",
       "      <td>0</td>\n",
       "      <td>0</td>\n",
       "      <td>0</td>\n",
       "      <td>0</td>\n",
       "      <td>0</td>\n",
       "      <td>...</td>\n",
       "      <td>0</td>\n",
       "      <td>0</td>\n",
       "      <td>0</td>\n",
       "      <td>0</td>\n",
       "      <td>0</td>\n",
       "      <td>0</td>\n",
       "      <td>0</td>\n",
       "      <td>0</td>\n",
       "      <td>0</td>\n",
       "      <td>0</td>\n",
       "    </tr>\n",
       "    <tr>\n",
       "      <th>ETC</th>\n",
       "      <td>1.133597e+08</td>\n",
       "      <td>2.100000e+08</td>\n",
       "      <td>0</td>\n",
       "      <td>0</td>\n",
       "      <td>0</td>\n",
       "      <td>0</td>\n",
       "      <td>0</td>\n",
       "      <td>0</td>\n",
       "      <td>0</td>\n",
       "      <td>0</td>\n",
       "      <td>...</td>\n",
       "      <td>0</td>\n",
       "      <td>0</td>\n",
       "      <td>0</td>\n",
       "      <td>0</td>\n",
       "      <td>0</td>\n",
       "      <td>0</td>\n",
       "      <td>0</td>\n",
       "      <td>0</td>\n",
       "      <td>0</td>\n",
       "      <td>0</td>\n",
       "    </tr>\n",
       "    <tr>\n",
       "      <th>ZEC</th>\n",
       "      <td>7.383056e+06</td>\n",
       "      <td>2.100000e+07</td>\n",
       "      <td>0</td>\n",
       "      <td>0</td>\n",
       "      <td>0</td>\n",
       "      <td>0</td>\n",
       "      <td>0</td>\n",
       "      <td>0</td>\n",
       "      <td>0</td>\n",
       "      <td>0</td>\n",
       "      <td>...</td>\n",
       "      <td>0</td>\n",
       "      <td>0</td>\n",
       "      <td>0</td>\n",
       "      <td>0</td>\n",
       "      <td>0</td>\n",
       "      <td>0</td>\n",
       "      <td>0</td>\n",
       "      <td>0</td>\n",
       "      <td>0</td>\n",
       "      <td>0</td>\n",
       "    </tr>\n",
       "  </tbody>\n",
       "</table>\n",
       "<p>10 rows × 98 columns</p>\n",
       "</div>"
      ],
      "text/plain": [
       "      TotalCoinsMined  TotalCoinSupply  Algorithm_1GB AES Pattern Search  \\\n",
       "42       4.199995e+01     4.200000e+01                                 0   \n",
       "404      1.055185e+09     5.320000e+08                                 0   \n",
       "1337     2.927942e+10     3.141593e+11                                 0   \n",
       "BTC      1.792718e+07     2.100000e+07                                 0   \n",
       "ETH      1.076842e+08     0.000000e+00                                 0   \n",
       "LTC      6.303924e+07     8.400000e+07                                 0   \n",
       "DASH     9.031294e+06     2.200000e+07                                 0   \n",
       "XMR      1.720114e+07     0.000000e+00                                 0   \n",
       "ETC      1.133597e+08     2.100000e+08                                 0   \n",
       "ZEC      7.383056e+06     2.100000e+07                                 0   \n",
       "\n",
       "      Algorithm_536  Algorithm_Argon2d  Algorithm_BLAKE256  Algorithm_Blake  \\\n",
       "42                0                  0                   0                0   \n",
       "404               0                  0                   0                0   \n",
       "1337              0                  0                   0                0   \n",
       "BTC               0                  0                   0                0   \n",
       "ETH               0                  0                   0                0   \n",
       "LTC               0                  0                   0                0   \n",
       "DASH              0                  0                   0                0   \n",
       "XMR               0                  0                   0                0   \n",
       "ETC               0                  0                   0                0   \n",
       "ZEC               0                  0                   0                0   \n",
       "\n",
       "      Algorithm_Blake2S  Algorithm_Blake2b  Algorithm_C11  ...  \\\n",
       "42                    0                  0              0  ...   \n",
       "404                   0                  0              0  ...   \n",
       "1337                  0                  0              0  ...   \n",
       "BTC                   0                  0              0  ...   \n",
       "ETH                   0                  0              0  ...   \n",
       "LTC                   0                  0              0  ...   \n",
       "DASH                  0                  0              0  ...   \n",
       "XMR                   0                  0              0  ...   \n",
       "ETC                   0                  0              0  ...   \n",
       "ZEC                   0                  0              0  ...   \n",
       "\n",
       "      ProofType_PoW/PoS  ProofType_PoW/PoS   ProofType_PoW/PoW  \\\n",
       "42                    1                   0                  0   \n",
       "404                   1                   0                  0   \n",
       "1337                  1                   0                  0   \n",
       "BTC                   0                   0                  0   \n",
       "ETH                   0                   0                  0   \n",
       "LTC                   0                   0                  0   \n",
       "DASH                  1                   0                  0   \n",
       "XMR                   0                   0                  0   \n",
       "ETC                   0                   0                  0   \n",
       "ZEC                   0                   0                  0   \n",
       "\n",
       "      ProofType_PoW/nPoS  ProofType_Pos  ProofType_Proof of Authority  \\\n",
       "42                     0              0                             0   \n",
       "404                    0              0                             0   \n",
       "1337                   0              0                             0   \n",
       "BTC                    0              0                             0   \n",
       "ETH                    0              0                             0   \n",
       "LTC                    0              0                             0   \n",
       "DASH                   0              0                             0   \n",
       "XMR                    0              0                             0   \n",
       "ETC                    0              0                             0   \n",
       "ZEC                    0              0                             0   \n",
       "\n",
       "      ProofType_Proof of Trust  ProofType_TPoS  \\\n",
       "42                           0               0   \n",
       "404                          0               0   \n",
       "1337                         0               0   \n",
       "BTC                          0               0   \n",
       "ETH                          0               0   \n",
       "LTC                          0               0   \n",
       "DASH                         0               0   \n",
       "XMR                          0               0   \n",
       "ETC                          0               0   \n",
       "ZEC                          0               0   \n",
       "\n",
       "      ProofType_Zero-Knowledge Proof  ProofType_dPoW/PoW  \n",
       "42                                 0                   0  \n",
       "404                                0                   0  \n",
       "1337                               0                   0  \n",
       "BTC                                0                   0  \n",
       "ETH                                0                   0  \n",
       "LTC                                0                   0  \n",
       "DASH                               0                   0  \n",
       "XMR                                0                   0  \n",
       "ETC                                0                   0  \n",
       "ZEC                                0                   0  \n",
       "\n",
       "[10 rows x 98 columns]"
      ]
     },
     "execution_count": 37,
     "metadata": {},
     "output_type": "execute_result"
    }
   ],
   "source": [
    "# Use get_dummies() to create variables for text features.\n",
    "\n",
    "# 8. Use the get_dummies() method to create variables for the two text features,\n",
    "# Algorithm and ProofType, and store the resulting data in a new DataFrame\n",
    "# named X.\n",
    "\n",
    "# Convert TotalCoinSupply to a Float\n",
    "crypto_df['TotalCoinSupply'] = crypto_df['TotalCoinSupply'].astype(float)\n",
    "\n",
    "# Create our features\n",
    "colList = list(crypto_df.select_dtypes(include=['object']).columns)\n",
    "X = pd.get_dummies(crypto_df, columns=colList)\n",
    "X.head(10)\n"
   ]
  },
  {
   "cell_type": "code",
   "execution_count": 38,
   "metadata": {},
   "outputs": [
    {
     "name": "stdout",
     "output_type": "stream",
     "text": [
      "[[-0.11710817 -0.1528703  -0.0433963  ... -0.0433963  -0.0433963\n",
      "  -0.0433963 ]\n",
      " [-0.09396955 -0.145009   -0.0433963  ... -0.0433963  -0.0433963\n",
      "  -0.0433963 ]\n",
      " [ 0.52494561  4.48942416 -0.0433963  ... -0.0433963  -0.0433963\n",
      "  -0.0433963 ]\n",
      " ...\n",
      " [-0.09561336 -0.13217937 -0.0433963  ... -0.0433963  -0.0433963\n",
      "  -0.0433963 ]\n",
      " [-0.11694817 -0.15255998 -0.0433963  ... -0.0433963  -0.0433963\n",
      "  -0.0433963 ]\n",
      " [-0.11710536 -0.15285552 -0.0433963  ... -0.0433963  -0.0433963\n",
      "  -0.0433963 ]]\n"
     ]
    }
   ],
   "source": [
    "# 9. Use the StandardScaler fit_transform() function to standardize the \n",
    "# features from the X DataFrame.\n",
    "X = StandardScaler().fit_transform(X)\n",
    "print(X)"
   ]
  },
  {
   "cell_type": "markdown",
   "metadata": {},
   "source": [
    "### Deliverable 2: Reducing Data Dimensions Using PCA"
   ]
  },
  {
   "cell_type": "code",
   "execution_count": 39,
   "metadata": {},
   "outputs": [
    {
     "data": {
      "text/plain": [
       "array([[-0.32655906,  1.00561749, -0.50665389],\n",
       "       [-0.30997892,  1.00577147, -0.50714665],\n",
       "       [ 2.30097007,  1.6270767 , -0.62670845],\n",
       "       ...,\n",
       "       [ 0.3195048 , -2.29458403,  0.30754498],\n",
       "       [-0.16099694, -2.14633719,  0.3383093 ],\n",
       "       [-0.29662583,  0.84099641, -0.24768608]])"
      ]
     },
     "execution_count": 39,
     "metadata": {},
     "output_type": "execute_result"
    }
   ],
   "source": [
    "# Using PCA to reduce dimension to three principal components.\n",
    "\n",
    "# Now that the data has been standardized, we can use \n",
    "# PCA to reduce the number of features. The PCA method\n",
    "# takes an argument of n_components, which will pass in the\n",
    "# value of 3 to reduce from large number of features\n",
    "\n",
    "# Set number of components\n",
    "numComponents = 3\n",
    "\n",
    "# Initialize PCA model\n",
    "pca = PCA(n_components=numComponents)\n",
    "\n",
    "# Get principal components\n",
    "crypto_pca = pca.fit_transform(X)\n",
    "\n",
    "crypto_pca"
   ]
  },
  {
   "cell_type": "code",
   "execution_count": 40,
   "metadata": {},
   "outputs": [
    {
     "data": {
      "text/html": [
       "<div>\n",
       "<style scoped>\n",
       "    .dataframe tbody tr th:only-of-type {\n",
       "        vertical-align: middle;\n",
       "    }\n",
       "\n",
       "    .dataframe tbody tr th {\n",
       "        vertical-align: top;\n",
       "    }\n",
       "\n",
       "    .dataframe thead th {\n",
       "        text-align: right;\n",
       "    }\n",
       "</style>\n",
       "<table border=\"1\" class=\"dataframe\">\n",
       "  <thead>\n",
       "    <tr style=\"text-align: right;\">\n",
       "      <th></th>\n",
       "      <th>PC 1</th>\n",
       "      <th>PC 2</th>\n",
       "      <th>PC 3</th>\n",
       "    </tr>\n",
       "  </thead>\n",
       "  <tbody>\n",
       "    <tr>\n",
       "      <th>42</th>\n",
       "      <td>-0.326559</td>\n",
       "      <td>1.005617</td>\n",
       "      <td>-0.506654</td>\n",
       "    </tr>\n",
       "    <tr>\n",
       "      <th>404</th>\n",
       "      <td>-0.309979</td>\n",
       "      <td>1.005771</td>\n",
       "      <td>-0.507147</td>\n",
       "    </tr>\n",
       "    <tr>\n",
       "      <th>1337</th>\n",
       "      <td>2.300970</td>\n",
       "      <td>1.627077</td>\n",
       "      <td>-0.626708</td>\n",
       "    </tr>\n",
       "    <tr>\n",
       "      <th>BTC</th>\n",
       "      <td>-0.145388</td>\n",
       "      <td>-1.316354</td>\n",
       "      <td>0.193838</td>\n",
       "    </tr>\n",
       "    <tr>\n",
       "      <th>ETH</th>\n",
       "      <td>-0.161636</td>\n",
       "      <td>-1.997425</td>\n",
       "      <td>0.376821</td>\n",
       "    </tr>\n",
       "    <tr>\n",
       "      <th>LTC</th>\n",
       "      <td>-0.163463</td>\n",
       "      <td>-1.130222</td>\n",
       "      <td>-0.028788</td>\n",
       "    </tr>\n",
       "    <tr>\n",
       "      <th>DASH</th>\n",
       "      <td>-0.392496</td>\n",
       "      <td>1.222113</td>\n",
       "      <td>-0.387801</td>\n",
       "    </tr>\n",
       "    <tr>\n",
       "      <th>XMR</th>\n",
       "      <td>-0.157884</td>\n",
       "      <td>-2.185602</td>\n",
       "      <td>0.433603</td>\n",
       "    </tr>\n",
       "    <tr>\n",
       "      <th>ETC</th>\n",
       "      <td>-0.160087</td>\n",
       "      <td>-1.997522</td>\n",
       "      <td>0.376788</td>\n",
       "    </tr>\n",
       "    <tr>\n",
       "      <th>ZEC</th>\n",
       "      <td>-0.160996</td>\n",
       "      <td>-2.146337</td>\n",
       "      <td>0.338309</td>\n",
       "    </tr>\n",
       "  </tbody>\n",
       "</table>\n",
       "</div>"
      ],
      "text/plain": [
       "          PC 1      PC 2      PC 3\n",
       "42   -0.326559  1.005617 -0.506654\n",
       "404  -0.309979  1.005771 -0.507147\n",
       "1337  2.300970  1.627077 -0.626708\n",
       "BTC  -0.145388 -1.316354  0.193838\n",
       "ETH  -0.161636 -1.997425  0.376821\n",
       "LTC  -0.163463 -1.130222 -0.028788\n",
       "DASH -0.392496  1.222113 -0.387801\n",
       "XMR  -0.157884 -2.185602  0.433603\n",
       "ETC  -0.160087 -1.997522  0.376788\n",
       "ZEC  -0.160996 -2.146337  0.338309"
      ]
     },
     "execution_count": 40,
     "metadata": {},
     "output_type": "execute_result"
    }
   ],
   "source": [
    "# Create a DataFrame with the three principal components.\n",
    "# YOUR CODE HERE\n",
    "\n",
    "pcs_df = pd.DataFrame(\n",
    "    data=crypto_pca, columns=[\"PC 1\", \"PC 2\", \"PC 3\"], index=crypto_df.index)\n",
    "pcs_df.head(10)"
   ]
  },
  {
   "cell_type": "markdown",
   "metadata": {},
   "source": [
    "### Deliverable 3: Clustering Crytocurrencies Using K-Means\n",
    "\n",
    "#### Finding the Best Value for `k` Using the Elbow Curve"
   ]
  },
  {
   "cell_type": "code",
   "execution_count": 41,
   "metadata": {
    "scrolled": true
   },
   "outputs": [
    {
     "data": {},
     "metadata": {},
     "output_type": "display_data"
    },
    {
     "data": {
      "application/vnd.holoviews_exec.v0+json": "",
      "text/html": [
       "<div id='1536'>\n",
       "\n",
       "\n",
       "\n",
       "\n",
       "\n",
       "  <div class=\"bk-root\" id=\"0bbf753d-7d4a-42c5-bd0c-6e51d5c1c644\" data-root-id=\"1536\"></div>\n",
       "</div>\n",
       "<script type=\"application/javascript\">(function(root) {\n",
       "  function embed_document(root) {\n",
       "    var docs_json = {\"9dc3e5f4-b091-4f76-987b-c29da7a24195\":{\"defs\":[{\"extends\":null,\"module\":null,\"name\":\"ReactiveHTML1\",\"overrides\":[],\"properties\":[]},{\"extends\":null,\"module\":null,\"name\":\"FlexBox1\",\"overrides\":[],\"properties\":[{\"default\":\"flex-start\",\"kind\":null,\"name\":\"align_content\"},{\"default\":\"flex-start\",\"kind\":null,\"name\":\"align_items\"},{\"default\":\"row\",\"kind\":null,\"name\":\"flex_direction\"},{\"default\":\"wrap\",\"kind\":null,\"name\":\"flex_wrap\"},{\"default\":\"flex-start\",\"kind\":null,\"name\":\"justify_content\"}]},{\"extends\":null,\"module\":null,\"name\":\"GridStack1\",\"overrides\":[],\"properties\":[{\"default\":\"warn\",\"kind\":null,\"name\":\"mode\"},{\"default\":null,\"kind\":null,\"name\":\"ncols\"},{\"default\":null,\"kind\":null,\"name\":\"nrows\"},{\"default\":true,\"kind\":null,\"name\":\"allow_resize\"},{\"default\":true,\"kind\":null,\"name\":\"allow_drag\"},{\"default\":[],\"kind\":null,\"name\":\"state\"}]},{\"extends\":null,\"module\":null,\"name\":\"click1\",\"overrides\":[],\"properties\":[{\"default\":\"\",\"kind\":null,\"name\":\"terminal_output\"},{\"default\":\"\",\"kind\":null,\"name\":\"debug_name\"},{\"default\":0,\"kind\":null,\"name\":\"clears\"}]},{\"extends\":null,\"module\":null,\"name\":\"TemplateActions1\",\"overrides\":[],\"properties\":[{\"default\":0,\"kind\":null,\"name\":\"open_modal\"},{\"default\":0,\"kind\":null,\"name\":\"close_modal\"}]},{\"extends\":null,\"module\":null,\"name\":\"MaterialTemplateActions1\",\"overrides\":[],\"properties\":[{\"default\":0,\"kind\":null,\"name\":\"open_modal\"},{\"default\":0,\"kind\":null,\"name\":\"close_modal\"}]}],\"roots\":{\"references\":[{\"attributes\":{},\"id\":\"1582\",\"type\":\"BasicTickFormatter\"},{\"attributes\":{\"margin\":[5,5,5,5],\"name\":\"HSpacer02709\",\"sizing_mode\":\"stretch_width\"},\"id\":\"1607\",\"type\":\"Spacer\"},{\"attributes\":{\"line_color\":\"#30a2da\",\"line_width\":2,\"x\":{\"field\":\"k\"},\"y\":{\"field\":\"inertia\"}},\"id\":\"1579\",\"type\":\"Line\"},{\"attributes\":{\"data\":{\"inertia\":{\"__ndarray__\":\"ur4N94BvrEBvnjrd7l6jQNjDqPS4U5dADvSJkswHgUDtqTD8yeF2QPQmRi4uEXNA+XW68tuKbkDJXvlodSRpQJzLWiyxeGRA/elmXqgyXkA=\",\"dtype\":\"float64\",\"order\":\"little\",\"shape\":[10]},\"k\":[1,2,3,4,5,6,7,8,9,10]},\"selected\":{\"id\":\"1572\"},\"selection_policy\":{\"id\":\"1595\"}},\"id\":\"1571\",\"type\":\"ColumnDataSource\"},{\"attributes\":{\"tools\":[{\"id\":\"1540\"},{\"id\":\"1558\"},{\"id\":\"1559\"},{\"id\":\"1560\"},{\"id\":\"1561\"},{\"id\":\"1562\"}]},\"id\":\"1564\",\"type\":\"Toolbar\"},{\"attributes\":{\"coordinates\":null,\"data_source\":{\"id\":\"1571\"},\"glyph\":{\"id\":\"1574\"},\"group\":null,\"hover_glyph\":null,\"muted_glyph\":{\"id\":\"1576\"},\"nonselection_glyph\":{\"id\":\"1575\"},\"selection_glyph\":{\"id\":\"1579\"},\"view\":{\"id\":\"1578\"}},\"id\":\"1577\",\"type\":\"GlyphRenderer\"},{\"attributes\":{\"bottom_units\":\"screen\",\"coordinates\":null,\"fill_alpha\":0.5,\"fill_color\":\"lightgrey\",\"group\":null,\"left_units\":\"screen\",\"level\":\"overlay\",\"line_alpha\":1.0,\"line_color\":\"black\",\"line_dash\":[4,4],\"line_width\":2,\"right_units\":\"screen\",\"syncable\":false,\"top_units\":\"screen\"},\"id\":\"1563\",\"type\":\"BoxAnnotation\"},{\"attributes\":{\"end\":3991.647920715747,\"reset_end\":3991.647920715747,\"reset_start\":-231.1045094322215,\"start\":-231.1045094322215,\"tags\":[[[\"inertia\",\"inertia\",null]]]},\"id\":\"1539\",\"type\":\"Range1d\"},{\"attributes\":{},\"id\":\"1558\",\"type\":\"SaveTool\"},{\"attributes\":{},\"id\":\"1559\",\"type\":\"PanTool\"},{\"attributes\":{},\"id\":\"1588\",\"type\":\"AllLabels\"},{\"attributes\":{\"line_alpha\":0.2,\"line_color\":\"#30a2da\",\"line_width\":2,\"x\":{\"field\":\"k\"},\"y\":{\"field\":\"inertia\"}},\"id\":\"1576\",\"type\":\"Line\"},{\"attributes\":{},\"id\":\"1562\",\"type\":\"ResetTool\"},{\"attributes\":{\"line_alpha\":0.1,\"line_color\":\"#30a2da\",\"line_width\":2,\"x\":{\"field\":\"k\"},\"y\":{\"field\":\"inertia\"}},\"id\":\"1575\",\"type\":\"Line\"},{\"attributes\":{},\"id\":\"1560\",\"type\":\"WheelZoomTool\"},{\"attributes\":{\"overlay\":{\"id\":\"1563\"}},\"id\":\"1561\",\"type\":\"BoxZoomTool\"},{\"attributes\":{\"source\":{\"id\":\"1571\"}},\"id\":\"1578\",\"type\":\"CDSView\"},{\"attributes\":{},\"id\":\"1595\",\"type\":\"UnionRenderers\"},{\"attributes\":{},\"id\":\"1572\",\"type\":\"Selection\"},{\"attributes\":{},\"id\":\"1546\",\"type\":\"LinearScale\"},{\"attributes\":{\"callback\":null,\"renderers\":[{\"id\":\"1577\"}],\"tags\":[\"hv_created\"],\"tooltips\":[[\"k\",\"@{k}\"],[\"inertia\",\"@{inertia}\"]]},\"id\":\"1540\",\"type\":\"HoverTool\"},{\"attributes\":{\"coordinates\":null,\"group\":null,\"text\":\"Elbow Curve\",\"text_color\":\"black\",\"text_font_size\":\"12pt\"},\"id\":\"1542\",\"type\":\"Title\"},{\"attributes\":{\"end\":10.0,\"reset_end\":10.0,\"reset_start\":1.0,\"start\":1.0,\"tags\":[[[\"k\",\"k\",null]]]},\"id\":\"1538\",\"type\":\"Range1d\"},{\"attributes\":{\"axis\":{\"id\":\"1550\"},\"coordinates\":null,\"grid_line_color\":null,\"group\":null,\"ticker\":null},\"id\":\"1553\",\"type\":\"Grid\"},{\"attributes\":{},\"id\":\"1548\",\"type\":\"LinearScale\"},{\"attributes\":{\"ticks\":[1,2,3,4,5,6,7,8,9,10]},\"id\":\"1580\",\"type\":\"FixedTicker\"},{\"attributes\":{\"axis_label\":\"inertia\",\"coordinates\":null,\"formatter\":{\"id\":\"1587\"},\"group\":null,\"major_label_policy\":{\"id\":\"1588\"},\"ticker\":{\"id\":\"1555\"}},\"id\":\"1554\",\"type\":\"LinearAxis\"},{\"attributes\":{\"axis_label\":\"k\",\"coordinates\":null,\"formatter\":{\"id\":\"1582\"},\"group\":null,\"major_label_policy\":{\"id\":\"1583\"},\"ticker\":{\"id\":\"1580\"}},\"id\":\"1550\",\"type\":\"LinearAxis\"},{\"attributes\":{},\"id\":\"1587\",\"type\":\"BasicTickFormatter\"},{\"attributes\":{\"below\":[{\"id\":\"1550\"}],\"center\":[{\"id\":\"1553\"},{\"id\":\"1557\"}],\"height\":300,\"left\":[{\"id\":\"1554\"}],\"margin\":[5,5,5,5],\"min_border_bottom\":10,\"min_border_left\":10,\"min_border_right\":10,\"min_border_top\":10,\"renderers\":[{\"id\":\"1577\"}],\"sizing_mode\":\"fixed\",\"title\":{\"id\":\"1542\"},\"toolbar\":{\"id\":\"1564\"},\"width\":700,\"x_range\":{\"id\":\"1538\"},\"x_scale\":{\"id\":\"1546\"},\"y_range\":{\"id\":\"1539\"},\"y_scale\":{\"id\":\"1548\"}},\"id\":\"1541\",\"subtype\":\"Figure\",\"type\":\"Plot\"},{\"attributes\":{\"line_color\":\"#30a2da\",\"line_width\":2,\"x\":{\"field\":\"k\"},\"y\":{\"field\":\"inertia\"}},\"id\":\"1574\",\"type\":\"Line\"},{\"attributes\":{\"axis\":{\"id\":\"1554\"},\"coordinates\":null,\"dimension\":1,\"grid_line_color\":null,\"group\":null,\"ticker\":null},\"id\":\"1557\",\"type\":\"Grid\"},{\"attributes\":{\"margin\":[5,5,5,5],\"name\":\"HSpacer02708\",\"sizing_mode\":\"stretch_width\"},\"id\":\"1537\",\"type\":\"Spacer\"},{\"attributes\":{},\"id\":\"1555\",\"type\":\"BasicTicker\"},{\"attributes\":{\"children\":[{\"id\":\"1537\"},{\"id\":\"1541\"},{\"id\":\"1607\"}],\"margin\":[0,0,0,0],\"name\":\"Row02704\",\"tags\":[\"embedded\"]},\"id\":\"1536\",\"type\":\"Row\"},{\"attributes\":{},\"id\":\"1583\",\"type\":\"AllLabels\"}],\"root_ids\":[\"1536\"]},\"title\":\"Bokeh Application\",\"version\":\"2.4.2\"}};\n",
       "    var render_items = [{\"docid\":\"9dc3e5f4-b091-4f76-987b-c29da7a24195\",\"root_ids\":[\"1536\"],\"roots\":{\"1536\":\"0bbf753d-7d4a-42c5-bd0c-6e51d5c1c644\"}}];\n",
       "    root.Bokeh.embed.embed_items_notebook(docs_json, render_items);\n",
       "  }\n",
       "  if (root.Bokeh !== undefined && root.Bokeh.Panel !== undefined) {\n",
       "    embed_document(root);\n",
       "  } else {\n",
       "    var attempts = 0;\n",
       "    var timer = setInterval(function(root) {\n",
       "      if (root.Bokeh !== undefined && root.Bokeh.Panel !== undefined) {\n",
       "        clearInterval(timer);\n",
       "        embed_document(root);\n",
       "      } else if (document.readyState == \"complete\") {\n",
       "        attempts++;\n",
       "        if (attempts > 200) {\n",
       "          clearInterval(timer);\n",
       "          console.log(\"Bokeh: ERROR: Unable to run BokehJS code because BokehJS library is missing\");\n",
       "        }\n",
       "      }\n",
       "    }, 25, root)\n",
       "  }\n",
       "})(window);</script>"
      ],
      "text/plain": [
       ":Curve   [k]   (inertia)"
      ]
     },
     "execution_count": 41,
     "metadata": {
      "application/vnd.holoviews_exec.v0+json": {
       "id": "1536"
      }
     },
     "output_type": "execute_result"
    }
   ],
   "source": [
    "# 2. Using the pcs_df DataFrame, create an elbow curve using hvPlot to find the\n",
    "# best value for K.\n",
    "\n",
    "# Create an elbow curve to find the best value for K.\n",
    "\n",
    "# We'll start with creating an empty list to hold inertia values. \n",
    "# We'll also store a range of K values we want to test. Enter the code in a new cell:\n",
    "inertia = []\n",
    "k = list(range(1, 11))\n",
    "\n",
    "# Next, we'll loop through each K value, \n",
    "# find the inertia, and store it into our list. Enter the code in the next cell:\n",
    "\n",
    "# Looking for the best K\n",
    "for i in k:\n",
    "    km = KMeans(n_clusters=i, random_state=0)\n",
    "    km.fit(pcs_df)\n",
    "    inertia.append(km.inertia_)\n",
    "\n",
    "# We'll create a DataFrame that stores our K values and their appropriate inertia values. \n",
    "# This will allow for an easy plot of the results withhvplot. In another new cell, enter the code:\n",
    "\n",
    "# Define a DataFrame to plot the Elbow Curve using hvPlot\n",
    "elbow_data = {\"k\": k, \"inertia\": inertia}\n",
    "df_elbow = pd.DataFrame(elbow_data)\n",
    "df_elbow.hvplot.line(x=\"k\", y=\"inertia\", title=\"Elbow Curve\", xticks=k)\n",
    "\n"
   ]
  },
  {
   "cell_type": "markdown",
   "metadata": {},
   "source": [
    "Running K-Means with `k=4`"
   ]
  },
  {
   "cell_type": "code",
   "execution_count": 42,
   "metadata": {},
   "outputs": [
    {
     "data": {
      "text/plain": [
       "array([0, 0, 0, 1, 1, 1, 0, 1, 1, 1, 0, 1, 0, 0, 1, 0, 1, 1, 0, 0, 1, 1,\n",
       "       1, 1, 1, 0, 1, 1, 1, 0, 1, 0, 1, 1, 0, 0, 1, 1, 1, 1, 1, 1, 0, 0,\n",
       "       1, 1, 1, 1, 1, 0, 0, 1, 0, 1, 1, 1, 1, 0, 1, 1, 0, 1, 0, 0, 0, 1,\n",
       "       1, 1, 0, 0, 0, 0, 0, 1, 1, 1, 0, 0, 1, 0, 1, 0, 0, 1, 1, 1, 1, 0,\n",
       "       0, 1, 0, 1, 1, 0, 0, 1, 0, 0, 1, 1, 0, 0, 1, 0, 0, 1, 0, 1, 0, 1,\n",
       "       0, 1, 0, 0, 1, 1, 0, 1, 1, 1, 0, 1, 1, 1, 1, 1, 0, 0, 1, 1, 1, 0,\n",
       "       1, 0, 1, 1, 0, 1, 0, 1, 0, 0, 1, 1, 0, 1, 1, 0, 0, 1, 0, 1, 0, 0,\n",
       "       0, 1, 1, 1, 1, 0, 0, 0, 0, 0, 1, 1, 0, 0, 0, 0, 0, 1, 0, 0, 0, 0,\n",
       "       0, 1, 0, 1, 0, 0, 1, 0, 1, 0, 0, 1, 0, 1, 0, 1, 0, 1, 0, 0, 0, 0,\n",
       "       1, 0, 0, 0, 0, 0, 1, 1, 0, 0, 1, 1, 0, 0, 0, 0, 0, 1, 0, 0, 0, 0,\n",
       "       0, 0, 0, 0, 1, 0, 0, 0, 0, 0, 0, 1, 1, 1, 0, 0, 0, 0, 1, 0, 1, 0,\n",
       "       0, 1, 0, 1, 1, 0, 1, 1, 0, 1, 0, 0, 0, 1, 0, 0, 1, 0, 0, 0, 0, 0,\n",
       "       0, 0, 1, 0, 1, 0, 0, 0, 0, 1, 0, 1, 0, 1, 1, 1, 1, 0, 1, 0, 0, 1,\n",
       "       0, 1, 1, 1, 0, 1, 0, 1, 1, 1, 0, 1, 0, 1, 0, 0, 3, 1, 0, 1, 1, 1,\n",
       "       1, 1, 0, 0, 1, 0, 0, 0, 1, 0, 1, 0, 1, 0, 1, 0, 0, 0, 0, 1, 0, 0,\n",
       "       1, 0, 0, 0, 1, 1, 1, 1, 0, 0, 0, 0, 1, 0, 1, 1, 1, 0, 0, 1, 1, 0,\n",
       "       0, 1, 0, 1, 1, 1, 0, 1, 1, 0, 0, 0, 1, 1, 1, 0, 0, 0, 1, 1, 0, 1,\n",
       "       1, 1, 1, 0, 3, 3, 1, 1, 1, 0, 3, 0, 0, 0, 0, 1, 1, 1, 1, 0, 0, 0,\n",
       "       1, 0, 1, 0, 0, 0, 0, 1, 0, 0, 1, 0, 0, 1, 1, 0, 1, 0, 1, 1, 1, 1,\n",
       "       0, 0, 1, 0, 1, 0, 0, 0, 0, 0, 0, 1, 1, 1, 0, 0, 0, 0, 0, 0, 1, 0,\n",
       "       1, 1, 1, 1, 0, 0, 0, 0, 1, 0, 0, 1, 0, 0, 1, 0, 1, 0, 1, 1, 0, 0,\n",
       "       1, 0, 1, 1, 1, 1, 1, 0, 1, 0, 1, 0, 0, 1, 0, 0, 0, 0, 0, 1, 1, 1,\n",
       "       0, 0, 0, 1, 0, 1, 0, 1, 0, 0, 0, 0, 1, 0, 0, 0, 1, 0, 1, 0, 1, 0,\n",
       "       0, 0, 1, 1, 0, 0, 0, 0, 0, 0, 1, 0, 1, 0, 1, 0, 0, 0, 0, 2, 0, 0,\n",
       "       0, 1, 1, 0])"
      ]
     },
     "execution_count": 42,
     "metadata": {},
     "output_type": "execute_result"
    }
   ],
   "source": [
    "# 3. Next, use the pcs_df DataFrame to run the K-means algorithm to make \n",
    "# predictions of the K clusters for the cryptocurrencies’ data.\n",
    "\n",
    "# Initialize the K-Means model.\n",
    "model = KMeans(n_clusters=4)\n",
    "\n",
    "# Fit the model\n",
    "model.fit(pcs_df)\n",
    "\n",
    "# Predict clusters\n",
    "predictions = model.predict(pcs_df)\n",
    "\n",
    "predictions"
   ]
  },
  {
   "cell_type": "code",
   "execution_count": 43,
   "metadata": {},
   "outputs": [
    {
     "name": "stdout",
     "output_type": "stream",
     "text": [
      "(532, 9)\n"
     ]
    },
    {
     "data": {
      "text/html": [
       "<div>\n",
       "<style scoped>\n",
       "    .dataframe tbody tr th:only-of-type {\n",
       "        vertical-align: middle;\n",
       "    }\n",
       "\n",
       "    .dataframe tbody tr th {\n",
       "        vertical-align: top;\n",
       "    }\n",
       "\n",
       "    .dataframe thead th {\n",
       "        text-align: right;\n",
       "    }\n",
       "</style>\n",
       "<table border=\"1\" class=\"dataframe\">\n",
       "  <thead>\n",
       "    <tr style=\"text-align: right;\">\n",
       "      <th></th>\n",
       "      <th>Algorithm</th>\n",
       "      <th>ProofType</th>\n",
       "      <th>TotalCoinsMined</th>\n",
       "      <th>TotalCoinSupply</th>\n",
       "      <th>PC 1</th>\n",
       "      <th>PC 2</th>\n",
       "      <th>PC 3</th>\n",
       "      <th>CoinName</th>\n",
       "      <th>Class</th>\n",
       "    </tr>\n",
       "  </thead>\n",
       "  <tbody>\n",
       "    <tr>\n",
       "      <th>42</th>\n",
       "      <td>Scrypt</td>\n",
       "      <td>PoW/PoS</td>\n",
       "      <td>4.199995e+01</td>\n",
       "      <td>4.200000e+01</td>\n",
       "      <td>-0.326559</td>\n",
       "      <td>1.005617</td>\n",
       "      <td>-0.506654</td>\n",
       "      <td>42 Coin</td>\n",
       "      <td>0</td>\n",
       "    </tr>\n",
       "    <tr>\n",
       "      <th>404</th>\n",
       "      <td>Scrypt</td>\n",
       "      <td>PoW/PoS</td>\n",
       "      <td>1.055185e+09</td>\n",
       "      <td>5.320000e+08</td>\n",
       "      <td>-0.309979</td>\n",
       "      <td>1.005771</td>\n",
       "      <td>-0.507147</td>\n",
       "      <td>404Coin</td>\n",
       "      <td>0</td>\n",
       "    </tr>\n",
       "    <tr>\n",
       "      <th>1337</th>\n",
       "      <td>X13</td>\n",
       "      <td>PoW/PoS</td>\n",
       "      <td>2.927942e+10</td>\n",
       "      <td>3.141593e+11</td>\n",
       "      <td>2.300970</td>\n",
       "      <td>1.627077</td>\n",
       "      <td>-0.626708</td>\n",
       "      <td>EliteCoin</td>\n",
       "      <td>0</td>\n",
       "    </tr>\n",
       "    <tr>\n",
       "      <th>BTC</th>\n",
       "      <td>SHA-256</td>\n",
       "      <td>PoW</td>\n",
       "      <td>1.792718e+07</td>\n",
       "      <td>2.100000e+07</td>\n",
       "      <td>-0.145388</td>\n",
       "      <td>-1.316354</td>\n",
       "      <td>0.193838</td>\n",
       "      <td>Bitcoin</td>\n",
       "      <td>1</td>\n",
       "    </tr>\n",
       "    <tr>\n",
       "      <th>ETH</th>\n",
       "      <td>Ethash</td>\n",
       "      <td>PoW</td>\n",
       "      <td>1.076842e+08</td>\n",
       "      <td>0.000000e+00</td>\n",
       "      <td>-0.161636</td>\n",
       "      <td>-1.997425</td>\n",
       "      <td>0.376821</td>\n",
       "      <td>Ethereum</td>\n",
       "      <td>1</td>\n",
       "    </tr>\n",
       "    <tr>\n",
       "      <th>LTC</th>\n",
       "      <td>Scrypt</td>\n",
       "      <td>PoW</td>\n",
       "      <td>6.303924e+07</td>\n",
       "      <td>8.400000e+07</td>\n",
       "      <td>-0.163463</td>\n",
       "      <td>-1.130222</td>\n",
       "      <td>-0.028788</td>\n",
       "      <td>Litecoin</td>\n",
       "      <td>1</td>\n",
       "    </tr>\n",
       "    <tr>\n",
       "      <th>DASH</th>\n",
       "      <td>X11</td>\n",
       "      <td>PoW/PoS</td>\n",
       "      <td>9.031294e+06</td>\n",
       "      <td>2.200000e+07</td>\n",
       "      <td>-0.392496</td>\n",
       "      <td>1.222113</td>\n",
       "      <td>-0.387801</td>\n",
       "      <td>Dash</td>\n",
       "      <td>0</td>\n",
       "    </tr>\n",
       "    <tr>\n",
       "      <th>XMR</th>\n",
       "      <td>CryptoNight-V7</td>\n",
       "      <td>PoW</td>\n",
       "      <td>1.720114e+07</td>\n",
       "      <td>0.000000e+00</td>\n",
       "      <td>-0.157884</td>\n",
       "      <td>-2.185602</td>\n",
       "      <td>0.433603</td>\n",
       "      <td>Monero</td>\n",
       "      <td>1</td>\n",
       "    </tr>\n",
       "    <tr>\n",
       "      <th>ETC</th>\n",
       "      <td>Ethash</td>\n",
       "      <td>PoW</td>\n",
       "      <td>1.133597e+08</td>\n",
       "      <td>2.100000e+08</td>\n",
       "      <td>-0.160087</td>\n",
       "      <td>-1.997522</td>\n",
       "      <td>0.376788</td>\n",
       "      <td>Ethereum Classic</td>\n",
       "      <td>1</td>\n",
       "    </tr>\n",
       "    <tr>\n",
       "      <th>ZEC</th>\n",
       "      <td>Equihash</td>\n",
       "      <td>PoW</td>\n",
       "      <td>7.383056e+06</td>\n",
       "      <td>2.100000e+07</td>\n",
       "      <td>-0.160996</td>\n",
       "      <td>-2.146337</td>\n",
       "      <td>0.338309</td>\n",
       "      <td>ZCash</td>\n",
       "      <td>1</td>\n",
       "    </tr>\n",
       "  </tbody>\n",
       "</table>\n",
       "</div>"
      ],
      "text/plain": [
       "           Algorithm ProofType  TotalCoinsMined  TotalCoinSupply      PC 1  \\\n",
       "42            Scrypt   PoW/PoS     4.199995e+01     4.200000e+01 -0.326559   \n",
       "404           Scrypt   PoW/PoS     1.055185e+09     5.320000e+08 -0.309979   \n",
       "1337             X13   PoW/PoS     2.927942e+10     3.141593e+11  2.300970   \n",
       "BTC          SHA-256       PoW     1.792718e+07     2.100000e+07 -0.145388   \n",
       "ETH           Ethash       PoW     1.076842e+08     0.000000e+00 -0.161636   \n",
       "LTC           Scrypt       PoW     6.303924e+07     8.400000e+07 -0.163463   \n",
       "DASH             X11   PoW/PoS     9.031294e+06     2.200000e+07 -0.392496   \n",
       "XMR   CryptoNight-V7       PoW     1.720114e+07     0.000000e+00 -0.157884   \n",
       "ETC           Ethash       PoW     1.133597e+08     2.100000e+08 -0.160087   \n",
       "ZEC         Equihash       PoW     7.383056e+06     2.100000e+07 -0.160996   \n",
       "\n",
       "          PC 2      PC 3          CoinName  Class  \n",
       "42    1.005617 -0.506654           42 Coin      0  \n",
       "404   1.005771 -0.507147           404Coin      0  \n",
       "1337  1.627077 -0.626708         EliteCoin      0  \n",
       "BTC  -1.316354  0.193838           Bitcoin      1  \n",
       "ETH  -1.997425  0.376821          Ethereum      1  \n",
       "LTC  -1.130222 -0.028788          Litecoin      1  \n",
       "DASH  1.222113 -0.387801              Dash      0  \n",
       "XMR  -2.185602  0.433603            Monero      1  \n",
       "ETC  -1.997522  0.376788  Ethereum Classic      1  \n",
       "ZEC  -2.146337  0.338309             ZCash      1  "
      ]
     },
     "execution_count": 43,
     "metadata": {},
     "output_type": "execute_result"
    }
   ],
   "source": [
    "# 4. Create a new DataFrame named clustered_df by concatenating the \n",
    "# crypto_df and pcs_df DataFrames on the same columns. \n",
    "# The index should be the same as the crypto_df DataFrame.\n",
    "\n",
    "clustered_df = pd.merge(crypto_df, pcs_df, left_index=True, right_index=True)\n",
    "\n",
    "#  Add a new column, \"CoinName\" to the clustered_df DataFrame that holds the names of the cryptocurrencies. \n",
    "clustered_df = clustered_df.merge(crypto_name_list_df[['CoinName']], left_index=True, right_index=True, how = 'left')\n",
    "\n",
    "#  Add a new column, \"Class\" to the clustered_df DataFrame that holds the predictions.\n",
    "\n",
    "clustered_df[\"Class\"] = model.labels_\n",
    "\n",
    "# Print the shape of the clustered_df\n",
    "print(clustered_df.shape)\n",
    "clustered_df.head(10)"
   ]
  },
  {
   "cell_type": "markdown",
   "metadata": {},
   "source": [
    "### Deliverable 4: Visualizing Cryptocurrencies Results\n",
    "\n",
    "#### 3D-Scatter with Clusters\n",
    "\n",
    "2. Create a 3D scatter plot using the Plotly Express scatter_3d() function to plot the three clusters from the clustered_df DataFrame.\n",
    "\n",
    "3. Add the CoinName and Algorithm columns to the hover_name and hover_data parameters, respectively, so each data point shows the CoinName and Algorithm on hover.\n",
    "\n",
    "4. Create a table with tradable cryptocurrencies using the hvplot.table() function.\n",
    "\n",
    "5. Print the total number of tradable cryptocurrencies in the clustered_df DataFrame.\n",
    "\n",
    "6. Use the MinMaxScaler().fit_transform method to scale the TotalCoinSupply and TotalCoinsMined columns between the given range of zero and one.\n",
    "\n",
    "7. Create a new DataFrame using the clustered_df DataFrame index that contains the scaled data you created in Step 5.\n",
    "\n",
    "8. Add the CoinName column from the clustered_df DataFrame to the new DataFrame.\n",
    "\n",
    "9. Add the Class column from the clustered_df DataFrame to the new DataFrame.\n",
    "\n",
    "10. Create an hvplot scatter plot with x=\"TotalCoinsMined\", y=\"TotalCoinSupply\", and by=\"Class\", and have it show the CoinName when you hover over the the data point."
   ]
  },
  {
   "cell_type": "code",
   "execution_count": 44,
   "metadata": {},
   "outputs": [
    {
     "data": {
      "application/vnd.plotly.v1+json": {
       "config": {
        "plotlyServerURL": "https://plot.ly"
       },
       "data": [
        {
         "customdata": [
          [
           "42 Coin",
           "Scrypt"
          ],
          [
           "404Coin",
           "Scrypt"
          ],
          [
           "EliteCoin",
           "X13"
          ],
          [
           "Dash",
           "X11"
          ],
          [
           "Bitshares",
           "SHA-512"
          ],
          [
           "BitcoinDark",
           "SHA-256"
          ],
          [
           "PayCoin",
           "SHA-256"
          ],
          [
           "KoboCoin",
           "X15"
          ],
          [
           "Aurora Coin",
           "Scrypt"
          ],
          [
           "BlueCoin",
           "Scrypt"
          ],
          [
           "EnergyCoin",
           "Scrypt"
          ],
          [
           "BitBar",
           "Scrypt"
          ],
          [
           "CryptoBullion",
           "Scrypt"
          ],
          [
           "CasinoCoin",
           "Scrypt"
          ],
          [
           "Diamond",
           "Groestl"
          ],
          [
           "Exclusive Coin",
           "PoS"
          ],
          [
           "FlutterCoin",
           "Scrypt"
          ],
          [
           "HoboNickels",
           "Scrypt"
          ],
          [
           "HyperStake",
           "X11"
          ],
          [
           "IOCoin",
           "X11"
          ],
          [
           "MaxCoin",
           "SHA3"
          ],
          [
           "MintCoin",
           "Scrypt"
          ],
          [
           "MazaCoin",
           "SHA-256"
          ],
          [
           "Nautilus Coin",
           "Scrypt"
          ],
          [
           "NavCoin",
           "X13"
          ],
          [
           "OpalCoin",
           "X13"
          ],
          [
           "Orbitcoin",
           "NeoScrypt"
          ],
          [
           "PotCoin",
           "Scrypt"
          ],
          [
           "PhoenixCoin",
           "Scrypt"
          ],
          [
           "Reddcoin",
           "Scrypt"
          ],
          [
           "SuperCoin",
           "X11"
          ],
          [
           "SyncCoin",
           "X11"
          ],
          [
           "TeslaCoin",
           "Multiple"
          ],
          [
           "TittieCoin",
           "PHI1612"
          ],
          [
           "TorCoin",
           "X11"
          ],
          [
           "UnitaryStatus Dollar",
           "Scrypt"
          ],
          [
           "UltraCoin",
           "Scrypt"
          ],
          [
           "VeriCoin",
           "Scrypt"
          ],
          [
           "X11 Coin",
           "X11"
          ],
          [
           "Crypti",
           "Multiple"
          ],
          [
           "StealthCoin",
           "X13"
          ],
          [
           "ZCC Coin",
           "Scrypt"
          ],
          [
           "BurstCoin",
           "Shabal256"
          ],
          [
           "StorjCoin",
           "Counterparty"
          ],
          [
           "Neutron",
           "SHA-256"
          ],
          [
           "FairCoin",
           "Groestl"
          ],
          [
           "RubyCoin",
           "Scrypt"
          ],
          [
           "Kore",
           "X13"
          ],
          [
           "Dnotes",
           "Scrypt"
          ],
          [
           "8BIT Coin",
           "Scrypt"
          ],
          [
           "Sativa Coin",
           "X13"
          ],
          [
           "Ucoin",
           "X11"
          ],
          [
           "Vtorrent",
           "Scrypt"
          ],
          [
           "IslaCoin",
           "X11"
          ],
          [
           "Nexus",
           "SHA3"
          ],
          [
           "Droidz",
           "QUAIT"
          ],
          [
           "Squall Coin",
           "X11"
          ],
          [
           "Diggits",
           "Scrypt"
          ],
          [
           "Paycon",
           "X13"
          ],
          [
           "Emercoin",
           "SHA-256"
          ],
          [
           "EverGreenCoin",
           "X15"
          ],
          [
           "Decred",
           "BLAKE256"
          ],
          [
           "EDRCoin",
           "SHA-256"
          ],
          [
           "Hitcoin",
           "X11"
          ],
          [
           "DubaiCoin",
           "SHA-256"
          ],
          [
           "PWR Coin",
           "NIST5"
          ],
          [
           "BillaryCoin",
           "Scrypt"
          ],
          [
           "GPU Coin",
           "Scrypt"
          ],
          [
           "EuropeCoin",
           "X11"
          ],
          [
           "ZeitCoin",
           "Scrypt"
          ],
          [
           "SwingCoin",
           "SHA-256"
          ],
          [
           "SafeExchangeCoin",
           "Scrypt"
          ],
          [
           "Nebuchadnezzar",
           "PoS"
          ],
          [
           "Ratecoin",
           "X11"
          ],
          [
           "Revenu",
           "SHA-256"
          ],
          [
           "Clockcoin",
           "SHA-256"
          ],
          [
           "VIP Tokens",
           "NIST5"
          ],
          [
           "BitSend",
           "X11"
          ],
          [
           "Let it Ride",
           "POS 3.0"
          ],
          [
           "PutinCoin",
           "Scrypt"
          ],
          [
           "iBankCoin",
           "Scrypt"
          ],
          [
           "Frankywillcoin",
           "Scrypt"
          ],
          [
           "MudraCoin",
           "X13"
          ],
          [
           "Lutetium Coin",
           "X11"
          ],
          [
           "GoldBlocks",
           "X11"
          ],
          [
           "CarterCoin",
           "Scrypt"
          ],
          [
           "BitTokens",
           "SHA-256"
          ],
          [
           "MustangCoin",
           "X11"
          ],
          [
           "ZoneCoin",
           "Scrypt"
          ],
          [
           "RootCoin",
           "Scrypt"
          ],
          [
           "BitCurrency",
           "Scrypt"
          ],
          [
           "Swiscoin",
           "Scrypt"
          ],
          [
           "BuzzCoin",
           "SHA-256D"
          ],
          [
           "Opair",
           "PoS"
          ],
          [
           "PesoBit",
           "Scrypt"
          ],
          [
           "Halloween Coin",
           "X11"
          ],
          [
           "CoffeeCoin",
           "PoS"
          ],
          [
           "RoyalCoin",
           "X13"
          ],
          [
           "GanjaCoin V2",
           "X14"
          ],
          [
           "TeamUP",
           "PoS"
          ],
          [
           "LanaCoin",
           "SHA-256D"
          ],
          [
           "ARK",
           "DPoS"
          ],
          [
           "InsaneCoin",
           "X11"
          ],
          [
           "EmberCoin",
           "X13"
          ],
          [
           "XenixCoin",
           "X11"
          ],
          [
           "FreeCoin",
           "PoS"
          ],
          [
           "PLNCoin",
           "Scrypt"
          ],
          [
           "AquariusCoin",
           "Scrypt"
          ],
          [
           "Creatio",
           "PoS"
          ],
          [
           "Eternity",
           "X11"
          ],
          [
           "Eurocoin",
           "SHA-256"
          ],
          [
           "BitcoinFast",
           "Scrypt"
          ],
          [
           "Stakenet",
           "X11"
          ],
          [
           "BitConnect Coin",
           "Scrypt"
          ],
          [
           "MoneyCoin",
           "Scrypt"
          ],
          [
           "Enigma",
           "X11"
          ],
          [
           "Russiacoin",
           "Scrypt"
          ],
          [
           "PandaCoin",
           "Scrypt"
          ],
          [
           "GameUnits",
           "Scrypt"
          ],
          [
           "GAKHcoin",
           "Scrypt"
          ],
          [
           "Allsafe",
           "Quark"
          ],
          [
           "LiteCreed",
           "QuBit"
          ],
          [
           "Klingon Empire Darsek",
           "Scrypt"
          ],
          [
           "Internet of People",
           "SHA-256"
          ],
          [
           "KushCoin",
           "X11"
          ],
          [
           "Printerium",
           "Scrypt"
          ],
          [
           "Impeach",
           "Scrypt"
          ],
          [
           "Zilbercoin",
           "Scrypt"
          ],
          [
           "FirstCoin",
           "Scrypt"
          ],
          [
           "FindCoin",
           "X13"
          ],
          [
           "OpenChat",
           "Scrypt"
          ],
          [
           "RenosCoin",
           "Scrypt"
          ],
          [
           "VirtacoinPlus",
           "X11"
          ],
          [
           "TajCoin",
           "Blake2S"
          ],
          [
           "Impact",
           "X11"
          ],
          [
           "Atmos",
           "PoS"
          ],
          [
           "HappyCoin",
           "X11"
          ],
          [
           "MacronCoin",
           "PoS"
          ],
          [
           "Condensate",
           "X11"
          ],
          [
           "Independent Money System",
           "Scrypt"
          ],
          [
           "ArgusCoin",
           "Scrypt"
          ],
          [
           "LomoCoin",
           "Scrypt"
          ],
          [
           "ProCurrency",
           "SHA-256"
          ],
          [
           "GoldReserve",
           "X11"
          ],
          [
           "GrowthCoin",
           "Scrypt"
          ],
          [
           "Phreak",
           "PoS"
          ],
          [
           "Degas Coin",
           "Scrypt"
          ],
          [
           "HTML5 Coin",
           "X15"
          ],
          [
           "Ultimate Secure Cash",
           "SHA-256"
          ],
          [
           "QTUM",
           "POS 3.0"
          ],
          [
           "Espers",
           "536"
          ],
          [
           "Denarius",
           "NIST5"
          ],
          [
           "Virta Unique Coin",
           "NIST5"
          ],
          [
           "Bitcoin Planet",
           "Skein"
          ],
          [
           "BritCoin",
           "X13"
          ],
          [
           "Linda",
           "Scrypt"
          ],
          [
           "DeepOnion",
           "X13"
          ],
          [
           "Signatum",
           "SkunkHash v2 Raptor"
          ],
          [
           "Cream",
           "Skein"
          ],
          [
           "Monoeci",
           "X11"
          ],
          [
           "Draftcoin",
           "Scrypt"
          ],
          [
           "Stakecoin",
           "PoS"
          ],
          [
           "CoinonatX",
           "Scrypt"
          ],
          [
           "Ethereum Dark",
           "Scrypt"
          ],
          [
           "Obsidian",
           "SHA-512"
          ],
          [
           "Cardano",
           "Ouroboros"
          ],
          [
           "Regalcoin",
           "X11"
          ],
          [
           "TrezarCoin",
           "NeoScrypt"
          ],
          [
           "TerraNovaCoin",
           "Scrypt"
          ],
          [
           "Rupee",
           "Lyra2REv2"
          ],
          [
           "WomenCoin",
           "Scrypt"
          ],
          [
           "Theresa May Coin",
           "SHA-256"
          ],
          [
           "NamoCoin",
           "NIST5"
          ],
          [
           "LUXCoin",
           "PHI1612"
          ],
          [
           "Xios",
           "Scrypt"
          ],
          [
           "Bitcloud 2.0",
           "Quark"
          ],
          [
           "KekCoin",
           "POS 2.0"
          ],
          [
           "BlackholeCoin",
           "Scrypt"
          ],
          [
           "Infinity Economics",
           "SHA-256"
          ],
          [
           "Magnet",
           "X11"
          ],
          [
           "Lamden Tau",
           "DPoS"
          ],
          [
           "Electra",
           "NIST5"
          ],
          [
           "Bitcoin Diamond",
           "X13"
          ],
          [
           "Cash & Back Coin",
           "Scrypt"
          ],
          [
           "Bulwark",
           "NIST5"
          ],
          [
           "Kalkulus",
           "Quark"
          ],
          [
           "GermanCoin",
           "Scrypt"
          ],
          [
           "LiteCoin Ultra",
           "Scrypt"
          ],
          [
           "PhantomX",
           "X11"
          ],
          [
           "Digiwage",
           "Quark"
          ],
          [
           "Trollcoin",
           "Scrypt"
          ],
          [
           "Litecoin Plus",
           "Scrypt"
          ],
          [
           "Monkey Project",
           "X11"
          ],
          [
           "TokenPay",
           "POS 3.0"
          ],
          [
           "1717 Masonic Commemorative Token",
           "Ethash"
          ],
          [
           "My Big Coin",
           "Scrypt"
          ],
          [
           "Unified Society USDEX",
           "Scrypt"
          ],
          [
           "Tokyo Coin",
           "X13"
          ],
          [
           "Stipend",
           "C11"
          ],
          [
           "Pushi",
           "X11"
          ],
          [
           "Ellerium",
           "XEVAN"
          ],
          [
           "Velox",
           "Scrypt"
          ],
          [
           "Ontology",
           "VBFT"
          ],
          [
           "Bitspace",
           "NIST5"
          ],
          [
           "Briacoin",
           "Scrypt"
          ],
          [
           "Ignition",
           "Scrypt"
          ],
          [
           "MedicCoin",
           "Scrypt"
          ],
          [
           "Bitcoin Green",
           "Green Protocol"
          ],
          [
           "Deviant Coin",
           "PoS"
          ],
          [
           "Abjcoin",
           "Scrypt"
          ],
          [
           "Semux",
           "Semux BFT consensus"
          ],
          [
           "Carebit",
           "Quark"
          ],
          [
           "Zealium",
           "PoS"
          ],
          [
           "Proton",
           "X16R"
          ],
          [
           "iDealCash",
           "Scrypt"
          ],
          [
           "Bitcoin Incognito",
           "XEVAN"
          ],
          [
           "HollyWoodCoin",
           "Scrypt"
          ],
          [
           "Swisscoin",
           "Scrypt"
          ],
          [
           "Xt3ch",
           "Scrypt"
          ],
          [
           "TheVig",
           "SHA-256D"
          ],
          [
           "EmaratCoin",
           "Scrypt"
          ],
          [
           "Dekado",
           "X15"
          ],
          [
           "Lynx",
           "Scrypt"
          ],
          [
           "Poseidon Quark",
           "Quark"
          ],
          [
           "BitcoinWSpectrum",
           "SHA-256"
          ],
          [
           "Muse",
           "DPoS"
          ],
          [
           "Trivechain",
           "X16R"
          ],
          [
           "Dystem",
           "Quark"
          ],
          [
           "Giant",
           "Quark"
          ],
          [
           "Peony Coin",
           "Scrypt"
          ],
          [
           "Absolute Coin",
           "Lyra2REv2"
          ],
          [
           "Vitae",
           "Quark"
          ],
          [
           "TPCash",
           "Scrypt"
          ],
          [
           "ARENON",
           "X11"
          ],
          [
           "EUNO",
           "X11"
          ],
          [
           "MMOCoin",
           "Scrypt"
          ],
          [
           "Ketan",
           "PoS"
          ],
          [
           "XDNA",
           "Keccak"
          ],
          [
           "PAXEX",
           "X11"
          ],
          [
           "ThunderStake",
           "Scrypt"
          ],
          [
           "Kcash",
           "SHA-512"
          ],
          [
           "Acute Angle Cloud",
           "ECC 256K1"
          ],
          [
           "Bettex coin",
           "XEVAN"
          ],
          [
           "BitMoney",
           "XEVAN"
          ],
          [
           "Junson Ming Chan Coin",
           "X11"
          ],
          [
           "HerbCoin",
           "Quark"
          ],
          [
           "Oduwa",
           "Scrypt"
          ],
          [
           "Galilel",
           "Quark"
          ],
          [
           "Crypto Sports",
           "Quark"
          ],
          [
           "Credit",
           "Scrypt"
          ],
          [
           "Dash Platinum",
           "X11"
          ],
          [
           "Nasdacoin",
           "Scrypt"
          ],
          [
           "Beetle Coin",
           "XEVAN"
          ],
          [
           "Titan Coin",
           "SHA-256D"
          ],
          [
           "Award",
           "X11"
          ],
          [
           "Insane Coin",
           "X11"
          ],
          [
           "ALAX",
           "DPoS"
          ],
          [
           "LiteDoge",
           "Scrypt"
          ],
          [
           "TruckCoin",
           "X11"
          ],
          [
           "OrangeCoin",
           "Scrypt"
          ],
          [
           "BitstarCoin",
           "Scrypt"
          ],
          [
           "NeosCoin",
           "SHA-256"
          ],
          [
           "HyperCoin",
           "Scrypt"
          ],
          [
           "PinkCoin",
           "X11"
          ],
          [
           "AudioCoin",
           "Scrypt"
          ],
          [
           "IncaKoin",
           "SHA-256"
          ],
          [
           "Piggy Coin",
           "X11"
          ],
          [
           "Genstake",
           "Scrypt"
          ],
          [
           "XiaoMiCoin",
           "Scrypt"
          ],
          [
           "CapriCoin",
           "X11"
          ],
          [
           " ClubCoin",
           "Scrypt"
          ],
          [
           "Radium",
           "PoS"
          ],
          [
           "Creditbit ",
           "X11"
          ],
          [
           "OKCash",
           "SHA-256"
          ],
          [
           "Lisk",
           "DPoS"
          ],
          [
           "HiCoin",
           "Scrypt"
          ],
          [
           "WhiteCoin",
           "Scrypt"
          ],
          [
           "FriendshipCoin",
           "NeoScrypt"
          ],
          [
           "Triangles Coin",
           "X13"
          ],
          [
           "EOS",
           "DPoS"
          ],
          [
           "Oxycoin",
           "DPoS"
          ],
          [
           "TigerCash",
           "SHA-256"
          ],
          [
           "Waves",
           "Leased POS"
          ],
          [
           "Particl",
           "PoS"
          ],
          [
           "Nxt",
           "PoS"
          ],
          [
           "ZEPHYR",
           "SHA-256"
          ],
          [
           "Gapcoin",
           "Scrypt"
          ],
          [
           "BitcoinPlus",
           "Scrypt"
          ]
         ],
         "hovertemplate": "<b>%{hovertext}</b><br><br>Class=%{marker.color}<br>PC 1=%{x}<br>PC 2=%{y}<br>PC 3=%{z}<br>CoinName=%{customdata[0]}<br>Algorithm=%{customdata[1]}<extra></extra>",
         "hovertext": [
          "42 Coin",
          "404Coin",
          "EliteCoin",
          "Dash",
          "Bitshares",
          "BitcoinDark",
          "PayCoin",
          "KoboCoin",
          "Aurora Coin",
          "BlueCoin",
          "EnergyCoin",
          "BitBar",
          "CryptoBullion",
          "CasinoCoin",
          "Diamond",
          "Exclusive Coin",
          "FlutterCoin",
          "HoboNickels",
          "HyperStake",
          "IOCoin",
          "MaxCoin",
          "MintCoin",
          "MazaCoin",
          "Nautilus Coin",
          "NavCoin",
          "OpalCoin",
          "Orbitcoin",
          "PotCoin",
          "PhoenixCoin",
          "Reddcoin",
          "SuperCoin",
          "SyncCoin",
          "TeslaCoin",
          "TittieCoin",
          "TorCoin",
          "UnitaryStatus Dollar",
          "UltraCoin",
          "VeriCoin",
          "X11 Coin",
          "Crypti",
          "StealthCoin",
          "ZCC Coin",
          "BurstCoin",
          "StorjCoin",
          "Neutron",
          "FairCoin",
          "RubyCoin",
          "Kore",
          "Dnotes",
          "8BIT Coin",
          "Sativa Coin",
          "Ucoin",
          "Vtorrent",
          "IslaCoin",
          "Nexus",
          "Droidz",
          "Squall Coin",
          "Diggits",
          "Paycon",
          "Emercoin",
          "EverGreenCoin",
          "Decred",
          "EDRCoin",
          "Hitcoin",
          "DubaiCoin",
          "PWR Coin",
          "BillaryCoin",
          "GPU Coin",
          "EuropeCoin",
          "ZeitCoin",
          "SwingCoin",
          "SafeExchangeCoin",
          "Nebuchadnezzar",
          "Ratecoin",
          "Revenu",
          "Clockcoin",
          "VIP Tokens",
          "BitSend",
          "Let it Ride",
          "PutinCoin",
          "iBankCoin",
          "Frankywillcoin",
          "MudraCoin",
          "Lutetium Coin",
          "GoldBlocks",
          "CarterCoin",
          "BitTokens",
          "MustangCoin",
          "ZoneCoin",
          "RootCoin",
          "BitCurrency",
          "Swiscoin",
          "BuzzCoin",
          "Opair",
          "PesoBit",
          "Halloween Coin",
          "CoffeeCoin",
          "RoyalCoin",
          "GanjaCoin V2",
          "TeamUP",
          "LanaCoin",
          "ARK",
          "InsaneCoin",
          "EmberCoin",
          "XenixCoin",
          "FreeCoin",
          "PLNCoin",
          "AquariusCoin",
          "Creatio",
          "Eternity",
          "Eurocoin",
          "BitcoinFast",
          "Stakenet",
          "BitConnect Coin",
          "MoneyCoin",
          "Enigma",
          "Russiacoin",
          "PandaCoin",
          "GameUnits",
          "GAKHcoin",
          "Allsafe",
          "LiteCreed",
          "Klingon Empire Darsek",
          "Internet of People",
          "KushCoin",
          "Printerium",
          "Impeach",
          "Zilbercoin",
          "FirstCoin",
          "FindCoin",
          "OpenChat",
          "RenosCoin",
          "VirtacoinPlus",
          "TajCoin",
          "Impact",
          "Atmos",
          "HappyCoin",
          "MacronCoin",
          "Condensate",
          "Independent Money System",
          "ArgusCoin",
          "LomoCoin",
          "ProCurrency",
          "GoldReserve",
          "GrowthCoin",
          "Phreak",
          "Degas Coin",
          "HTML5 Coin",
          "Ultimate Secure Cash",
          "QTUM",
          "Espers",
          "Denarius",
          "Virta Unique Coin",
          "Bitcoin Planet",
          "BritCoin",
          "Linda",
          "DeepOnion",
          "Signatum",
          "Cream",
          "Monoeci",
          "Draftcoin",
          "Stakecoin",
          "CoinonatX",
          "Ethereum Dark",
          "Obsidian",
          "Cardano",
          "Regalcoin",
          "TrezarCoin",
          "TerraNovaCoin",
          "Rupee",
          "WomenCoin",
          "Theresa May Coin",
          "NamoCoin",
          "LUXCoin",
          "Xios",
          "Bitcloud 2.0",
          "KekCoin",
          "BlackholeCoin",
          "Infinity Economics",
          "Magnet",
          "Lamden Tau",
          "Electra",
          "Bitcoin Diamond",
          "Cash & Back Coin",
          "Bulwark",
          "Kalkulus",
          "GermanCoin",
          "LiteCoin Ultra",
          "PhantomX",
          "Digiwage",
          "Trollcoin",
          "Litecoin Plus",
          "Monkey Project",
          "TokenPay",
          "1717 Masonic Commemorative Token",
          "My Big Coin",
          "Unified Society USDEX",
          "Tokyo Coin",
          "Stipend",
          "Pushi",
          "Ellerium",
          "Velox",
          "Ontology",
          "Bitspace",
          "Briacoin",
          "Ignition",
          "MedicCoin",
          "Bitcoin Green",
          "Deviant Coin",
          "Abjcoin",
          "Semux",
          "Carebit",
          "Zealium",
          "Proton",
          "iDealCash",
          "Bitcoin Incognito",
          "HollyWoodCoin",
          "Swisscoin",
          "Xt3ch",
          "TheVig",
          "EmaratCoin",
          "Dekado",
          "Lynx",
          "Poseidon Quark",
          "BitcoinWSpectrum",
          "Muse",
          "Trivechain",
          "Dystem",
          "Giant",
          "Peony Coin",
          "Absolute Coin",
          "Vitae",
          "TPCash",
          "ARENON",
          "EUNO",
          "MMOCoin",
          "Ketan",
          "XDNA",
          "PAXEX",
          "ThunderStake",
          "Kcash",
          "Acute Angle Cloud",
          "Bettex coin",
          "BitMoney",
          "Junson Ming Chan Coin",
          "HerbCoin",
          "Oduwa",
          "Galilel",
          "Crypto Sports",
          "Credit",
          "Dash Platinum",
          "Nasdacoin",
          "Beetle Coin",
          "Titan Coin",
          "Award",
          "Insane Coin",
          "ALAX",
          "LiteDoge",
          "TruckCoin",
          "OrangeCoin",
          "BitstarCoin",
          "NeosCoin",
          "HyperCoin",
          "PinkCoin",
          "AudioCoin",
          "IncaKoin",
          "Piggy Coin",
          "Genstake",
          "XiaoMiCoin",
          "CapriCoin",
          " ClubCoin",
          "Radium",
          "Creditbit ",
          "OKCash",
          "Lisk",
          "HiCoin",
          "WhiteCoin",
          "FriendshipCoin",
          "Triangles Coin",
          "EOS",
          "Oxycoin",
          "TigerCash",
          "Waves",
          "Particl",
          "Nxt",
          "ZEPHYR",
          "Gapcoin",
          "BitcoinPlus"
         ],
         "legendgroup": "0",
         "marker": {
          "color": [
           0,
           0,
           0,
           0,
           0,
           0,
           0,
           0,
           0,
           0,
           0,
           0,
           0,
           0,
           0,
           0,
           0,
           0,
           0,
           0,
           0,
           0,
           0,
           0,
           0,
           0,
           0,
           0,
           0,
           0,
           0,
           0,
           0,
           0,
           0,
           0,
           0,
           0,
           0,
           0,
           0,
           0,
           0,
           0,
           0,
           0,
           0,
           0,
           0,
           0,
           0,
           0,
           0,
           0,
           0,
           0,
           0,
           0,
           0,
           0,
           0,
           0,
           0,
           0,
           0,
           0,
           0,
           0,
           0,
           0,
           0,
           0,
           0,
           0,
           0,
           0,
           0,
           0,
           0,
           0,
           0,
           0,
           0,
           0,
           0,
           0,
           0,
           0,
           0,
           0,
           0,
           0,
           0,
           0,
           0,
           0,
           0,
           0,
           0,
           0,
           0,
           0,
           0,
           0,
           0,
           0,
           0,
           0,
           0,
           0,
           0,
           0,
           0,
           0,
           0,
           0,
           0,
           0,
           0,
           0,
           0,
           0,
           0,
           0,
           0,
           0,
           0,
           0,
           0,
           0,
           0,
           0,
           0,
           0,
           0,
           0,
           0,
           0,
           0,
           0,
           0,
           0,
           0,
           0,
           0,
           0,
           0,
           0,
           0,
           0,
           0,
           0,
           0,
           0,
           0,
           0,
           0,
           0,
           0,
           0,
           0,
           0,
           0,
           0,
           0,
           0,
           0,
           0,
           0,
           0,
           0,
           0,
           0,
           0,
           0,
           0,
           0,
           0,
           0,
           0,
           0,
           0,
           0,
           0,
           0,
           0,
           0,
           0,
           0,
           0,
           0,
           0,
           0,
           0,
           0,
           0,
           0,
           0,
           0,
           0,
           0,
           0,
           0,
           0,
           0,
           0,
           0,
           0,
           0,
           0,
           0,
           0,
           0,
           0,
           0,
           0,
           0,
           0,
           0,
           0,
           0,
           0,
           0,
           0,
           0,
           0,
           0,
           0,
           0,
           0,
           0,
           0,
           0,
           0,
           0,
           0,
           0,
           0,
           0,
           0,
           0,
           0,
           0,
           0,
           0,
           0,
           0,
           0,
           0,
           0,
           0,
           0,
           0,
           0,
           0,
           0,
           0,
           0,
           0,
           0,
           0,
           0,
           0,
           0,
           0,
           0,
           0,
           0,
           0,
           0,
           0,
           0,
           0,
           0,
           0,
           0,
           0,
           0,
           0,
           0,
           0,
           0,
           0,
           0,
           0,
           0,
           0,
           0
          ],
          "coloraxis": "coloraxis",
          "symbol": "circle"
         },
         "mode": "markers",
         "name": "0",
         "scene": "scene",
         "showlegend": true,
         "type": "scatter3d",
         "x": [
          -0.32655905927463547,
          -0.30997891989869675,
          2.300970074352038,
          -0.39249584395775294,
          -0.28330192904626933,
          -0.30732071438658776,
          -0.2773328368168199,
          -0.23804227063738495,
          -0.32622037386295893,
          -0.31883198717725364,
          -0.32506255477815976,
          -0.32655501920779506,
          -0.32653937773084313,
          0.707146745750387,
          -0.3489407651696917,
          -0.3767056835708828,
          -0.29606110408515496,
          -0.32462798887443917,
          -0.3424244196036248,
          -0.39239102506591594,
          -0.537209470092887,
          -0.037689640537325174,
          -0.2708202499375701,
          -0.2963236759960475,
          -0.26789880476250766,
          -0.26851814797303386,
          -0.33350938347531844,
          -0.3208918014453138,
          -0.3249691534491188,
          0.02993292068833015,
          -0.36221943410211144,
          -0.3927606634349993,
          -0.26261744384902,
          -0.32316350256671916,
          -0.392672811053715,
          -0.3019213716966005,
          -0.3252435576013155,
          -0.2530751527814878,
          -0.39263740526306035,
          -0.26308201835059014,
          -0.2683000206775628,
          -0.317713253160147,
          0.12164136618782499,
          -0.3700608189400562,
          -0.3065365243102307,
          -0.34836494799763346,
          -0.2963038629356675,
          -0.26859330871096226,
          -0.2909875699807767,
          -0.3265412103995191,
          -0.2685456941838263,
          -0.3626624317769211,
          -0.32627701741905724,
          -0.3927422773952349,
          -0.7248412863841062,
          -0.4357310891271848,
          -0.4045479318196381,
          -0.29471377271598415,
          -0.2680699387734882,
          -0.2999216031939505,
          -0.24046920212768877,
          -0.07038645414684,
          -0.3072917623031298,
          -0.07196409539699868,
          -0.3073550471870075,
          -0.2228228230119967,
          -0.32615369165308566,
          -0.294584644094372,
          -0.38992839732454804,
          0.8505252875381988,
          -0.3071563290022664,
          -0.019874102294333354,
          -0.37639061818073377,
          -0.39059596644941674,
          -0.30590750663693894,
          -0.3035895350921251,
          -0.3436234128321519,
          -0.3914847000099921,
          -0.36885189741096436,
          -0.30257910697127327,
          -0.3261916374467823,
          -0.32463839284191404,
          -0.2373078000246439,
          -0.35021728090530596,
          -0.39221911172755275,
          -0.3253999905449768,
          -0.30733619305070414,
          -0.39273154909221314,
          -0.32637969243132037,
          -0.3265354700593932,
          -0.29457203583388236,
          -0.24474625922766824,
          0.05941563225064825,
          -0.37535304676389847,
          -0.3261514041327419,
          -0.3789728049155467,
          -0.374684434513396,
          -0.23872981776648536,
          -0.39888474137667895,
          -0.3744371699067349,
          -0.2535352942391779,
          3.8545251403817695,
          -0.3923262418551966,
          0.8583976919690532,
          -0.39268667520904604,
          -0.3758144180089145,
          -0.326079682535626,
          -0.3262333327899664,
          -0.37639061818073377,
          -0.39226410656185884,
          -0.3071994884210728,
          -0.32608035895423226,
          -0.405084303745547,
          -0.3262270201449424,
          -0.3218416745200395,
          -0.39271554712915674,
          -0.32544253225321723,
          0.34365600648994005,
          -0.32642522663893647,
          -0.3264953748082615,
          -0.37328729612954165,
          -0.33750095325708634,
          -0.32274454340372094,
          -0.3073127153860342,
          -0.3926259574522615,
          -0.3262743785174004,
          -0.32640076644442423,
          -0.29621136007316134,
          -0.26533916165511195,
          -0.23849886276509819,
          -0.3073523876873328,
          -0.2959534749789816,
          -0.39189600202206226,
          -0.3953209297635778,
          -0.3906402849987233,
          -0.3746461617186513,
          -0.39179435758854547,
          -0.36907479772289037,
          -0.38775808621062985,
          -0.32634430691216176,
          -0.3263435753813856,
          -0.3195068083309477,
          0.25211876587459475,
          -0.3922700253279202,
          -0.2789531018529848,
          -0.37642485563047223,
          -0.3255594788051027,
          0.8877704433650211,
          -0.27603117821865164,
          -0.36763654831959597,
          0.5842819112013199,
          -0.345151179157896,
          -0.3436614192281341,
          -0.3881848433818255,
          -0.26823244115824907,
          0.13574040573657584,
          -0.26830277516642437,
          -0.3585972635432734,
          -0.3876920094056657,
          -0.39254084640381215,
          -0.29628484001680017,
          -0.37629206570725826,
          -0.3259814570367544,
          -0.3264783920572572,
          -0.3410630760279736,
          0.6432797898409117,
          -0.3924821237170496,
          -0.3285356688225592,
          -0.326434328410753,
          -0.316675165924257,
          0.43888668551926224,
          -0.30566740238139845,
          -0.33000023162954684,
          -0.3884988472020262,
          -0.32638494919696776,
          -0.40166280807511445,
          -0.3672513476102283,
          -0.32625588260948696,
          -0.10470673181695084,
          -0.39128152205145883,
          3.859354988758596,
          0.2114606695250674,
          -0.26499089526628167,
          -0.323729828434733,
          -0.3149913619690045,
          -0.37317377606258917,
          0.08547581833189272,
          -0.3253997502068725,
          -0.39185903514803705,
          -0.37234337172380105,
          -0.3130303730759217,
          -0.32650041958830106,
          -0.36263450067476566,
          -0.36913242935402646,
          -0.29472740806841763,
          -0.30754402528898794,
          -0.3220685000683203,
          -0.23034034934579986,
          -0.37666720962612465,
          -0.3925581686431945,
          -0.3464658318557225,
          -0.2954497705218054,
          -0.3492267620796636,
          -0.3447523911739117,
          -0.3265276381874254,
          -0.32650945364511874,
          -0.2898608805736447,
          -0.34349927283240095,
          -0.3758886582826354,
          -0.3262275230783885,
          4.073623148872153,
          -0.40033697242452954,
          -0.37607637727132015,
          -0.3313072989163364,
          -0.27339365447857655,
          -0.35840437159206984,
          -0.29598054530526013,
          -0.13065100166272345,
          -0.2962316237873768,
          -0.3184746871016552,
          -0.32570452288591667,
          -0.2098919941312676,
          2.2149339810233095,
          -0.36890784746950267,
          -0.27615730782041154,
          1.080725837467533,
          -0.3605719082856087,
          -0.3732867950480833,
          -0.4033372314227548,
          -0.17768239364342292,
          -0.34652869087150084,
          -0.3720130246989244,
          -0.3194471756363121,
          -0.36221419834280116,
          -0.3920341839141409,
          -0.2934919727532432,
          -0.37518163302150537,
          -0.3423245696328722,
          -0.3620766688515717,
          -0.18683840054001596,
          -0.31354445855111235,
          -0.4362022984323773,
          -0.31653423379666346,
          0.40933312666570354,
          -0.15355477178309393,
          -0.40263560308546537,
          -0.32623138807719504,
          -0.4030892676135238,
          -0.3734031558324333,
          0.5753506421279511,
          -0.36268855231231295,
          -0.32571732560070016,
          -0.34095142751199814,
          -0.27345243893007004,
          -0.38961377498821764,
          -0.39226017206234504,
          3.871535249799037,
          0.10634228246050323,
          -0.38981086217062944,
          -0.3251068122655911,
          -0.32592654122613535,
          -0.27736540157932776,
          -0.326441939865185,
          -0.3839313204033799,
          -0.240648060536688,
          -0.08799658832909253,
          -0.3797042992330409,
          -0.32572373745516964,
          -0.3188239006189906,
          -0.38884639003838306,
          -0.32417157872355135,
          -0.376664867822858,
          -0.3832786278822477,
          -0.3058434570050223,
          3.854914797613219,
          -0.10450248321267665,
          -0.32138069474266456,
          -0.3331375323376588,
          -0.26869989948645184,
          3.8647389099903076,
          3.865977308165458,
          -0.25836011084718,
          -0.4566051962785769,
          -0.3766010263948711,
          -0.38696152766659997,
          2.532797968468837,
          -0.32461594820621986,
          -0.29662583326332853
         ],
         "y": [
          1.005617493240586,
          1.0057714658442187,
          1.62707670089612,
          1.2221125415321847,
          1.5462453975062909,
          0.8194623060090737,
          0.6548502716494735,
          1.8753433991179729,
          1.005616527335023,
          1.0058619754019502,
          1.0056648422016792,
          1.0056172727712696,
          1.0056174193376615,
          0.13164824848391077,
          0.8148647445824091,
          1.6186665271383895,
          0.34062167969827223,
          1.0055949937249844,
          1.0581446524049942,
          1.2221158579689744,
          2.196967286182067,
          0.8491897713161974,
          0.8189471597446103,
          0.8409953999399381,
          1.7646575631356518,
          1.7646379673111647,
          0.5391210306272465,
          1.0055042105075482,
          1.005599525686057,
          1.0168967874501986,
          1.0575183443689598,
          1.2221194883314932,
          0.14448290367475658,
          1.7534062120999998,
          1.2221153021494302,
          1.0052823818894012,
          1.0055894503248546,
          0.3109658110283219,
          1.222119557302714,
          0.14453786968796842,
          1.7646448687902243,
          1.0052007217505763,
          0.0026843846544710084,
          1.558760483978182,
          0.8194550716345506,
          0.8148860145839133,
          0.8410072986166522,
          1.7646272294485166,
          0.8408271794325353,
          1.0056180580026446,
          1.764630129257275,
          1.0574903950609076,
          1.0056124839846157,
          1.2221200707566613,
          2.6940850042477984,
          1.795335667385192,
          0.9597952132901532,
          0.8409879435669477,
          1.7646173160071414,
          0.8190150878182222,
          1.8754921187810822,
          0.8025774793749308,
          0.8194632220438929,
          1.2137733329282554,
          0.8194692312055671,
          1.5462823746487522,
          1.0056010596721148,
          0.8409076978345349,
          1.2219415874206423,
          0.8083242580687476,
          0.8194549674101659,
          0.1350154945783036,
          1.6186625627074103,
          1.2221357306069807,
          0.8193671843779403,
          0.8192299443769001,
          1.5423975834573695,
          1.2220630257536875,
          1.6431986549361577,
          1.004982911334477,
          1.0055982335625937,
          1.005608597547604,
          1.5999186633458358,
          1.0574403896442444,
          1.2221017910517267,
          1.0055914673361326,
          0.8194625129190507,
          1.2221183202466646,
          1.0056085387294602,
          1.0056182396252014,
          0.8410620930817411,
          0.3410640067963732,
          1.8993511616575725,
          1.6186577720384956,
          1.005630391350387,
          1.221510757471401,
          1.6187026128924724,
          1.6000112594488085,
          1.8189120066023445,
          1.6185286105343575,
          1.8981534383713397,
          1.8341144198233046,
          1.2221123344890445,
          1.7997010776958862,
          1.222119145572085,
          1.6186598939983943,
          1.0056058117064781,
          1.0055985398515794,
          1.6186625627074103,
          1.2220934009288738,
          0.8194675348606021,
          1.00560964974605,
          0.6737022918884108,
          1.0056084926822997,
          1.005313467639256,
          1.2221174332436573,
          1.0055525022274814,
          0.8386039094221068,
          1.0056126712417972,
          1.005617198281791,
          1.5276611248324963,
          0.6032115957250533,
          1.0053898583308871,
          0.8194632557449806,
          1.22211723461858,
          1.0056125674786345,
          1.0056072217478351,
          0.8409719096257231,
          0.3343945071962106,
          1.6000101897655208,
          1.0055285362771276,
          0.8409944016123575,
          1.2220771816390368,
          1.9819074055298818,
          1.2221099456304725,
          1.6186548562081173,
          1.2220803976369603,
          1.618629305950201,
          1.221929443976931,
          1.005609510542059,
          1.005604386921232,
          1.0051439742287884,
          0.619361908747954,
          1.2221071466618556,
          0.8401629711549919,
          1.6186545129448229,
          1.005575971427059,
          1.84850908303811,
          0.6547607751771514,
          1.643190780971428,
          1.808934402253706,
          1.5424049774146062,
          1.5423754814456287,
          1.9458387909352863,
          1.7646261074836513,
          0.9854120008161458,
          1.7646316162158246,
          1.8181530170864098,
          1.9458543840473663,
          1.2221198207291486,
          0.840995774680957,
          1.6186367002592434,
          1.0056021536651574,
          1.0056171196250614,
          1.5468625244587653,
          1.5332245230470791,
          1.2221094923860703,
          0.5390023637484069,
          1.0056104790880431,
          0.7596994119565448,
          1.012419704912216,
          0.8194602775777565,
          1.542055335079247,
          1.918466977987327,
          1.0056083724070477,
          1.6922019118508678,
          1.666725669709179,
          1.0056167834311067,
          0.6540509650750879,
          1.2220659709902049,
          1.8340059909411563,
          1.5391234665128515,
          1.7646032719687523,
          1.0055607127349946,
          1.3777794230586118,
          1.5276612333215092,
          0.9838216450716758,
          1.005549675937715,
          1.22211318376151,
          1.5276178420493458,
          1.0054185516087457,
          1.0056165620109128,
          1.0574905821421559,
          1.6431957005190394,
          -0.026263905584015222,
          0.25603031416650385,
          1.0055979503412904,
          1.5997211212686526,
          0.8768636988475087,
          1.2221084796486004,
          1.564807294128535,
          0.8409479372266817,
          1.6421683440012316,
          1.5423897289392983,
          1.005616397473037,
          1.0056155795261508,
          0.8408628275311947,
          1.5497713348810156,
          1.618631072357799,
          1.0056070834695554,
          1.7007029751659872,
          1.6922438608740669,
          1.6186307061883605,
          0.6810124877664614,
          1.003731422421942,
          1.3025054015642459,
          0.8409994153836973,
          1.0047101321789242,
          0.8409789316386594,
          1.9012581666211261,
          1.005586011928861,
          1.7108477344744,
          0.3024058571067984,
          1.527357316433455,
          0.6548263254734095,
          1.70520642376693,
          0.8456278674645167,
          1.5276569607862927,
          1.6922846751869374,
          0.8330009918729827,
          0.9243024608400517,
          1.527642227126246,
          1.005145860988501,
          1.0574801942743186,
          1.2221076421096095,
          0.840915136926649,
          1.6185684511094365,
          0.8997920581892414,
          1.057453196412208,
          0.9974985101981876,
          1.5710138250355035,
          3.2874099321441936,
          1.4001938274279295,
          1.4459727586069755,
          1.0641204286895787,
          1.6922728438289687,
          1.0056132310326045,
          1.6922828476987481,
          1.5276585946074903,
          0.9820442094100637,
          1.0574897776103922,
          1.0055856068549898,
          1.5646752421291228,
          1.8992690711846572,
          1.2219264625708761,
          1.2221144249165212,
          1.8340430455495305,
          0.9949316040970939,
          1.2222128198128572,
          1.0055241118998905,
          1.0055997084143766,
          0.6548433197852506,
          1.0056211988911443,
          1.2220505216441027,
          1.001020864801277,
          0.8262846152041123,
          1.2218359382431427,
          1.0056334728389658,
          1.0055835712405141,
          1.222098432198783,
          1.0055815683969234,
          1.6186615486854299,
          0.7025852481239185,
          0.8194512240145891,
          1.8341024225507216,
          0.8401031781915733,
          1.0055723400825862,
          0.5390935061101527,
          1.7646321331524097,
          1.8345246615384492,
          1.834563844067414,
          0.6547626208165037,
          2.9184131037699976,
          1.6186638234845265,
          1.7047416274366067,
          0.783597677621942,
          1.0055048101822228,
          0.8409964149266543
         ],
         "z": [
          -0.5066538939215492,
          -0.5071466537624292,
          -0.6267084534946467,
          -0.38780126516144714,
          -0.15456512091298033,
          -0.2840585695073988,
          -0.025093371907050892,
          -0.5064846809877015,
          -0.5066634829852714,
          -0.5069035665597172,
          -0.506702248103067,
          -0.5066539840818252,
          -0.5066544490966883,
          -0.4915025926569341,
          -0.4325237391657134,
          -0.05885667315717885,
          -0.2928881747327929,
          -0.5067065975281545,
          -0.12948600496464638,
          -0.38780465200818315,
          -0.7292248415997198,
          -0.25605275800298044,
          -0.28504433703086673,
          -0.24769461949326302,
          -0.569078298550945,
          -0.5690582866953218,
          -0.242893558653294,
          -0.5068030889957797,
          -0.506697350887213,
          -0.5181726543030241,
          -0.12884640003240508,
          -0.38779448525788124,
          0.08749362027898988,
          -0.07742980620931075,
          -0.38779651630556106,
          -0.5073207456209501,
          -0.506688322967149,
          -0.45257229378792785,
          -0.3877980237672978,
          0.08750055466005163,
          -0.5690653346969311,
          -0.5068589476535631,
          -0.6353116935838602,
          -0.11576677912836461,
          -0.2840801925264156,
          -0.4325426983919564,
          -0.24769656648787175,
          -0.5690548889440866,
          -0.24782796004409643,
          -0.5066544706473555,
          -0.5690565889704132,
          -0.12883047081489474,
          -0.5066613917607291,
          -0.38779507941761304,
          -0.8681970451209852,
          -0.48449391578740564,
          -0.2848803078481308,
          -0.24773986787460947,
          -0.5690687306295887,
          -0.28421865534502183,
          -0.5064324077666607,
          -0.4418528459315397,
          -0.2840595049901881,
          -0.3960155182871844,
          -0.2840583889840625,
          -0.477709543336404,
          -0.5066635997214773,
          -0.24773426317115627,
          -0.38785498541926267,
          -0.2767563275641546,
          -0.28406242722966496,
          -0.4710687462486101,
          -0.05886523803010387,
          -0.38785837225280917,
          -0.28408802033673974,
          -0.2841385034976543,
          -0.47379903631229525,
          -0.387824486939466,
          -0.0961481018857492,
          -0.5072671865492129,
          -0.5066621851833765,
          -0.5067078766969514,
          -0.31011566820138353,
          -0.12918114280951903,
          -0.3878079453014432,
          -0.5066840760652113,
          -0.2840581501366414,
          -0.3877951837639096,
          -0.5066579934189923,
          -0.5066546561258687,
          -0.24775252427240252,
          -0.36063756932514485,
          -0.5769524509583213,
          -0.05889440202453187,
          -0.5066670658394868,
          -0.3881188403817038,
          -0.058918751911505876,
          -0.31008567222582883,
          -0.6481742350395515,
          -0.05890566124162776,
          -0.5678496638547101,
          -0.194320660929797,
          -0.3878060991111186,
          -0.6054018805212666,
          -0.38779656478211944,
          -0.05888143286952647,
          -0.5066662705138775,
          -0.5066610264036371,
          -0.05886523803010387,
          -0.38780568378681574,
          -0.284062648023474,
          -0.5066666961058265,
          -0.0054662226101347385,
          -0.506662361109128,
          -0.5067537675992309,
          -0.387795539276411,
          -0.5066783400759975,
          -0.26574845021891785,
          -0.5066571682785884,
          -0.5066556838545564,
          -0.14531036781874368,
          -0.2549442208802483,
          -0.5067367629382753,
          -0.2840589087332122,
          -0.3877980823870745,
          -0.5066614770273764,
          -0.506657237105499,
          -0.2476951132130679,
          -0.3737119034958862,
          -0.31009216351018476,
          -0.5071937218796293,
          -0.24770510750709843,
          -0.38781434709401696,
          -0.6434501214105234,
          -0.38785411342027015,
          -0.05891431145165576,
          -0.38781763136951064,
          -0.05907093116392526,
          -0.38791574229565096,
          -0.5066591196428625,
          -0.5066585465844187,
          -0.5068009953477651,
          -0.036144203141354116,
          -0.3878071078788174,
          -0.24809566056220891,
          -0.05886332410179535,
          -0.5066777112720374,
          -0.535620540703417,
          -0.025120279765618453,
          -0.09618200054361288,
          -0.5713209124599128,
          -0.47375613336306177,
          -0.4737953852682905,
          -0.6460982306036809,
          -0.5690650952832741,
          -0.517553104609463,
          -0.5690637193496323,
          -0.051002052003758507,
          -0.6461141547669067,
          -0.38780082006629246,
          -0.2476957753274213,
          -0.0588650625045439,
          -0.5066686599117334,
          -0.5066561611763951,
          -0.15298220182466518,
          -0.1967178900526598,
          -0.3878013046479153,
          -0.24302226418909026,
          -0.5066566534249402,
          -0.07894147223303388,
          -0.5293673595570001,
          -0.2841056905487775,
          -0.47414956944452735,
          -0.3354345620091518,
          -0.506657823565455,
          -0.4043134886633695,
          -0.07778658682312307,
          -0.5066624955905312,
          -0.029945274174669956,
          -0.387830648072915,
          -0.19444643262147399,
          -0.489318854011692,
          -0.5691552961970765,
          -0.5067283493523408,
          -0.21479429321652943,
          -0.14531363197883226,
          -0.5159289846562517,
          -0.5066792378237472,
          -0.3878195798853058,
          -0.14533238683965494,
          -0.5070183348148176,
          -0.5066554655890511,
          -0.12883129254154776,
          -0.09613972401933907,
          0.1579280527460878,
          -0.22919231732758402,
          -0.5067802523536817,
          -0.31029233632183095,
          -0.3605216949378616,
          -0.38779900906230425,
          -0.5627063527700942,
          -0.2477141483410722,
          -0.09732661813840333,
          -0.473765788095768,
          -0.5066546668843792,
          -0.5066550929191048,
          -0.24786436497332534,
          -0.18236309904350806,
          -0.05887596492336996,
          -0.5066621833250657,
          -0.44319640907981034,
          -0.4043563282895552,
          -0.058870545591470584,
          -0.03869530012698483,
          -0.5079580598579009,
          -0.4597904373927575,
          -0.24770491340164533,
          -0.5121601393025599,
          -0.24769534689842496,
          -0.5663495389826649,
          -0.5066747207950157,
          -0.24748033997618477,
          -0.4768550549639579,
          -0.14540058709394546,
          -0.025124266641343363,
          -0.1130901562547707,
          -0.2976816023156386,
          -0.14530989940868183,
          -0.40427512300275514,
          -0.2501660506943718,
          -0.33790947638782665,
          -0.14534467615524302,
          -0.5068029221645207,
          -0.1288421270339972,
          -0.38781392058080344,
          -0.24776642327481452,
          -0.058888956362308356,
          -0.301981510173877,
          -0.12884293630114318,
          -0.5097146640020511,
          -0.22681600880617087,
          -0.6635555900030344,
          -0.3037393770825016,
          -0.6256829314094284,
          -0.13558865057300945,
          -0.4042938482305698,
          -0.5066627853425537,
          -0.40428201361761257,
          -0.1453067558776391,
          -0.5297545172015207,
          -0.12882965105346614,
          -0.5066743071211828,
          -0.5628489935927867,
          -0.5674085142875088,
          -0.38786224370792444,
          -0.3878082339196271,
          -0.19479961070039356,
          -0.5178147114244428,
          -0.38788979759204256,
          -0.5066846647239205,
          -0.5066699493858999,
          -0.025091633175812388,
          -0.5066576782188069,
          -0.3880393905145009,
          -0.5085817486274704,
          -0.29113167358664793,
          -0.3881355881578352,
          -0.5066796728532885,
          -0.5068715211336694,
          -0.3879041615601727,
          -0.5067181141146201,
          -0.058857265070690355,
          -0.08678606912199337,
          -0.2840995981408094,
          -0.19433043105946363,
          -0.2530855590224102,
          -0.5067969841757198,
          -0.24290101859291524,
          -0.5690524043546955,
          -0.19466077812850402,
          -0.19470079252611677,
          -0.025626650332572828,
          5.897815779037731,
          -0.05885935742691262,
          0.09686446980406184,
          -0.1073459102925502,
          -0.5066964868970733,
          -0.24768608240414888
         ]
        },
        {
         "customdata": [
          [
           "Bitcoin",
           "SHA-256"
          ],
          [
           "Ethereum",
           "Ethash"
          ],
          [
           "Litecoin",
           "Scrypt"
          ],
          [
           "Monero",
           "CryptoNight-V7"
          ],
          [
           "Ethereum Classic",
           "Ethash"
          ],
          [
           "ZCash",
           "Equihash"
          ],
          [
           "DigiByte",
           "Multiple"
          ],
          [
           "ProsperCoin",
           "Scrypt"
          ],
          [
           "Spreadcoin",
           "X11"
          ],
          [
           "Argentum",
           "Scrypt"
          ],
          [
           "MyriadCoin",
           "Multiple"
          ],
          [
           "MoonCoin",
           "Scrypt"
          ],
          [
           "ZetaCoin",
           "SHA-256"
          ],
          [
           "SexCoin",
           "Scrypt"
          ],
          [
           "Quatloo",
           "Scrypt"
          ],
          [
           "QuarkCoin",
           "Quark"
          ],
          [
           "Riecoin",
           "Groestl"
          ],
          [
           "Digitalcoin ",
           "Scrypt"
          ],
          [
           "Catcoin",
           "Scrypt"
          ],
          [
           "CannaCoin",
           "Scrypt"
          ],
          [
           "CryptCoin",
           "X11"
          ],
          [
           "Verge",
           "Multiple"
          ],
          [
           "DevCoin",
           "SHA-256"
          ],
          [
           "EarthCoin",
           "Scrypt"
          ],
          [
           "E-Gulden",
           "Scrypt"
          ],
          [
           "Einsteinium",
           "Scrypt"
          ],
          [
           "Emerald",
           "Scrypt"
          ],
          [
           "Franko",
           "Scrypt"
          ],
          [
           "FeatherCoin",
           "NeoScrypt"
          ],
          [
           "GrandCoin",
           "Scrypt"
          ],
          [
           "GlobalCoin",
           "Scrypt"
          ],
          [
           "GoldCoin",
           "Scrypt"
          ],
          [
           "Infinite Coin",
           "Scrypt"
          ],
          [
           "IXcoin",
           "SHA-256"
          ],
          [
           "KrugerCoin",
           "Scrypt"
          ],
          [
           "LuckyCoin",
           "Scrypt"
          ],
          [
           "Litebar ",
           "Scrypt"
          ],
          [
           "MegaCoin",
           "Scrypt"
          ],
          [
           "MediterraneanCoin",
           "HybridScryptHash256"
          ],
          [
           "MinCoin",
           "Scrypt"
          ],
          [
           "NobleCoin",
           "Scrypt"
          ],
          [
           "Namecoin",
           "SHA-256"
          ],
          [
           "NyanCoin",
           "Scrypt"
          ],
          [
           "RonPaulCoin",
           "Scrypt"
          ],
          [
           "StableCoin",
           "Scrypt"
          ],
          [
           "SmartCoin",
           "Scrypt"
          ],
          [
           "SysCoin",
           "SHA-256"
          ],
          [
           "TigerCoin",
           "SHA-256"
          ],
          [
           "TerraCoin",
           "SHA-256"
          ],
          [
           "UnbreakableCoin",
           "SHA-256"
          ],
          [
           "Unobtanium",
           "SHA-256"
          ],
          [
           "UroCoin",
           "X11"
          ],
          [
           "ViaCoin",
           "Scrypt"
          ],
          [
           "Vertcoin",
           "Lyra2REv2"
          ],
          [
           "WorldCoin",
           "Scrypt"
          ],
          [
           "JouleCoin",
           "SHA-256"
          ],
          [
           "ByteCoin",
           "CryptoNight"
          ],
          [
           "DigitalNote ",
           "CryptoNight"
          ],
          [
           "MonaCoin",
           "Scrypt"
          ],
          [
           "Gulden",
           "Scrypt"
          ],
          [
           "PesetaCoin",
           "Scrypt"
          ],
          [
           "Wild Beast Coin",
           "Scrypt"
          ],
          [
           "Flo",
           "Scrypt"
          ],
          [
           "ArtByte",
           "Scrypt"
          ],
          [
           "Folding Coin",
           "Stanford Folding"
          ],
          [
           "Unitus",
           "Multiple"
          ],
          [
           "CypherPunkCoin",
           "QuBit"
          ],
          [
           "OmniCron",
           "Scrypt"
          ],
          [
           "GreenCoin",
           "Scrypt"
          ],
          [
           "Cryptonite",
           "M7 POW"
          ],
          [
           "MasterCoin",
           "Scrypt"
          ],
          [
           "SoonCoin",
           "SHA-256"
          ],
          [
           "1Credit",
           "Scrypt"
          ],
          [
           "MarsCoin ",
           "X11"
          ],
          [
           "Crypto",
           "Lyra2RE"
          ],
          [
           "Anarchists Prime",
           "SHA-256"
          ],
          [
           "BowsCoin",
           "X11"
          ],
          [
           "Song Coin",
           "Scrypt"
          ],
          [
           "BitZeny",
           "Scrypt"
          ],
          [
           "Expanse",
           "Ethash"
          ],
          [
           "Siacoin",
           "Blake2b"
          ],
          [
           "MindCoin",
           "X11"
          ],
          [
           "I0coin",
           "SHA-256"
          ],
          [
           "Revolution VR",
           "Scrypt"
          ],
          [
           "HOdlcoin",
           "1GB AES Pattern Search"
          ],
          [
           "Gamecredits",
           "Scrypt"
          ],
          [
           "CarpeDiemCoin",
           "SHA-256"
          ],
          [
           "Adzcoin",
           "X11"
          ],
          [
           "SoilCoin",
           "Dagger"
          ],
          [
           "YoCoin",
           "Scrypt"
          ],
          [
           "SibCoin",
           "X11GOST"
          ],
          [
           "Francs",
           "Scrypt"
          ],
          [
           "BolivarCoin",
           "X11"
          ],
          [
           "Omni",
           "Scrypt"
          ],
          [
           "PizzaCoin",
           "X11"
          ],
          [
           "Komodo",
           "Equihash"
          ],
          [
           "Karbo",
           "CryptoNight"
          ],
          [
           "ZayedCoin",
           "SHA-256"
          ],
          [
           "Circuits of Value",
           "Multiple"
          ],
          [
           "DopeCoin",
           "Scrypt"
          ],
          [
           "DollarCoin",
           "SHA-256"
          ],
          [
           "Shilling",
           "Scrypt"
          ],
          [
           "ZCoin",
           "Lyra2Z"
          ],
          [
           "Elementrem",
           "Ethash"
          ],
          [
           "ZClassic",
           "Equihash"
          ],
          [
           "KiloCoin",
           "Scrypt"
          ],
          [
           "ArtexCoin",
           "X11"
          ],
          [
           "Kurrent",
           "X11"
          ],
          [
           "Cannabis Industry Coin",
           "CryptoNight"
          ],
          [
           "OsmiumCoin",
           "Scrypt"
          ],
          [
           "Bikercoins",
           "CryptoNight"
          ],
          [
           "HexxCoin",
           "Lyra2RE"
          ],
          [
           "PacCoin",
           "X11"
          ],
          [
           "Citadel",
           "CryptoNight-V7"
          ],
          [
           "BeaverCoin",
           "Scrypt"
          ],
          [
           "VaultCoin",
           "X11"
          ],
          [
           "Zero",
           "Equihash"
          ],
          [
           "Canada eCoin",
           "Scrypt"
          ],
          [
           "Zoin",
           "Lyra2RE"
          ],
          [
           "DubaiCoin",
           "Dagger-Hashimoto"
          ],
          [
           "EB3coin",
           "Scrypt"
          ],
          [
           "Coinonat",
           "NIST5"
          ],
          [
           "BenjiRolls",
           "Scrypt"
          ],
          [
           "ILCoin",
           "SHA-256"
          ],
          [
           "EquiTrader",
           "Scrypt"
          ],
          [
           "Quantum Resistant Ledger",
           "CryptoNight-V7"
          ],
          [
           "Dynamic",
           "Argon2d"
          ],
          [
           "Nano",
           "Blake2b"
          ],
          [
           "ChanCoin",
           "Cloverhash"
          ],
          [
           "Dinastycoin",
           "CryptoNight"
          ],
          [
           "DigitalPrice",
           "X11"
          ],
          [
           "Unify",
           "Scrypt"
          ],
          [
           "SocialCoin",
           "Scrypt"
          ],
          [
           "ArcticCoin",
           "X11"
          ],
          [
           "DAS",
           "X11"
          ],
          [
           "LeviarCoin",
           "CryptoNight"
          ],
          [
           "Bitcore",
           "Time Travel"
          ],
          [
           "gCn Coin",
           "Scrypt"
          ],
          [
           "SmartCash",
           "Keccak"
          ],
          [
           "Onix",
           "X11"
          ],
          [
           "Bitcoin Cash",
           "SHA-256"
          ],
          [
           "Sojourn Coin",
           "Scrypt"
          ],
          [
           "NewYorkCoin",
           "Scrypt"
          ],
          [
           "FrazCoin",
           "Scrypt"
          ],
          [
           "Kronecoin",
           "Scrypt"
          ],
          [
           "AdCoin",
           "Scrypt"
          ],
          [
           "Linx",
           "Scrypt"
          ],
          [
           "Sumokoin",
           "CryptoNight"
          ],
          [
           "BitcoinZ",
           "Equihash"
          ],
          [
           "Elements",
           "X11"
          ],
          [
           "VIVO Coin",
           "NeoScrypt"
          ],
          [
           "Bitcoin Gold",
           "Equihash"
          ],
          [
           "Pirl",
           "Dagger"
          ],
          [
           "eBoost",
           "Scrypt"
          ],
          [
           "Pura",
           "X11"
          ],
          [
           "Innova",
           "NeoScrypt"
          ],
          [
           "Ellaism",
           "Ethash"
          ],
          [
           "GoByte",
           "NeoScrypt"
          ],
          [
           "SHIELD",
           "Multiple"
          ],
          [
           "UltraNote",
           "CryptoNight"
          ],
          [
           "BitCoal",
           "CryptoNight"
          ],
          [
           "DaxxCoin",
           "Ethash"
          ],
          [
           "AC3",
           "X11"
          ],
          [
           "Lethean",
           "CryptoNight-V7"
          ],
          [
           "PopularCoin",
           "Scrypt"
          ],
          [
           "Photon",
           "BLAKE256"
          ],
          [
           "Sucre",
           "X11"
          ],
          [
           "SparksPay",
           "NeoScrypt"
          ],
          [
           "GunCoin",
           "NeoScrypt"
          ],
          [
           "IrishCoin",
           "Scrypt"
          ],
          [
           "Pioneer Coin",
           "X11"
          ],
          [
           "UnitedBitcoin",
           "SHA-256"
          ],
          [
           "Interzone",
           "C11"
          ],
          [
           "TurtleCoin",
           "CryptoNight"
          ],
          [
           "MUNcoin",
           "SkunkHash"
          ],
          [
           "Niobio Cash",
           "CryptoNight"
          ],
          [
           "ShareChain",
           "Scrypt"
          ],
          [
           "Travelflex",
           "Dagger"
          ],
          [
           "KREDS",
           "Lyra2REv2"
          ],
          [
           "BitFlip",
           "Scrypt"
          ],
          [
           "LottoCoin",
           "Scrypt"
          ],
          [
           "Crypto Improvement Fund",
           "X11"
          ],
          [
           "Callisto Network",
           "Ethash"
          ],
          [
           "BitTube",
           "CryptoNight"
          ],
          [
           "Poseidon",
           "Scrypt"
          ],
          [
           "Aidos Kuneen",
           "IMesh"
          ],
          [
           "Bitrolium",
           "Equihash"
          ],
          [
           "Alpenschillling",
           "Lyra2Z"
          ],
          [
           "FuturoCoin",
           "X11"
          ],
          [
           "Monero Classic",
           "CryptoNight"
          ],
          [
           "Jumpcoin",
           "NIST5"
          ],
          [
           "Infinex",
           "Lyra2RE"
          ],
          [
           "KEYCO",
           "Tribus"
          ],
          [
           "GINcoin",
           "Lyra2Z"
          ],
          [
           "PlatinCoin",
           "CryptoNight"
          ],
          [
           "Loki",
           "CryptoNight Heavy"
          ],
          [
           "Newton Coin",
           "CryptoNight"
          ],
          [
           "MassGrid",
           "Jump Consistent Hash"
          ],
          [
           "PluraCoin",
           "CryptoNight"
          ],
          [
           "Motion",
           "X16R"
          ],
          [
           "PlusOneCoin",
           "HMQ1725"
          ],
          [
           "Axe",
           "X11"
          ],
          [
           "HexCoin",
           "Scrypt"
          ],
          [
           "Webchain",
           "CryptoNight-V7"
          ],
          [
           "Ryo",
           "Cryptonight-GPU"
          ],
          [
           "Urals Coin",
           "XEVAN"
          ],
          [
           "Qwertycoin",
           "CryptoNight Heavy"
          ],
          [
           "Project Pai",
           "SHA-256"
          ],
          [
           "Azart",
           "X11"
          ],
          [
           "Xchange",
           "X16R"
          ],
          [
           "CrypticCoin",
           "Equihash"
          ],
          [
           "Actinium",
           "Lyra2Z"
          ],
          [
           "Bitcoin SV",
           "SHA-256"
          ],
          [
           "FREDEnergy",
           "CryptoNight"
          ],
          [
           "Universal Molecule",
           "Blake"
          ],
          [
           "Lithium",
           "Blake"
          ],
          [
           "PirateCash",
           "Equihash"
          ],
          [
           "Exosis",
           "Exosis"
          ],
          [
           "Block-Logic",
           "Scrypt"
          ],
          [
           "Beam",
           "Equihash"
          ],
          [
           "Bithereum",
           "Equihash"
          ],
          [
           "SLICE",
           "QuBit"
          ],
          [
           "BLAST",
           "SHA-256"
          ],
          [
           "Bitcoin Rhodium",
           "X13"
          ],
          [
           "GlobalToken",
           "SHA-256"
          ],
          [
           "SolarCoin",
           "Scrypt"
          ],
          [
           "UFO Coin",
           "NeoScrypt"
          ],
          [
           "BlakeCoin",
           "Blake"
          ],
          [
           "Crypto Escudo",
           "Scrypt"
          ],
          [
           "Crown Coin",
           "SHA-256"
          ],
          [
           "SmileyCoin",
           "Scrypt"
          ],
          [
           "Groestlcoin",
           "Groestl"
          ],
          [
           "Bata",
           "Scrypt"
          ],
          [
           "Pakcoin",
           "Scrypt"
          ],
          [
           "JoinCoin",
           "Multiple"
          ],
          [
           "Vollar",
           "Equihash+Scrypt"
          ],
          [
           "Reality Clash",
           "Ethash"
          ],
          [
           "Beldex",
           "CryptoNight"
          ],
          [
           "Horizen",
           "Equihash"
          ]
         ],
         "hovertemplate": "<b>%{hovertext}</b><br><br>Class=%{marker.color}<br>PC 1=%{x}<br>PC 2=%{y}<br>PC 3=%{z}<br>CoinName=%{customdata[0]}<br>Algorithm=%{customdata[1]}<extra></extra>",
         "hovertext": [
          "Bitcoin",
          "Ethereum",
          "Litecoin",
          "Monero",
          "Ethereum Classic",
          "ZCash",
          "DigiByte",
          "ProsperCoin",
          "Spreadcoin",
          "Argentum",
          "MyriadCoin",
          "MoonCoin",
          "ZetaCoin",
          "SexCoin",
          "Quatloo",
          "QuarkCoin",
          "Riecoin",
          "Digitalcoin ",
          "Catcoin",
          "CannaCoin",
          "CryptCoin",
          "Verge",
          "DevCoin",
          "EarthCoin",
          "E-Gulden",
          "Einsteinium",
          "Emerald",
          "Franko",
          "FeatherCoin",
          "GrandCoin",
          "GlobalCoin",
          "GoldCoin",
          "Infinite Coin",
          "IXcoin",
          "KrugerCoin",
          "LuckyCoin",
          "Litebar ",
          "MegaCoin",
          "MediterraneanCoin",
          "MinCoin",
          "NobleCoin",
          "Namecoin",
          "NyanCoin",
          "RonPaulCoin",
          "StableCoin",
          "SmartCoin",
          "SysCoin",
          "TigerCoin",
          "TerraCoin",
          "UnbreakableCoin",
          "Unobtanium",
          "UroCoin",
          "ViaCoin",
          "Vertcoin",
          "WorldCoin",
          "JouleCoin",
          "ByteCoin",
          "DigitalNote ",
          "MonaCoin",
          "Gulden",
          "PesetaCoin",
          "Wild Beast Coin",
          "Flo",
          "ArtByte",
          "Folding Coin",
          "Unitus",
          "CypherPunkCoin",
          "OmniCron",
          "GreenCoin",
          "Cryptonite",
          "MasterCoin",
          "SoonCoin",
          "1Credit",
          "MarsCoin ",
          "Crypto",
          "Anarchists Prime",
          "BowsCoin",
          "Song Coin",
          "BitZeny",
          "Expanse",
          "Siacoin",
          "MindCoin",
          "I0coin",
          "Revolution VR",
          "HOdlcoin",
          "Gamecredits",
          "CarpeDiemCoin",
          "Adzcoin",
          "SoilCoin",
          "YoCoin",
          "SibCoin",
          "Francs",
          "BolivarCoin",
          "Omni",
          "PizzaCoin",
          "Komodo",
          "Karbo",
          "ZayedCoin",
          "Circuits of Value",
          "DopeCoin",
          "DollarCoin",
          "Shilling",
          "ZCoin",
          "Elementrem",
          "ZClassic",
          "KiloCoin",
          "ArtexCoin",
          "Kurrent",
          "Cannabis Industry Coin",
          "OsmiumCoin",
          "Bikercoins",
          "HexxCoin",
          "PacCoin",
          "Citadel",
          "BeaverCoin",
          "VaultCoin",
          "Zero",
          "Canada eCoin",
          "Zoin",
          "DubaiCoin",
          "EB3coin",
          "Coinonat",
          "BenjiRolls",
          "ILCoin",
          "EquiTrader",
          "Quantum Resistant Ledger",
          "Dynamic",
          "Nano",
          "ChanCoin",
          "Dinastycoin",
          "DigitalPrice",
          "Unify",
          "SocialCoin",
          "ArcticCoin",
          "DAS",
          "LeviarCoin",
          "Bitcore",
          "gCn Coin",
          "SmartCash",
          "Onix",
          "Bitcoin Cash",
          "Sojourn Coin",
          "NewYorkCoin",
          "FrazCoin",
          "Kronecoin",
          "AdCoin",
          "Linx",
          "Sumokoin",
          "BitcoinZ",
          "Elements",
          "VIVO Coin",
          "Bitcoin Gold",
          "Pirl",
          "eBoost",
          "Pura",
          "Innova",
          "Ellaism",
          "GoByte",
          "SHIELD",
          "UltraNote",
          "BitCoal",
          "DaxxCoin",
          "AC3",
          "Lethean",
          "PopularCoin",
          "Photon",
          "Sucre",
          "SparksPay",
          "GunCoin",
          "IrishCoin",
          "Pioneer Coin",
          "UnitedBitcoin",
          "Interzone",
          "TurtleCoin",
          "MUNcoin",
          "Niobio Cash",
          "ShareChain",
          "Travelflex",
          "KREDS",
          "BitFlip",
          "LottoCoin",
          "Crypto Improvement Fund",
          "Callisto Network",
          "BitTube",
          "Poseidon",
          "Aidos Kuneen",
          "Bitrolium",
          "Alpenschillling",
          "FuturoCoin",
          "Monero Classic",
          "Jumpcoin",
          "Infinex",
          "KEYCO",
          "GINcoin",
          "PlatinCoin",
          "Loki",
          "Newton Coin",
          "MassGrid",
          "PluraCoin",
          "Motion",
          "PlusOneCoin",
          "Axe",
          "HexCoin",
          "Webchain",
          "Ryo",
          "Urals Coin",
          "Qwertycoin",
          "Project Pai",
          "Azart",
          "Xchange",
          "CrypticCoin",
          "Actinium",
          "Bitcoin SV",
          "FREDEnergy",
          "Universal Molecule",
          "Lithium",
          "PirateCash",
          "Exosis",
          "Block-Logic",
          "Beam",
          "Bithereum",
          "SLICE",
          "BLAST",
          "Bitcoin Rhodium",
          "GlobalToken",
          "SolarCoin",
          "UFO Coin",
          "BlakeCoin",
          "Crypto Escudo",
          "Crown Coin",
          "SmileyCoin",
          "Groestlcoin",
          "Bata",
          "Pakcoin",
          "JoinCoin",
          "Vollar",
          "Reality Clash",
          "Beldex",
          "Horizen"
         ],
         "legendgroup": "1",
         "marker": {
          "color": [
           1,
           1,
           1,
           1,
           1,
           1,
           1,
           1,
           1,
           1,
           1,
           1,
           1,
           1,
           1,
           1,
           1,
           1,
           1,
           1,
           1,
           1,
           1,
           1,
           1,
           1,
           1,
           1,
           1,
           1,
           1,
           1,
           1,
           1,
           1,
           1,
           1,
           1,
           1,
           1,
           1,
           1,
           1,
           1,
           1,
           1,
           1,
           1,
           1,
           1,
           1,
           1,
           1,
           1,
           1,
           1,
           1,
           1,
           1,
           1,
           1,
           1,
           1,
           1,
           1,
           1,
           1,
           1,
           1,
           1,
           1,
           1,
           1,
           1,
           1,
           1,
           1,
           1,
           1,
           1,
           1,
           1,
           1,
           1,
           1,
           1,
           1,
           1,
           1,
           1,
           1,
           1,
           1,
           1,
           1,
           1,
           1,
           1,
           1,
           1,
           1,
           1,
           1,
           1,
           1,
           1,
           1,
           1,
           1,
           1,
           1,
           1,
           1,
           1,
           1,
           1,
           1,
           1,
           1,
           1,
           1,
           1,
           1,
           1,
           1,
           1,
           1,
           1,
           1,
           1,
           1,
           1,
           1,
           1,
           1,
           1,
           1,
           1,
           1,
           1,
           1,
           1,
           1,
           1,
           1,
           1,
           1,
           1,
           1,
           1,
           1,
           1,
           1,
           1,
           1,
           1,
           1,
           1,
           1,
           1,
           1,
           1,
           1,
           1,
           1,
           1,
           1,
           1,
           1,
           1,
           1,
           1,
           1,
           1,
           1,
           1,
           1,
           1,
           1,
           1,
           1,
           1,
           1,
           1,
           1,
           1,
           1,
           1,
           1,
           1,
           1,
           1,
           1,
           1,
           1,
           1,
           1,
           1,
           1,
           1,
           1,
           1,
           1,
           1,
           1,
           1,
           1,
           1,
           1,
           1,
           1,
           1,
           1,
           1,
           1,
           1,
           1,
           1,
           1,
           1,
           1,
           1,
           1,
           1,
           1,
           1,
           1,
           1,
           1,
           1,
           1,
           1,
           1,
           1,
           1,
           1,
           1,
           1,
           1
          ],
          "coloraxis": "coloraxis",
          "symbol": "diamond"
         },
         "mode": "markers",
         "name": "1",
         "scene": "scene",
         "showlegend": true,
         "type": "scatter3d",
         "x": [
          -0.1453880272498263,
          -0.16163620804969686,
          -0.16346318981265892,
          -0.15788404739879916,
          -0.16008749535128777,
          -0.16099588397985268,
          0.1541896540824821,
          -0.1646035418527525,
          -0.23074677192568616,
          -0.1642222734307472,
          -0.09786292516141375,
          2.5409082000451493,
          -0.14248782081217579,
          -0.1614921275660411,
          -0.16402756537301877,
          -0.23681135762813377,
          -0.18607999451901513,
          -0.1640755876070402,
          -0.16458588910241279,
          -0.1646718687685669,
          -0.23083568476371003,
          0.17787515564718231,
          0.23051511213306491,
          0.082782363645726,
          -0.16441940549544604,
          -0.16004767602663994,
          -0.16435908881780845,
          -0.16472859133250284,
          -0.16693267444481114,
          -0.14406038541280353,
          -0.16352981181216725,
          -0.16380601137458237,
          1.5752512164806292,
          -0.14534957363008438,
          -0.1611097772359213,
          -0.1644457158419381,
          -0.16479871528264933,
          -0.1640617703601401,
          -0.14062325897270359,
          -0.16468061323943456,
          -0.030356533067742178,
          -0.14542682867206663,
          -0.15837686538627335,
          -0.16466026028435088,
          -0.1627656453791669,
          -0.16414966034904846,
          -0.1326465454728777,
          -0.14489331659453897,
          -0.14517915517237998,
          -0.14516260311383503,
          -0.14574979554804474,
          -0.23100860021159683,
          -0.164378068603758,
          -0.1841091665792758,
          -0.1614969762037512,
          -0.14496028273788783,
          3.8358526573608756,
          0.45216787724158786,
          -0.16325168204035054,
          -0.14793708675882747,
          -0.16197698914252737,
          -0.16480092742533678,
          -0.16184258199699894,
          -0.14813783555604337,
          -0.126729738716392,
          -0.13169347511059093,
          -0.1766092160353345,
          -0.1646745939549617,
          -0.03829589050851765,
          -0.11072620137238652,
          -0.1648097588821617,
          -0.1454544789757896,
          0.4834271937134816,
          -0.23039892755701505,
          -0.15480192445561802,
          -0.14519586476031723,
          -0.23068239989433087,
          -0.16294425953725503,
          -0.16214060392332963,
          -0.1626989489257421,
          0.3803281001897612,
          -0.23071758384269828,
          -0.14535069084125177,
          -0.16078825579042733,
          -0.16796595653775973,
          -0.1633805366306821,
          0.2709974255857781,
          -0.22988283916460475,
          -0.14871735527078214,
          -0.16362768515760112,
          -0.15851055488385482,
          -0.16460082925077968,
          -0.230681086935999,
          -0.164809817078379,
          -0.2308303712575228,
          -0.2985065660269627,
          0.2978841838465746,
          -0.14560947053131454,
          -0.11186937878381453,
          -0.16199152619361865,
          -0.14556829880302594,
          -0.1644750568066242,
          -0.1396956219189529,
          -0.16244238093347158,
          -0.16101740206218804,
          -0.09197286034214328,
          -0.21747994321926548,
          -0.22867052774059957,
          0.2978784617660819,
          -0.16479165986453476,
          0.29800853859592447,
          -0.15533932772632136,
          0.48012383927675745,
          -0.15665628778020171,
          -0.164760098759229,
          -0.22360760681967745,
          -0.1610296795495445,
          -0.16290289398708013,
          -0.15505910901262096,
          -0.14225249487760264,
          -0.13585753089584254,
          -0.18307186882942203,
          -0.1643248066412179,
          -0.1121141018772492,
          -0.16414805717402134,
          -0.15651386136346818,
          -0.151637005195554,
          -0.01814571040415638,
          -0.17613613347800888,
          0.3338149672414986,
          -0.22989135701903549,
          -0.16446532062038374,
          -0.16423035139816133,
          -0.23028382322068797,
          -0.2308582134570347,
          0.29827130531047513,
          -0.12358200824329374,
          3.2272443019204027,
          -0.12074023416016601,
          -0.22178312794588304,
          -0.14538719529345157,
          -0.09083095579875194,
          1.5742110782574665,
          -0.16456272755174764,
          -0.16401753225193466,
          -0.16372003924089104,
          -0.16370702999860365,
          0.2984537195625269,
          0.05011106430832568,
          -0.18547209422847405,
          -0.17159680187794885,
          -0.16087647631457921,
          -0.14748341742963877,
          -0.1629011113406127,
          -0.22642640907093686,
          -0.17144310470011484,
          -0.16081765030366696,
          -0.1715427167342016,
          -0.12197672730240686,
          1.1311197814623153,
          0.29786139682920887,
          -0.08614968218038103,
          -0.22617120207394564,
          -0.14568487988517276,
          -0.0813841266694824,
          1.0911378477188767,
          -0.23083234025940366,
          -0.1715943106338679,
          -0.16466892973541394,
          -0.16381760535500678,
          -0.2307581217660302,
          -0.1453666785234432,
          -0.21489593201226723,
          7.990097110975967,
          -0.14534764157851848,
          0.3017147969495197,
          0.027245066946629707,
          -0.14698833403210365,
          -0.16974367369170776,
          -0.16438845932295484,
          0.14109507357743228,
          -0.22493071083407423,
          -0.11413449593040323,
          0.30573820587559764,
          -0.16462419157318411,
          -0.13031772010888426,
          -0.15987268489663126,
          -0.13749211843520096,
          -0.22993194285874505,
          0.2980430200760272,
          -0.18313078047385056,
          -0.1551854404674757,
          -0.16875347165046456,
          -0.13977950115935336,
          0.30194732911152916,
          0.5801088563496999,
          2.0963762010027884,
          -0.16106675144100543,
          0.3115756946563219,
          -0.19961078232841736,
          -0.15366411375616593,
          -0.2308145943501735,
          -0.16464867218653356,
          -0.14557295876291332,
          -0.13845610398273075,
          -0.18349728103330787,
          3.089241959047533,
          -0.10541998825158373,
          -0.23078613178851048,
          -0.19904191840590152,
          -0.05618165461326493,
          -0.13918075906834457,
          -0.14538723268699164,
          0.3773559856066,
          -0.13218327100578295,
          -0.13257268673587888,
          -0.2921426962609996,
          -0.1539577862192895,
          -0.16354703657843245,
          -0.15894792325443508,
          -0.16071016101665359,
          -0.1758248198532846,
          -0.14466712605587925,
          -0.10693602556373608,
          -0.1435413057887548,
          0.5270834663097856,
          -0.09714293725326631,
          -0.08333592648840904,
          -0.148287732578339,
          -0.14517852850424862,
          0.5472430466140035,
          -0.18564321765752162,
          -0.1647249845248832,
          -0.16269185589751362,
          -0.13242502619053637,
          -0.1064522773961265,
          -0.16247537021677683,
          0.3195048038224356,
          -0.1609969360911895
         ],
         "y": [
          -1.31635432686346,
          -1.9974251839353012,
          -1.1302215521333092,
          -2.185601917093703,
          -1.9975224796616025,
          -2.146337158481002,
          -1.8322628059768085,
          -1.130213743560608,
          -0.9137092042144916,
          -1.130231636299481,
          -1.8270013195137669,
          -1.3121111897855577,
          -1.3163662236963962,
          -1.1302748322507445,
          -1.130250555199327,
          -0.44355581147017265,
          -1.3209786879460381,
          -1.1302159644493348,
          -1.1302131850331358,
          -1.1302104297334,
          -0.9137106240886484,
          -1.828416794707449,
          -1.3190758909740297,
          -1.1317766772210653,
          -1.1302079175441466,
          -1.1302638181761677,
          -1.1302136722939116,
          -1.1302108978655336,
          -1.596780811546607,
          -1.1305388026478957,
          -1.1302139069318136,
          -1.1302242102661466,
          -1.1382671502769972,
          -1.3163531102030166,
          -1.1302734777074928,
          -1.1302080533451953,
          -1.1302062296132112,
          -1.1302112317318143,
          -2.2042169727987027,
          -1.1302085189245712,
          -1.1364013314130887,
          -1.3163555545282588,
          -1.1302368748885083,
          -1.130215538113954,
          -1.130315125954013,
          -1.1302204217238396,
          -1.3165551859735487,
          -1.316356795612491,
          -1.3163623478675113,
          -1.3163882968672542,
          -1.316351317610276,
          -0.9137035553782709,
          -1.1302080029579764,
          -1.2115214097843512,
          -1.1302857285611159,
          -1.31635751276262,
          -2.3108616765718746,
          -2.2963776490670647,
          -1.130229573342811,
          -1.1308421645836344,
          -1.1302319234218274,
          -1.130207189923467,
          -1.1302232220148132,
          -1.1303747941825564,
          -2.1142190115942197,
          -1.8266784073913087,
          -1.532583748580055,
          -1.130203710617931,
          -1.1331692799667563,
          -2.053615337555353,
          -1.1302060701110443,
          -1.316356429375177,
          -1.1737874291966401,
          -0.9137072549785864,
          -2.2349185709462946,
          -1.3163710691581383,
          -0.9137078641536995,
          -1.1302930784440777,
          -1.1302953498388362,
          -1.997470586564746,
          -2.1122202963343906,
          -0.9137054941125458,
          -1.3163531455512272,
          -1.1302246959672713,
          -2.2093814979062865,
          -1.1302189370126132,
          -1.3182313412918283,
          -0.9137264552563296,
          -2.1862331391988588,
          -1.130285520051168,
          -2.173794705311059,
          -1.1302129610846896,
          -0.9137106092122868,
          -1.1302060698415046,
          -0.9137153325212909,
          -1.9038746600234129,
          -2.29429960268646,
          -1.316353486193176,
          -1.8268871592681608,
          -1.130255800564133,
          -1.3163528121185766,
          -1.1302159481845342,
          -2.1705943481141743,
          -1.9974689470818088,
          -2.146337839306363,
          -1.134867602418572,
          -0.9136238379458556,
          -0.9137884157103079,
          -2.2943074468817723,
          -1.130206956811902,
          -2.2943061178919426,
          -2.2348967087371774,
          -0.9608685529415285,
          -2.185691951423463,
          -1.1302064080651373,
          -0.9141660403178965,
          -2.146335441162028,
          -1.1302149709502238,
          -2.234895505856345,
          -2.2829245547059482,
          -1.1320761993354853,
          -0.593434361253758,
          -1.130215040103436,
          -1.317028545783613,
          -1.130234861320801,
          -2.1856317130928913,
          -2.2099157141636345,
          -2.125064940164573,
          -2.1901597036495777,
          -2.2945490975824776,
          -0.9137378711592702,
          -1.1302081698169104,
          -1.1302395550343156,
          -0.9137224226647566,
          -0.9137119638744629,
          -2.2943180068869724,
          -2.069114616972196,
          -1.162212123181829,
          -1.2373661882357518,
          -0.9141779793842663,
          -1.3163543005406193,
          -1.1351797979397813,
          -1.0751835659375883,
          -1.1302117555589102,
          -1.1302390913538258,
          -1.130240825169179,
          -1.1302404135608426,
          -2.2943365407027416,
          -2.154272822273009,
          -0.9135167647228633,
          -1.5967131182087968,
          -2.1463333804600095,
          -2.1862820893843606,
          -1.1302149145478493,
          -0.9138024038064206,
          -1.5967207949791984,
          -1.9975943470378474,
          -1.596714750892062,
          -1.8268307615742188,
          -2.327144577550182,
          -2.2943020652856365,
          -2.0020033144264273,
          -0.9139336591460608,
          -2.185912228110555,
          -1.1310493279931453,
          -1.3642969599945325,
          -0.9137117722396628,
          -1.5967088594863537,
          -1.5968234379828403,
          -1.130218832728775,
          -0.9137116532700046,
          -1.316353070390329,
          -1.2589612869469822,
          -2.7475634812645997,
          -2.159056979413483,
          -2.2944055112064046,
          -1.1310955846761213,
          -2.186227199013475,
          -1.2117746865499766,
          -1.1302201747678138,
          -1.1333501291312338,
          -0.9138595778909886,
          -2.0004504699822836,
          -2.29474078744198,
          -1.1302143969112708,
          -2.2996932080608308,
          -2.1463357566672503,
          -2.1707187166588917,
          -0.9137391552824802,
          -2.2943004290184614,
          -0.5934172400926698,
          -2.2349031812560964,
          -2.1152121641655532,
          -2.1705894085414936,
          -2.2945820699343757,
          -2.0873429727123027,
          -2.3655725222261976,
          -2.2297406971533635,
          -2.294556091132013,
          -1.2901780749182974,
          -2.090073737508525,
          -0.9137120467447261,
          -1.130215941451699,
          -2.1864315356963258,
          -2.130159611856339,
          -0.5710817584992568,
          -2.136361326214875,
          -1.3165380861152405,
          -0.9137139327983984,
          -1.2902143622096383,
          -2.1483007798963363,
          -2.170621668308186,
          -1.3163543017237385,
          -2.297407105716302,
          -2.217052505803495,
          -2.2170091705857815,
          -0.1751717517138732,
          -2.4109127975282103,
          -1.1302492844202034,
          -2.146440811628079,
          -2.146335005378601,
          -1.532628595535835,
          -1.3163614737281928,
          -0.3711919169342772,
          -1.3163983047334256,
          -1.1766557237236996,
          -1.5971252119619366,
          -2.2203103096327874,
          -1.1303795368772205,
          -1.3163623280399286,
          -1.1425090138240852,
          -1.3209794981143685,
          -1.1302064395678741,
          -1.1302654190750185,
          -1.8267035040576334,
          -2.1428477744503285,
          -1.9974687942897291,
          -2.29458403170943,
          -2.1463371917694753
         ],
         "z": [
          0.19383791009462856,
          0.3768214760489055,
          -0.028788133213206345,
          0.43360302191032346,
          0.3767883959748408,
          0.3383092679663935,
          0.29890793790678,
          -0.028756375132454055,
          0.0901010665376772,
          -0.02876522148296269,
          0.30551754452158547,
          -0.08516253881939548,
          0.19375621806160792,
          -0.02883841373744086,
          -0.028768605171580634,
          0.07349255837119023,
          0.045349264162805776,
          -0.02877123997079692,
          -0.02875694551779969,
          -0.028754802220042164,
          0.09010377790373203,
          0.2977836174702078,
          0.1833863540775556,
          -0.0356611083368889,
          -0.028762324838747303,
          -0.02888106443408541,
          -0.02876338532132161,
          -0.028753123228790787,
          0.23487977994507594,
          -0.029307111620150688,
          -0.02878711129711429,
          -0.028778005520406092,
          -0.07765776994570638,
          0.19383666760375587,
          -0.028849522529261675,
          -0.028761555481003533,
          -0.028751655870060424,
          -0.028772184433597355,
          0.2875318617082852,
          -0.028754773281519586,
          -0.03188428029232633,
          0.1938391638234932,
          -0.028932045556834804,
          -0.0287545424796616,
          -0.028797264574623366,
          -0.028768601529248292,
          0.19349623958974613,
          0.19382402619628425,
          0.19383285724470714,
          0.19383539156211935,
          0.19384792342951845,
          0.09010791124442372,
          -0.02876349895864647,
          0.1399738977372667,
          -0.028837011582649206,
          0.19382602746695812,
          0.20871255423313642,
          0.3039530236929647,
          -0.028793261534143452,
          -0.029160899785714744,
          -0.028829500407731554,
          -0.028751481172647513,
          -0.02883435906950788,
          -0.029209334722099394,
          0.35574676759070034,
          0.30644912389630513,
          0.22297960678777937,
          -0.028755503148921766,
          -0.032031582345043746,
          0.4198670719494866,
          -0.028751358037644826,
          0.19384005724393719,
          -0.042266317127115656,
          0.09009087716206929,
          0.3958859633399975,
          0.1938343469725376,
          0.09009906735303072,
          -0.02879470458579225,
          -0.028817460548616614,
          0.3768571801859359,
          0.3529803841087854,
          0.09009980036226728,
          0.1938367037024298,
          -0.02886438750204512,
          0.3784831904098934,
          -0.02879080385448465,
          0.18212889586195807,
          0.0900783207218043,
          0.3460475775035243,
          -0.02877600535246503,
          0.4935422165305351,
          -0.02875654354724812,
          0.09009934799663093,
          -0.028751356401966122,
          0.09010417158432571,
          0.3599312960184447,
          0.3081312879811152,
          0.19384415548336772,
          0.30590549943160306,
          -0.028826315800311256,
          0.19384289804226987,
          -0.02875979976505659,
          0.401665454962481,
          0.37684964117281916,
          0.33830996324608664,
          -0.03029720348636819,
          0.08971116458405724,
          0.09005077964114629,
          0.3081323613042738,
          -0.028751773651609736,
          0.30812848140495924,
          0.3958988216938519,
          0.07520689428113261,
          0.4335782931148414,
          -0.02875274128334292,
          0.08994954145955854,
          0.33831003688193584,
          -0.028804944895689046,
          0.3958906558653689,
          0.1439950038030274,
          -0.02936382838827143,
          0.004138778894004872,
          -0.028764208695571537,
          0.19296300333795297,
          -0.028766973380964053,
          0.43356722977291784,
          0.20894288197160737,
          0.36588312035994497,
          0.4917990594494628,
          0.3071310394236698,
          0.09007988821430292,
          -0.028760980433406497,
          -0.028764072037763495,
          0.0900893386812753,
          0.09010457852780261,
          0.3081223332773251,
          0.2711040895627433,
          -0.12220011809702953,
          0.1743618943023996,
          0.08989866664370107,
          0.19383788321294132,
          -0.03029371664544596,
          -0.0849416323715497,
          -0.028757774667065104,
          -0.028770221624489473,
          -0.028778541776118955,
          -0.028778962123147612,
          0.30811925707802224,
          0.3331825101022493,
          0.08878194250694829,
          0.23500552756637688,
          0.3383054097357441,
          0.3460179086143993,
          -0.0288050024955192,
          0.08998812253889286,
          0.23500201519518793,
          0.3768176419896459,
          0.23500416767941143,
          0.30618846810194683,
          0.28807263572906794,
          0.3081322261788578,
          0.37519006742468197,
          0.08999602979674697,
          0.43328957445295185,
          -0.031043174383893795,
          0.011012809338905897,
          0.09010381521827845,
          0.23500496247004196,
          0.23481988090269384,
          -0.02877829688117412,
          0.09010167556743744,
          0.1938371529275682,
          0.11738037635952178,
          0.1403509801332467,
          0.31782424195973524,
          0.30803384542276036,
          -0.03414930343362023,
          0.3459973640553844,
          0.13959178738614383,
          -0.028761790184451456,
          -0.03714895353055064,
          0.0899519094299768,
          0.3758116126117442,
          0.3079574725320068,
          -0.028755707910763467,
          0.31193104177906344,
          0.33827693338695797,
          0.4016167582729682,
          0.09008119960022067,
          0.3081268341987552,
          0.00413848135617007,
          0.39589516426208626,
          0.4834284786423959,
          0.40166728486148257,
          0.30804765445272975,
          0.35286535060239704,
          0.26487974654996743,
          0.4382532572741176,
          0.3077688550083199,
          0.18024146653253437,
          0.46868741166637884,
          0.09010333874297986,
          -0.02875482763896169,
          0.43334657508849156,
          0.5026245334569311,
          -0.0848311476050927,
          0.28667864304127016,
          0.1927144003390458,
          0.09010274214447445,
          0.18022937942936612,
          0.33553470335013935,
          0.4016538750159178,
          0.19383788442117952,
          0.30621522955695907,
          0.25750198014052195,
          0.25750811015833264,
          0.1193596724707432,
          0.23451723768902585,
          -0.028782516401266067,
          0.3382626248658202,
          0.3383008343135406,
          0.2229623385156116,
          0.19381808972861253,
          -0.09115022947379738,
          0.19379011262821635,
          -0.043184235685434065,
          0.23292070427233874,
          0.256480530604378,
          -0.02920449133717572,
          0.19383283699617274,
          -0.047720502636029664,
          0.04533684738678199,
          -0.028753743416420015,
          -0.028805140958614056,
          0.30647298749398466,
          0.32996014848313715,
          0.37685056837862174,
          0.3075449789636143,
          0.3383093019616
         ]
        },
        {
         "customdata": [
          [
           "Vechain",
           "VeChainThor Authority"
          ],
          [
           "BiblePay",
           "Proof-of-BibleHash"
          ],
          [
           "LitecoinCash",
           "SHA-256 + Hive"
          ],
          [
           "Poa Network",
           "Proof-of-Authority"
          ]
         ],
         "hovertemplate": "<b>%{hovertext}</b><br><br>Class=%{marker.color}<br>PC 1=%{x}<br>PC 2=%{y}<br>PC 3=%{z}<br>CoinName=%{customdata[0]}<br>Algorithm=%{customdata[1]}<extra></extra>",
         "hovertext": [
          "Vechain",
          "BiblePay",
          "LitecoinCash",
          "Poa Network"
         ],
         "legendgroup": "3",
         "marker": {
          "color": [
           3,
           3,
           3,
           3
          ],
          "coloraxis": "coloraxis",
          "symbol": "square"
         },
         "mode": "markers",
         "name": "3",
         "scene": "scene",
         "showlegend": true,
         "type": "scatter3d",
         "x": [
          4.35159203800062,
          -0.09389014756784028,
          -0.3521430564515463,
          -0.4590255922913486
         ],
         "y": [
          3.133707192097864,
          2.463268683483901,
          3.0388791311879055,
          3.451889514238419
         ],
         "z": [
          10.078277144167423,
          13.75137233446162,
          21.667304210335324,
          14.615974568311088
         ]
        },
        {
         "customdata": [
          [
           "BitTorrent",
           "TRC10"
          ]
         ],
         "hovertemplate": "<b>%{hovertext}</b><br><br>Class=%{marker.color}<br>PC 1=%{x}<br>PC 2=%{y}<br>PC 3=%{z}<br>CoinName=%{customdata[0]}<br>Algorithm=%{customdata[1]}<extra></extra>",
         "hovertext": [
          "BitTorrent"
         ],
         "legendgroup": "2",
         "marker": {
          "color": [
           2
          ],
          "coloraxis": "coloraxis",
          "symbol": "x"
         },
         "mode": "markers",
         "name": "2",
         "scene": "scene",
         "showlegend": true,
         "type": "scatter3d",
         "x": [
          33.967341185775375
         ],
         "y": [
          1.6527277552900146
         ],
         "z": [
          -1.2619784097902613
         ]
        }
       ],
       "layout": {
        "coloraxis": {
         "colorbar": {
          "title": {
           "text": "Class"
          }
         },
         "colorscale": [
          [
           0,
           "#0d0887"
          ],
          [
           0.1111111111111111,
           "#46039f"
          ],
          [
           0.2222222222222222,
           "#7201a8"
          ],
          [
           0.3333333333333333,
           "#9c179e"
          ],
          [
           0.4444444444444444,
           "#bd3786"
          ],
          [
           0.5555555555555556,
           "#d8576b"
          ],
          [
           0.6666666666666666,
           "#ed7953"
          ],
          [
           0.7777777777777778,
           "#fb9f3a"
          ],
          [
           0.8888888888888888,
           "#fdca26"
          ],
          [
           1,
           "#f0f921"
          ]
         ]
        },
        "legend": {
         "title": {
          "text": "Class"
         },
         "tracegroupgap": 0
        },
        "margin": {
         "t": 60
        },
        "scene": {
         "domain": {
          "x": [
           0,
           1
          ],
          "y": [
           0,
           1
          ]
         },
         "xaxis": {
          "title": {
           "text": "PC 1"
          }
         },
         "yaxis": {
          "title": {
           "text": "PC 2"
          }
         },
         "zaxis": {
          "title": {
           "text": "PC 3"
          }
         }
        },
        "template": {
         "data": {
          "bar": [
           {
            "error_x": {
             "color": "#2a3f5f"
            },
            "error_y": {
             "color": "#2a3f5f"
            },
            "marker": {
             "line": {
              "color": "#E5ECF6",
              "width": 0.5
             },
             "pattern": {
              "fillmode": "overlay",
              "size": 10,
              "solidity": 0.2
             }
            },
            "type": "bar"
           }
          ],
          "barpolar": [
           {
            "marker": {
             "line": {
              "color": "#E5ECF6",
              "width": 0.5
             },
             "pattern": {
              "fillmode": "overlay",
              "size": 10,
              "solidity": 0.2
             }
            },
            "type": "barpolar"
           }
          ],
          "carpet": [
           {
            "aaxis": {
             "endlinecolor": "#2a3f5f",
             "gridcolor": "white",
             "linecolor": "white",
             "minorgridcolor": "white",
             "startlinecolor": "#2a3f5f"
            },
            "baxis": {
             "endlinecolor": "#2a3f5f",
             "gridcolor": "white",
             "linecolor": "white",
             "minorgridcolor": "white",
             "startlinecolor": "#2a3f5f"
            },
            "type": "carpet"
           }
          ],
          "choropleth": [
           {
            "colorbar": {
             "outlinewidth": 0,
             "ticks": ""
            },
            "type": "choropleth"
           }
          ],
          "contour": [
           {
            "colorbar": {
             "outlinewidth": 0,
             "ticks": ""
            },
            "colorscale": [
             [
              0,
              "#0d0887"
             ],
             [
              0.1111111111111111,
              "#46039f"
             ],
             [
              0.2222222222222222,
              "#7201a8"
             ],
             [
              0.3333333333333333,
              "#9c179e"
             ],
             [
              0.4444444444444444,
              "#bd3786"
             ],
             [
              0.5555555555555556,
              "#d8576b"
             ],
             [
              0.6666666666666666,
              "#ed7953"
             ],
             [
              0.7777777777777778,
              "#fb9f3a"
             ],
             [
              0.8888888888888888,
              "#fdca26"
             ],
             [
              1,
              "#f0f921"
             ]
            ],
            "type": "contour"
           }
          ],
          "contourcarpet": [
           {
            "colorbar": {
             "outlinewidth": 0,
             "ticks": ""
            },
            "type": "contourcarpet"
           }
          ],
          "heatmap": [
           {
            "colorbar": {
             "outlinewidth": 0,
             "ticks": ""
            },
            "colorscale": [
             [
              0,
              "#0d0887"
             ],
             [
              0.1111111111111111,
              "#46039f"
             ],
             [
              0.2222222222222222,
              "#7201a8"
             ],
             [
              0.3333333333333333,
              "#9c179e"
             ],
             [
              0.4444444444444444,
              "#bd3786"
             ],
             [
              0.5555555555555556,
              "#d8576b"
             ],
             [
              0.6666666666666666,
              "#ed7953"
             ],
             [
              0.7777777777777778,
              "#fb9f3a"
             ],
             [
              0.8888888888888888,
              "#fdca26"
             ],
             [
              1,
              "#f0f921"
             ]
            ],
            "type": "heatmap"
           }
          ],
          "heatmapgl": [
           {
            "colorbar": {
             "outlinewidth": 0,
             "ticks": ""
            },
            "colorscale": [
             [
              0,
              "#0d0887"
             ],
             [
              0.1111111111111111,
              "#46039f"
             ],
             [
              0.2222222222222222,
              "#7201a8"
             ],
             [
              0.3333333333333333,
              "#9c179e"
             ],
             [
              0.4444444444444444,
              "#bd3786"
             ],
             [
              0.5555555555555556,
              "#d8576b"
             ],
             [
              0.6666666666666666,
              "#ed7953"
             ],
             [
              0.7777777777777778,
              "#fb9f3a"
             ],
             [
              0.8888888888888888,
              "#fdca26"
             ],
             [
              1,
              "#f0f921"
             ]
            ],
            "type": "heatmapgl"
           }
          ],
          "histogram": [
           {
            "marker": {
             "pattern": {
              "fillmode": "overlay",
              "size": 10,
              "solidity": 0.2
             }
            },
            "type": "histogram"
           }
          ],
          "histogram2d": [
           {
            "colorbar": {
             "outlinewidth": 0,
             "ticks": ""
            },
            "colorscale": [
             [
              0,
              "#0d0887"
             ],
             [
              0.1111111111111111,
              "#46039f"
             ],
             [
              0.2222222222222222,
              "#7201a8"
             ],
             [
              0.3333333333333333,
              "#9c179e"
             ],
             [
              0.4444444444444444,
              "#bd3786"
             ],
             [
              0.5555555555555556,
              "#d8576b"
             ],
             [
              0.6666666666666666,
              "#ed7953"
             ],
             [
              0.7777777777777778,
              "#fb9f3a"
             ],
             [
              0.8888888888888888,
              "#fdca26"
             ],
             [
              1,
              "#f0f921"
             ]
            ],
            "type": "histogram2d"
           }
          ],
          "histogram2dcontour": [
           {
            "colorbar": {
             "outlinewidth": 0,
             "ticks": ""
            },
            "colorscale": [
             [
              0,
              "#0d0887"
             ],
             [
              0.1111111111111111,
              "#46039f"
             ],
             [
              0.2222222222222222,
              "#7201a8"
             ],
             [
              0.3333333333333333,
              "#9c179e"
             ],
             [
              0.4444444444444444,
              "#bd3786"
             ],
             [
              0.5555555555555556,
              "#d8576b"
             ],
             [
              0.6666666666666666,
              "#ed7953"
             ],
             [
              0.7777777777777778,
              "#fb9f3a"
             ],
             [
              0.8888888888888888,
              "#fdca26"
             ],
             [
              1,
              "#f0f921"
             ]
            ],
            "type": "histogram2dcontour"
           }
          ],
          "mesh3d": [
           {
            "colorbar": {
             "outlinewidth": 0,
             "ticks": ""
            },
            "type": "mesh3d"
           }
          ],
          "parcoords": [
           {
            "line": {
             "colorbar": {
              "outlinewidth": 0,
              "ticks": ""
             }
            },
            "type": "parcoords"
           }
          ],
          "pie": [
           {
            "automargin": true,
            "type": "pie"
           }
          ],
          "scatter": [
           {
            "fillpattern": {
             "fillmode": "overlay",
             "size": 10,
             "solidity": 0.2
            },
            "type": "scatter"
           }
          ],
          "scatter3d": [
           {
            "line": {
             "colorbar": {
              "outlinewidth": 0,
              "ticks": ""
             }
            },
            "marker": {
             "colorbar": {
              "outlinewidth": 0,
              "ticks": ""
             }
            },
            "type": "scatter3d"
           }
          ],
          "scattercarpet": [
           {
            "marker": {
             "colorbar": {
              "outlinewidth": 0,
              "ticks": ""
             }
            },
            "type": "scattercarpet"
           }
          ],
          "scattergeo": [
           {
            "marker": {
             "colorbar": {
              "outlinewidth": 0,
              "ticks": ""
             }
            },
            "type": "scattergeo"
           }
          ],
          "scattergl": [
           {
            "marker": {
             "colorbar": {
              "outlinewidth": 0,
              "ticks": ""
             }
            },
            "type": "scattergl"
           }
          ],
          "scattermapbox": [
           {
            "marker": {
             "colorbar": {
              "outlinewidth": 0,
              "ticks": ""
             }
            },
            "type": "scattermapbox"
           }
          ],
          "scatterpolar": [
           {
            "marker": {
             "colorbar": {
              "outlinewidth": 0,
              "ticks": ""
             }
            },
            "type": "scatterpolar"
           }
          ],
          "scatterpolargl": [
           {
            "marker": {
             "colorbar": {
              "outlinewidth": 0,
              "ticks": ""
             }
            },
            "type": "scatterpolargl"
           }
          ],
          "scatterternary": [
           {
            "marker": {
             "colorbar": {
              "outlinewidth": 0,
              "ticks": ""
             }
            },
            "type": "scatterternary"
           }
          ],
          "surface": [
           {
            "colorbar": {
             "outlinewidth": 0,
             "ticks": ""
            },
            "colorscale": [
             [
              0,
              "#0d0887"
             ],
             [
              0.1111111111111111,
              "#46039f"
             ],
             [
              0.2222222222222222,
              "#7201a8"
             ],
             [
              0.3333333333333333,
              "#9c179e"
             ],
             [
              0.4444444444444444,
              "#bd3786"
             ],
             [
              0.5555555555555556,
              "#d8576b"
             ],
             [
              0.6666666666666666,
              "#ed7953"
             ],
             [
              0.7777777777777778,
              "#fb9f3a"
             ],
             [
              0.8888888888888888,
              "#fdca26"
             ],
             [
              1,
              "#f0f921"
             ]
            ],
            "type": "surface"
           }
          ],
          "table": [
           {
            "cells": {
             "fill": {
              "color": "#EBF0F8"
             },
             "line": {
              "color": "white"
             }
            },
            "header": {
             "fill": {
              "color": "#C8D4E3"
             },
             "line": {
              "color": "white"
             }
            },
            "type": "table"
           }
          ]
         },
         "layout": {
          "annotationdefaults": {
           "arrowcolor": "#2a3f5f",
           "arrowhead": 0,
           "arrowwidth": 1
          },
          "autotypenumbers": "strict",
          "coloraxis": {
           "colorbar": {
            "outlinewidth": 0,
            "ticks": ""
           }
          },
          "colorscale": {
           "diverging": [
            [
             0,
             "#8e0152"
            ],
            [
             0.1,
             "#c51b7d"
            ],
            [
             0.2,
             "#de77ae"
            ],
            [
             0.3,
             "#f1b6da"
            ],
            [
             0.4,
             "#fde0ef"
            ],
            [
             0.5,
             "#f7f7f7"
            ],
            [
             0.6,
             "#e6f5d0"
            ],
            [
             0.7,
             "#b8e186"
            ],
            [
             0.8,
             "#7fbc41"
            ],
            [
             0.9,
             "#4d9221"
            ],
            [
             1,
             "#276419"
            ]
           ],
           "sequential": [
            [
             0,
             "#0d0887"
            ],
            [
             0.1111111111111111,
             "#46039f"
            ],
            [
             0.2222222222222222,
             "#7201a8"
            ],
            [
             0.3333333333333333,
             "#9c179e"
            ],
            [
             0.4444444444444444,
             "#bd3786"
            ],
            [
             0.5555555555555556,
             "#d8576b"
            ],
            [
             0.6666666666666666,
             "#ed7953"
            ],
            [
             0.7777777777777778,
             "#fb9f3a"
            ],
            [
             0.8888888888888888,
             "#fdca26"
            ],
            [
             1,
             "#f0f921"
            ]
           ],
           "sequentialminus": [
            [
             0,
             "#0d0887"
            ],
            [
             0.1111111111111111,
             "#46039f"
            ],
            [
             0.2222222222222222,
             "#7201a8"
            ],
            [
             0.3333333333333333,
             "#9c179e"
            ],
            [
             0.4444444444444444,
             "#bd3786"
            ],
            [
             0.5555555555555556,
             "#d8576b"
            ],
            [
             0.6666666666666666,
             "#ed7953"
            ],
            [
             0.7777777777777778,
             "#fb9f3a"
            ],
            [
             0.8888888888888888,
             "#fdca26"
            ],
            [
             1,
             "#f0f921"
            ]
           ]
          },
          "colorway": [
           "#636efa",
           "#EF553B",
           "#00cc96",
           "#ab63fa",
           "#FFA15A",
           "#19d3f3",
           "#FF6692",
           "#B6E880",
           "#FF97FF",
           "#FECB52"
          ],
          "font": {
           "color": "#2a3f5f"
          },
          "geo": {
           "bgcolor": "white",
           "lakecolor": "white",
           "landcolor": "#E5ECF6",
           "showlakes": true,
           "showland": true,
           "subunitcolor": "white"
          },
          "hoverlabel": {
           "align": "left"
          },
          "hovermode": "closest",
          "mapbox": {
           "style": "light"
          },
          "paper_bgcolor": "white",
          "plot_bgcolor": "#E5ECF6",
          "polar": {
           "angularaxis": {
            "gridcolor": "white",
            "linecolor": "white",
            "ticks": ""
           },
           "bgcolor": "#E5ECF6",
           "radialaxis": {
            "gridcolor": "white",
            "linecolor": "white",
            "ticks": ""
           }
          },
          "scene": {
           "xaxis": {
            "backgroundcolor": "#E5ECF6",
            "gridcolor": "white",
            "gridwidth": 2,
            "linecolor": "white",
            "showbackground": true,
            "ticks": "",
            "zerolinecolor": "white"
           },
           "yaxis": {
            "backgroundcolor": "#E5ECF6",
            "gridcolor": "white",
            "gridwidth": 2,
            "linecolor": "white",
            "showbackground": true,
            "ticks": "",
            "zerolinecolor": "white"
           },
           "zaxis": {
            "backgroundcolor": "#E5ECF6",
            "gridcolor": "white",
            "gridwidth": 2,
            "linecolor": "white",
            "showbackground": true,
            "ticks": "",
            "zerolinecolor": "white"
           }
          },
          "shapedefaults": {
           "line": {
            "color": "#2a3f5f"
           }
          },
          "ternary": {
           "aaxis": {
            "gridcolor": "white",
            "linecolor": "white",
            "ticks": ""
           },
           "baxis": {
            "gridcolor": "white",
            "linecolor": "white",
            "ticks": ""
           },
           "bgcolor": "#E5ECF6",
           "caxis": {
            "gridcolor": "white",
            "linecolor": "white",
            "ticks": ""
           }
          },
          "title": {
           "x": 0.05
          },
          "xaxis": {
           "automargin": true,
           "gridcolor": "white",
           "linecolor": "white",
           "ticks": "",
           "title": {
            "standoff": 15
           },
           "zerolinecolor": "white",
           "zerolinewidth": 2
          },
          "yaxis": {
           "automargin": true,
           "gridcolor": "white",
           "linecolor": "white",
           "ticks": "",
           "title": {
            "standoff": 15
           },
           "zerolinecolor": "white",
           "zerolinewidth": 2
          }
         }
        }
       }
      },
      "text/html": [
       "<div>                            <div id=\"8ecbfba7-eeac-45e4-8d82-90825cca93f5\" class=\"plotly-graph-div\" style=\"height:525px; width:100%;\"></div>            <script type=\"text/javascript\">                require([\"plotly\"], function(Plotly) {                    window.PLOTLYENV=window.PLOTLYENV || {};                                    if (document.getElementById(\"8ecbfba7-eeac-45e4-8d82-90825cca93f5\")) {                    Plotly.newPlot(                        \"8ecbfba7-eeac-45e4-8d82-90825cca93f5\",                        [{\"customdata\":[[\"42 Coin\",\"Scrypt\"],[\"404Coin\",\"Scrypt\"],[\"EliteCoin\",\"X13\"],[\"Dash\",\"X11\"],[\"Bitshares\",\"SHA-512\"],[\"BitcoinDark\",\"SHA-256\"],[\"PayCoin\",\"SHA-256\"],[\"KoboCoin\",\"X15\"],[\"Aurora Coin\",\"Scrypt\"],[\"BlueCoin\",\"Scrypt\"],[\"EnergyCoin\",\"Scrypt\"],[\"BitBar\",\"Scrypt\"],[\"CryptoBullion\",\"Scrypt\"],[\"CasinoCoin\",\"Scrypt\"],[\"Diamond\",\"Groestl\"],[\"Exclusive Coin\",\"PoS\"],[\"FlutterCoin\",\"Scrypt\"],[\"HoboNickels\",\"Scrypt\"],[\"HyperStake\",\"X11\"],[\"IOCoin\",\"X11\"],[\"MaxCoin\",\"SHA3\"],[\"MintCoin\",\"Scrypt\"],[\"MazaCoin\",\"SHA-256\"],[\"Nautilus Coin\",\"Scrypt\"],[\"NavCoin\",\"X13\"],[\"OpalCoin\",\"X13\"],[\"Orbitcoin\",\"NeoScrypt\"],[\"PotCoin\",\"Scrypt\"],[\"PhoenixCoin\",\"Scrypt\"],[\"Reddcoin\",\"Scrypt\"],[\"SuperCoin\",\"X11\"],[\"SyncCoin\",\"X11\"],[\"TeslaCoin\",\"Multiple\"],[\"TittieCoin\",\"PHI1612\"],[\"TorCoin\",\"X11\"],[\"UnitaryStatus Dollar\",\"Scrypt\"],[\"UltraCoin\",\"Scrypt\"],[\"VeriCoin\",\"Scrypt\"],[\"X11 Coin\",\"X11\"],[\"Crypti\",\"Multiple\"],[\"StealthCoin\",\"X13\"],[\"ZCC Coin\",\"Scrypt\"],[\"BurstCoin\",\"Shabal256\"],[\"StorjCoin\",\"Counterparty\"],[\"Neutron\",\"SHA-256\"],[\"FairCoin\",\"Groestl\"],[\"RubyCoin\",\"Scrypt\"],[\"Kore\",\"X13\"],[\"Dnotes\",\"Scrypt\"],[\"8BIT Coin\",\"Scrypt\"],[\"Sativa Coin\",\"X13\"],[\"Ucoin\",\"X11\"],[\"Vtorrent\",\"Scrypt\"],[\"IslaCoin\",\"X11\"],[\"Nexus\",\"SHA3\"],[\"Droidz\",\"QUAIT\"],[\"Squall Coin\",\"X11\"],[\"Diggits\",\"Scrypt\"],[\"Paycon\",\"X13\"],[\"Emercoin\",\"SHA-256\"],[\"EverGreenCoin\",\"X15\"],[\"Decred\",\"BLAKE256\"],[\"EDRCoin\",\"SHA-256\"],[\"Hitcoin\",\"X11\"],[\"DubaiCoin\",\"SHA-256\"],[\"PWR Coin\",\"NIST5\"],[\"BillaryCoin\",\"Scrypt\"],[\"GPU Coin\",\"Scrypt\"],[\"EuropeCoin\",\"X11\"],[\"ZeitCoin\",\"Scrypt\"],[\"SwingCoin\",\"SHA-256\"],[\"SafeExchangeCoin\",\"Scrypt\"],[\"Nebuchadnezzar\",\"PoS\"],[\"Ratecoin\",\"X11\"],[\"Revenu\",\"SHA-256\"],[\"Clockcoin\",\"SHA-256\"],[\"VIP Tokens\",\"NIST5\"],[\"BitSend\",\"X11\"],[\"Let it Ride\",\"POS 3.0\"],[\"PutinCoin\",\"Scrypt\"],[\"iBankCoin\",\"Scrypt\"],[\"Frankywillcoin\",\"Scrypt\"],[\"MudraCoin\",\"X13\"],[\"Lutetium Coin\",\"X11\"],[\"GoldBlocks\",\"X11\"],[\"CarterCoin\",\"Scrypt\"],[\"BitTokens\",\"SHA-256\"],[\"MustangCoin\",\"X11\"],[\"ZoneCoin\",\"Scrypt\"],[\"RootCoin\",\"Scrypt\"],[\"BitCurrency\",\"Scrypt\"],[\"Swiscoin\",\"Scrypt\"],[\"BuzzCoin\",\"SHA-256D\"],[\"Opair\",\"PoS\"],[\"PesoBit\",\"Scrypt\"],[\"Halloween Coin\",\"X11\"],[\"CoffeeCoin\",\"PoS\"],[\"RoyalCoin\",\"X13\"],[\"GanjaCoin V2\",\"X14\"],[\"TeamUP\",\"PoS\"],[\"LanaCoin\",\"SHA-256D\"],[\"ARK\",\"DPoS\"],[\"InsaneCoin\",\"X11\"],[\"EmberCoin\",\"X13\"],[\"XenixCoin\",\"X11\"],[\"FreeCoin\",\"PoS\"],[\"PLNCoin\",\"Scrypt\"],[\"AquariusCoin\",\"Scrypt\"],[\"Creatio\",\"PoS\"],[\"Eternity\",\"X11\"],[\"Eurocoin\",\"SHA-256\"],[\"BitcoinFast\",\"Scrypt\"],[\"Stakenet\",\"X11\"],[\"BitConnect Coin\",\"Scrypt\"],[\"MoneyCoin\",\"Scrypt\"],[\"Enigma\",\"X11\"],[\"Russiacoin\",\"Scrypt\"],[\"PandaCoin\",\"Scrypt\"],[\"GameUnits\",\"Scrypt\"],[\"GAKHcoin\",\"Scrypt\"],[\"Allsafe\",\"Quark\"],[\"LiteCreed\",\"QuBit\"],[\"Klingon Empire Darsek\",\"Scrypt\"],[\"Internet of People\",\"SHA-256\"],[\"KushCoin\",\"X11\"],[\"Printerium\",\"Scrypt\"],[\"Impeach\",\"Scrypt\"],[\"Zilbercoin\",\"Scrypt\"],[\"FirstCoin\",\"Scrypt\"],[\"FindCoin\",\"X13\"],[\"OpenChat\",\"Scrypt\"],[\"RenosCoin\",\"Scrypt\"],[\"VirtacoinPlus\",\"X11\"],[\"TajCoin\",\"Blake2S\"],[\"Impact\",\"X11\"],[\"Atmos\",\"PoS\"],[\"HappyCoin\",\"X11\"],[\"MacronCoin\",\"PoS\"],[\"Condensate\",\"X11\"],[\"Independent Money System\",\"Scrypt\"],[\"ArgusCoin\",\"Scrypt\"],[\"LomoCoin\",\"Scrypt\"],[\"ProCurrency\",\"SHA-256\"],[\"GoldReserve\",\"X11\"],[\"GrowthCoin\",\"Scrypt\"],[\"Phreak\",\"PoS\"],[\"Degas Coin\",\"Scrypt\"],[\"HTML5 Coin\",\"X15\"],[\"Ultimate Secure Cash\",\"SHA-256\"],[\"QTUM\",\"POS 3.0\"],[\"Espers\",\"536\"],[\"Denarius\",\"NIST5\"],[\"Virta Unique Coin\",\"NIST5\"],[\"Bitcoin Planet\",\"Skein\"],[\"BritCoin\",\"X13\"],[\"Linda\",\"Scrypt\"],[\"DeepOnion\",\"X13\"],[\"Signatum\",\"SkunkHash v2 Raptor\"],[\"Cream\",\"Skein\"],[\"Monoeci\",\"X11\"],[\"Draftcoin\",\"Scrypt\"],[\"Stakecoin\",\"PoS\"],[\"CoinonatX\",\"Scrypt\"],[\"Ethereum Dark\",\"Scrypt\"],[\"Obsidian\",\"SHA-512\"],[\"Cardano\",\"Ouroboros\"],[\"Regalcoin\",\"X11\"],[\"TrezarCoin\",\"NeoScrypt\"],[\"TerraNovaCoin\",\"Scrypt\"],[\"Rupee\",\"Lyra2REv2\"],[\"WomenCoin\",\"Scrypt\"],[\"Theresa May Coin\",\"SHA-256\"],[\"NamoCoin\",\"NIST5\"],[\"LUXCoin\",\"PHI1612\"],[\"Xios\",\"Scrypt\"],[\"Bitcloud 2.0\",\"Quark\"],[\"KekCoin\",\"POS 2.0\"],[\"BlackholeCoin\",\"Scrypt\"],[\"Infinity Economics\",\"SHA-256\"],[\"Magnet\",\"X11\"],[\"Lamden Tau\",\"DPoS\"],[\"Electra\",\"NIST5\"],[\"Bitcoin Diamond\",\"X13\"],[\"Cash & Back Coin\",\"Scrypt\"],[\"Bulwark\",\"NIST5\"],[\"Kalkulus\",\"Quark\"],[\"GermanCoin\",\"Scrypt\"],[\"LiteCoin Ultra\",\"Scrypt\"],[\"PhantomX\",\"X11\"],[\"Digiwage\",\"Quark\"],[\"Trollcoin\",\"Scrypt\"],[\"Litecoin Plus\",\"Scrypt\"],[\"Monkey Project\",\"X11\"],[\"TokenPay\",\"POS 3.0\"],[\"1717 Masonic Commemorative Token\",\"Ethash\"],[\"My Big Coin\",\"Scrypt\"],[\"Unified Society USDEX\",\"Scrypt\"],[\"Tokyo Coin\",\"X13\"],[\"Stipend\",\"C11\"],[\"Pushi\",\"X11\"],[\"Ellerium\",\"XEVAN\"],[\"Velox\",\"Scrypt\"],[\"Ontology\",\"VBFT\"],[\"Bitspace\",\"NIST5\"],[\"Briacoin\",\"Scrypt\"],[\"Ignition\",\"Scrypt\"],[\"MedicCoin\",\"Scrypt\"],[\"Bitcoin Green\",\"Green Protocol\"],[\"Deviant Coin\",\"PoS\"],[\"Abjcoin\",\"Scrypt\"],[\"Semux\",\"Semux BFT consensus\"],[\"Carebit\",\"Quark\"],[\"Zealium\",\"PoS\"],[\"Proton\",\"X16R\"],[\"iDealCash\",\"Scrypt\"],[\"Bitcoin Incognito\",\"XEVAN\"],[\"HollyWoodCoin\",\"Scrypt\"],[\"Swisscoin\",\"Scrypt\"],[\"Xt3ch\",\"Scrypt\"],[\"TheVig\",\"SHA-256D\"],[\"EmaratCoin\",\"Scrypt\"],[\"Dekado\",\"X15\"],[\"Lynx\",\"Scrypt\"],[\"Poseidon Quark\",\"Quark\"],[\"BitcoinWSpectrum\",\"SHA-256\"],[\"Muse\",\"DPoS\"],[\"Trivechain\",\"X16R\"],[\"Dystem\",\"Quark\"],[\"Giant\",\"Quark\"],[\"Peony Coin\",\"Scrypt\"],[\"Absolute Coin\",\"Lyra2REv2\"],[\"Vitae\",\"Quark\"],[\"TPCash\",\"Scrypt\"],[\"ARENON\",\"X11\"],[\"EUNO\",\"X11\"],[\"MMOCoin\",\"Scrypt\"],[\"Ketan\",\"PoS\"],[\"XDNA\",\"Keccak\"],[\"PAXEX\",\"X11\"],[\"ThunderStake\",\"Scrypt\"],[\"Kcash\",\"SHA-512\"],[\"Acute Angle Cloud\",\"ECC 256K1\"],[\"Bettex coin\",\"XEVAN\"],[\"BitMoney\",\"XEVAN\"],[\"Junson Ming Chan Coin\",\"X11\"],[\"HerbCoin\",\"Quark\"],[\"Oduwa\",\"Scrypt\"],[\"Galilel\",\"Quark\"],[\"Crypto Sports\",\"Quark\"],[\"Credit\",\"Scrypt\"],[\"Dash Platinum\",\"X11\"],[\"Nasdacoin\",\"Scrypt\"],[\"Beetle Coin\",\"XEVAN\"],[\"Titan Coin\",\"SHA-256D\"],[\"Award\",\"X11\"],[\"Insane Coin\",\"X11\"],[\"ALAX\",\"DPoS\"],[\"LiteDoge\",\"Scrypt\"],[\"TruckCoin\",\"X11\"],[\"OrangeCoin\",\"Scrypt\"],[\"BitstarCoin\",\"Scrypt\"],[\"NeosCoin\",\"SHA-256\"],[\"HyperCoin\",\"Scrypt\"],[\"PinkCoin\",\"X11\"],[\"AudioCoin\",\"Scrypt\"],[\"IncaKoin\",\"SHA-256\"],[\"Piggy Coin\",\"X11\"],[\"Genstake\",\"Scrypt\"],[\"XiaoMiCoin\",\"Scrypt\"],[\"CapriCoin\",\"X11\"],[\" ClubCoin\",\"Scrypt\"],[\"Radium\",\"PoS\"],[\"Creditbit \",\"X11\"],[\"OKCash\",\"SHA-256\"],[\"Lisk\",\"DPoS\"],[\"HiCoin\",\"Scrypt\"],[\"WhiteCoin\",\"Scrypt\"],[\"FriendshipCoin\",\"NeoScrypt\"],[\"Triangles Coin\",\"X13\"],[\"EOS\",\"DPoS\"],[\"Oxycoin\",\"DPoS\"],[\"TigerCash\",\"SHA-256\"],[\"Waves\",\"Leased POS\"],[\"Particl\",\"PoS\"],[\"Nxt\",\"PoS\"],[\"ZEPHYR\",\"SHA-256\"],[\"Gapcoin\",\"Scrypt\"],[\"BitcoinPlus\",\"Scrypt\"]],\"hovertemplate\":\"<b>%{hovertext}</b><br><br>Class=%{marker.color}<br>PC 1=%{x}<br>PC 2=%{y}<br>PC 3=%{z}<br>CoinName=%{customdata[0]}<br>Algorithm=%{customdata[1]}<extra></extra>\",\"hovertext\":[\"42 Coin\",\"404Coin\",\"EliteCoin\",\"Dash\",\"Bitshares\",\"BitcoinDark\",\"PayCoin\",\"KoboCoin\",\"Aurora Coin\",\"BlueCoin\",\"EnergyCoin\",\"BitBar\",\"CryptoBullion\",\"CasinoCoin\",\"Diamond\",\"Exclusive Coin\",\"FlutterCoin\",\"HoboNickels\",\"HyperStake\",\"IOCoin\",\"MaxCoin\",\"MintCoin\",\"MazaCoin\",\"Nautilus Coin\",\"NavCoin\",\"OpalCoin\",\"Orbitcoin\",\"PotCoin\",\"PhoenixCoin\",\"Reddcoin\",\"SuperCoin\",\"SyncCoin\",\"TeslaCoin\",\"TittieCoin\",\"TorCoin\",\"UnitaryStatus Dollar\",\"UltraCoin\",\"VeriCoin\",\"X11 Coin\",\"Crypti\",\"StealthCoin\",\"ZCC Coin\",\"BurstCoin\",\"StorjCoin\",\"Neutron\",\"FairCoin\",\"RubyCoin\",\"Kore\",\"Dnotes\",\"8BIT Coin\",\"Sativa Coin\",\"Ucoin\",\"Vtorrent\",\"IslaCoin\",\"Nexus\",\"Droidz\",\"Squall Coin\",\"Diggits\",\"Paycon\",\"Emercoin\",\"EverGreenCoin\",\"Decred\",\"EDRCoin\",\"Hitcoin\",\"DubaiCoin\",\"PWR Coin\",\"BillaryCoin\",\"GPU Coin\",\"EuropeCoin\",\"ZeitCoin\",\"SwingCoin\",\"SafeExchangeCoin\",\"Nebuchadnezzar\",\"Ratecoin\",\"Revenu\",\"Clockcoin\",\"VIP Tokens\",\"BitSend\",\"Let it Ride\",\"PutinCoin\",\"iBankCoin\",\"Frankywillcoin\",\"MudraCoin\",\"Lutetium Coin\",\"GoldBlocks\",\"CarterCoin\",\"BitTokens\",\"MustangCoin\",\"ZoneCoin\",\"RootCoin\",\"BitCurrency\",\"Swiscoin\",\"BuzzCoin\",\"Opair\",\"PesoBit\",\"Halloween Coin\",\"CoffeeCoin\",\"RoyalCoin\",\"GanjaCoin V2\",\"TeamUP\",\"LanaCoin\",\"ARK\",\"InsaneCoin\",\"EmberCoin\",\"XenixCoin\",\"FreeCoin\",\"PLNCoin\",\"AquariusCoin\",\"Creatio\",\"Eternity\",\"Eurocoin\",\"BitcoinFast\",\"Stakenet\",\"BitConnect Coin\",\"MoneyCoin\",\"Enigma\",\"Russiacoin\",\"PandaCoin\",\"GameUnits\",\"GAKHcoin\",\"Allsafe\",\"LiteCreed\",\"Klingon Empire Darsek\",\"Internet of People\",\"KushCoin\",\"Printerium\",\"Impeach\",\"Zilbercoin\",\"FirstCoin\",\"FindCoin\",\"OpenChat\",\"RenosCoin\",\"VirtacoinPlus\",\"TajCoin\",\"Impact\",\"Atmos\",\"HappyCoin\",\"MacronCoin\",\"Condensate\",\"Independent Money System\",\"ArgusCoin\",\"LomoCoin\",\"ProCurrency\",\"GoldReserve\",\"GrowthCoin\",\"Phreak\",\"Degas Coin\",\"HTML5 Coin\",\"Ultimate Secure Cash\",\"QTUM\",\"Espers\",\"Denarius\",\"Virta Unique Coin\",\"Bitcoin Planet\",\"BritCoin\",\"Linda\",\"DeepOnion\",\"Signatum\",\"Cream\",\"Monoeci\",\"Draftcoin\",\"Stakecoin\",\"CoinonatX\",\"Ethereum Dark\",\"Obsidian\",\"Cardano\",\"Regalcoin\",\"TrezarCoin\",\"TerraNovaCoin\",\"Rupee\",\"WomenCoin\",\"Theresa May Coin\",\"NamoCoin\",\"LUXCoin\",\"Xios\",\"Bitcloud 2.0\",\"KekCoin\",\"BlackholeCoin\",\"Infinity Economics\",\"Magnet\",\"Lamden Tau\",\"Electra\",\"Bitcoin Diamond\",\"Cash & Back Coin\",\"Bulwark\",\"Kalkulus\",\"GermanCoin\",\"LiteCoin Ultra\",\"PhantomX\",\"Digiwage\",\"Trollcoin\",\"Litecoin Plus\",\"Monkey Project\",\"TokenPay\",\"1717 Masonic Commemorative Token\",\"My Big Coin\",\"Unified Society USDEX\",\"Tokyo Coin\",\"Stipend\",\"Pushi\",\"Ellerium\",\"Velox\",\"Ontology\",\"Bitspace\",\"Briacoin\",\"Ignition\",\"MedicCoin\",\"Bitcoin Green\",\"Deviant Coin\",\"Abjcoin\",\"Semux\",\"Carebit\",\"Zealium\",\"Proton\",\"iDealCash\",\"Bitcoin Incognito\",\"HollyWoodCoin\",\"Swisscoin\",\"Xt3ch\",\"TheVig\",\"EmaratCoin\",\"Dekado\",\"Lynx\",\"Poseidon Quark\",\"BitcoinWSpectrum\",\"Muse\",\"Trivechain\",\"Dystem\",\"Giant\",\"Peony Coin\",\"Absolute Coin\",\"Vitae\",\"TPCash\",\"ARENON\",\"EUNO\",\"MMOCoin\",\"Ketan\",\"XDNA\",\"PAXEX\",\"ThunderStake\",\"Kcash\",\"Acute Angle Cloud\",\"Bettex coin\",\"BitMoney\",\"Junson Ming Chan Coin\",\"HerbCoin\",\"Oduwa\",\"Galilel\",\"Crypto Sports\",\"Credit\",\"Dash Platinum\",\"Nasdacoin\",\"Beetle Coin\",\"Titan Coin\",\"Award\",\"Insane Coin\",\"ALAX\",\"LiteDoge\",\"TruckCoin\",\"OrangeCoin\",\"BitstarCoin\",\"NeosCoin\",\"HyperCoin\",\"PinkCoin\",\"AudioCoin\",\"IncaKoin\",\"Piggy Coin\",\"Genstake\",\"XiaoMiCoin\",\"CapriCoin\",\" ClubCoin\",\"Radium\",\"Creditbit \",\"OKCash\",\"Lisk\",\"HiCoin\",\"WhiteCoin\",\"FriendshipCoin\",\"Triangles Coin\",\"EOS\",\"Oxycoin\",\"TigerCash\",\"Waves\",\"Particl\",\"Nxt\",\"ZEPHYR\",\"Gapcoin\",\"BitcoinPlus\"],\"legendgroup\":\"0\",\"marker\":{\"color\":[0,0,0,0,0,0,0,0,0,0,0,0,0,0,0,0,0,0,0,0,0,0,0,0,0,0,0,0,0,0,0,0,0,0,0,0,0,0,0,0,0,0,0,0,0,0,0,0,0,0,0,0,0,0,0,0,0,0,0,0,0,0,0,0,0,0,0,0,0,0,0,0,0,0,0,0,0,0,0,0,0,0,0,0,0,0,0,0,0,0,0,0,0,0,0,0,0,0,0,0,0,0,0,0,0,0,0,0,0,0,0,0,0,0,0,0,0,0,0,0,0,0,0,0,0,0,0,0,0,0,0,0,0,0,0,0,0,0,0,0,0,0,0,0,0,0,0,0,0,0,0,0,0,0,0,0,0,0,0,0,0,0,0,0,0,0,0,0,0,0,0,0,0,0,0,0,0,0,0,0,0,0,0,0,0,0,0,0,0,0,0,0,0,0,0,0,0,0,0,0,0,0,0,0,0,0,0,0,0,0,0,0,0,0,0,0,0,0,0,0,0,0,0,0,0,0,0,0,0,0,0,0,0,0,0,0,0,0,0,0,0,0,0,0,0,0,0,0,0,0,0,0,0,0,0,0,0,0,0,0,0,0,0,0,0,0,0,0,0,0,0,0,0,0,0,0,0,0,0,0,0,0,0,0,0,0,0,0],\"coloraxis\":\"coloraxis\",\"symbol\":\"circle\"},\"mode\":\"markers\",\"name\":\"0\",\"scene\":\"scene\",\"showlegend\":true,\"x\":[-0.32655905927463547,-0.30997891989869675,2.300970074352038,-0.39249584395775294,-0.28330192904626933,-0.30732071438658776,-0.2773328368168199,-0.23804227063738495,-0.32622037386295893,-0.31883198717725364,-0.32506255477815976,-0.32655501920779506,-0.32653937773084313,0.707146745750387,-0.3489407651696917,-0.3767056835708828,-0.29606110408515496,-0.32462798887443917,-0.3424244196036248,-0.39239102506591594,-0.537209470092887,-0.037689640537325174,-0.2708202499375701,-0.2963236759960475,-0.26789880476250766,-0.26851814797303386,-0.33350938347531844,-0.3208918014453138,-0.3249691534491188,0.02993292068833015,-0.36221943410211144,-0.3927606634349993,-0.26261744384902,-0.32316350256671916,-0.392672811053715,-0.3019213716966005,-0.3252435576013155,-0.2530751527814878,-0.39263740526306035,-0.26308201835059014,-0.2683000206775628,-0.317713253160147,0.12164136618782499,-0.3700608189400562,-0.3065365243102307,-0.34836494799763346,-0.2963038629356675,-0.26859330871096226,-0.2909875699807767,-0.3265412103995191,-0.2685456941838263,-0.3626624317769211,-0.32627701741905724,-0.3927422773952349,-0.7248412863841062,-0.4357310891271848,-0.4045479318196381,-0.29471377271598415,-0.2680699387734882,-0.2999216031939505,-0.24046920212768877,-0.07038645414684,-0.3072917623031298,-0.07196409539699868,-0.3073550471870075,-0.2228228230119967,-0.32615369165308566,-0.294584644094372,-0.38992839732454804,0.8505252875381988,-0.3071563290022664,-0.019874102294333354,-0.37639061818073377,-0.39059596644941674,-0.30590750663693894,-0.3035895350921251,-0.3436234128321519,-0.3914847000099921,-0.36885189741096436,-0.30257910697127327,-0.3261916374467823,-0.32463839284191404,-0.2373078000246439,-0.35021728090530596,-0.39221911172755275,-0.3253999905449768,-0.30733619305070414,-0.39273154909221314,-0.32637969243132037,-0.3265354700593932,-0.29457203583388236,-0.24474625922766824,0.05941563225064825,-0.37535304676389847,-0.3261514041327419,-0.3789728049155467,-0.374684434513396,-0.23872981776648536,-0.39888474137667895,-0.3744371699067349,-0.2535352942391779,3.8545251403817695,-0.3923262418551966,0.8583976919690532,-0.39268667520904604,-0.3758144180089145,-0.326079682535626,-0.3262333327899664,-0.37639061818073377,-0.39226410656185884,-0.3071994884210728,-0.32608035895423226,-0.405084303745547,-0.3262270201449424,-0.3218416745200395,-0.39271554712915674,-0.32544253225321723,0.34365600648994005,-0.32642522663893647,-0.3264953748082615,-0.37328729612954165,-0.33750095325708634,-0.32274454340372094,-0.3073127153860342,-0.3926259574522615,-0.3262743785174004,-0.32640076644442423,-0.29621136007316134,-0.26533916165511195,-0.23849886276509819,-0.3073523876873328,-0.2959534749789816,-0.39189600202206226,-0.3953209297635778,-0.3906402849987233,-0.3746461617186513,-0.39179435758854547,-0.36907479772289037,-0.38775808621062985,-0.32634430691216176,-0.3263435753813856,-0.3195068083309477,0.25211876587459475,-0.3922700253279202,-0.2789531018529848,-0.37642485563047223,-0.3255594788051027,0.8877704433650211,-0.27603117821865164,-0.36763654831959597,0.5842819112013199,-0.345151179157896,-0.3436614192281341,-0.3881848433818255,-0.26823244115824907,0.13574040573657584,-0.26830277516642437,-0.3585972635432734,-0.3876920094056657,-0.39254084640381215,-0.29628484001680017,-0.37629206570725826,-0.3259814570367544,-0.3264783920572572,-0.3410630760279736,0.6432797898409117,-0.3924821237170496,-0.3285356688225592,-0.326434328410753,-0.316675165924257,0.43888668551926224,-0.30566740238139845,-0.33000023162954684,-0.3884988472020262,-0.32638494919696776,-0.40166280807511445,-0.3672513476102283,-0.32625588260948696,-0.10470673181695084,-0.39128152205145883,3.859354988758596,0.2114606695250674,-0.26499089526628167,-0.323729828434733,-0.3149913619690045,-0.37317377606258917,0.08547581833189272,-0.3253997502068725,-0.39185903514803705,-0.37234337172380105,-0.3130303730759217,-0.32650041958830106,-0.36263450067476566,-0.36913242935402646,-0.29472740806841763,-0.30754402528898794,-0.3220685000683203,-0.23034034934579986,-0.37666720962612465,-0.3925581686431945,-0.3464658318557225,-0.2954497705218054,-0.3492267620796636,-0.3447523911739117,-0.3265276381874254,-0.32650945364511874,-0.2898608805736447,-0.34349927283240095,-0.3758886582826354,-0.3262275230783885,4.073623148872153,-0.40033697242452954,-0.37607637727132015,-0.3313072989163364,-0.27339365447857655,-0.35840437159206984,-0.29598054530526013,-0.13065100166272345,-0.2962316237873768,-0.3184746871016552,-0.32570452288591667,-0.2098919941312676,2.2149339810233095,-0.36890784746950267,-0.27615730782041154,1.080725837467533,-0.3605719082856087,-0.3732867950480833,-0.4033372314227548,-0.17768239364342292,-0.34652869087150084,-0.3720130246989244,-0.3194471756363121,-0.36221419834280116,-0.3920341839141409,-0.2934919727532432,-0.37518163302150537,-0.3423245696328722,-0.3620766688515717,-0.18683840054001596,-0.31354445855111235,-0.4362022984323773,-0.31653423379666346,0.40933312666570354,-0.15355477178309393,-0.40263560308546537,-0.32623138807719504,-0.4030892676135238,-0.3734031558324333,0.5753506421279511,-0.36268855231231295,-0.32571732560070016,-0.34095142751199814,-0.27345243893007004,-0.38961377498821764,-0.39226017206234504,3.871535249799037,0.10634228246050323,-0.38981086217062944,-0.3251068122655911,-0.32592654122613535,-0.27736540157932776,-0.326441939865185,-0.3839313204033799,-0.240648060536688,-0.08799658832909253,-0.3797042992330409,-0.32572373745516964,-0.3188239006189906,-0.38884639003838306,-0.32417157872355135,-0.376664867822858,-0.3832786278822477,-0.3058434570050223,3.854914797613219,-0.10450248321267665,-0.32138069474266456,-0.3331375323376588,-0.26869989948645184,3.8647389099903076,3.865977308165458,-0.25836011084718,-0.4566051962785769,-0.3766010263948711,-0.38696152766659997,2.532797968468837,-0.32461594820621986,-0.29662583326332853],\"y\":[1.005617493240586,1.0057714658442187,1.62707670089612,1.2221125415321847,1.5462453975062909,0.8194623060090737,0.6548502716494735,1.8753433991179729,1.005616527335023,1.0058619754019502,1.0056648422016792,1.0056172727712696,1.0056174193376615,0.13164824848391077,0.8148647445824091,1.6186665271383895,0.34062167969827223,1.0055949937249844,1.0581446524049942,1.2221158579689744,2.196967286182067,0.8491897713161974,0.8189471597446103,0.8409953999399381,1.7646575631356518,1.7646379673111647,0.5391210306272465,1.0055042105075482,1.005599525686057,1.0168967874501986,1.0575183443689598,1.2221194883314932,0.14448290367475658,1.7534062120999998,1.2221153021494302,1.0052823818894012,1.0055894503248546,0.3109658110283219,1.222119557302714,0.14453786968796842,1.7646448687902243,1.0052007217505763,0.0026843846544710084,1.558760483978182,0.8194550716345506,0.8148860145839133,0.8410072986166522,1.7646272294485166,0.8408271794325353,1.0056180580026446,1.764630129257275,1.0574903950609076,1.0056124839846157,1.2221200707566613,2.6940850042477984,1.795335667385192,0.9597952132901532,0.8409879435669477,1.7646173160071414,0.8190150878182222,1.8754921187810822,0.8025774793749308,0.8194632220438929,1.2137733329282554,0.8194692312055671,1.5462823746487522,1.0056010596721148,0.8409076978345349,1.2219415874206423,0.8083242580687476,0.8194549674101659,0.1350154945783036,1.6186625627074103,1.2221357306069807,0.8193671843779403,0.8192299443769001,1.5423975834573695,1.2220630257536875,1.6431986549361577,1.004982911334477,1.0055982335625937,1.005608597547604,1.5999186633458358,1.0574403896442444,1.2221017910517267,1.0055914673361326,0.8194625129190507,1.2221183202466646,1.0056085387294602,1.0056182396252014,0.8410620930817411,0.3410640067963732,1.8993511616575725,1.6186577720384956,1.005630391350387,1.221510757471401,1.6187026128924724,1.6000112594488085,1.8189120066023445,1.6185286105343575,1.8981534383713397,1.8341144198233046,1.2221123344890445,1.7997010776958862,1.222119145572085,1.6186598939983943,1.0056058117064781,1.0055985398515794,1.6186625627074103,1.2220934009288738,0.8194675348606021,1.00560964974605,0.6737022918884108,1.0056084926822997,1.005313467639256,1.2221174332436573,1.0055525022274814,0.8386039094221068,1.0056126712417972,1.005617198281791,1.5276611248324963,0.6032115957250533,1.0053898583308871,0.8194632557449806,1.22211723461858,1.0056125674786345,1.0056072217478351,0.8409719096257231,0.3343945071962106,1.6000101897655208,1.0055285362771276,0.8409944016123575,1.2220771816390368,1.9819074055298818,1.2221099456304725,1.6186548562081173,1.2220803976369603,1.618629305950201,1.221929443976931,1.005609510542059,1.005604386921232,1.0051439742287884,0.619361908747954,1.2221071466618556,0.8401629711549919,1.6186545129448229,1.005575971427059,1.84850908303811,0.6547607751771514,1.643190780971428,1.808934402253706,1.5424049774146062,1.5423754814456287,1.9458387909352863,1.7646261074836513,0.9854120008161458,1.7646316162158246,1.8181530170864098,1.9458543840473663,1.2221198207291486,0.840995774680957,1.6186367002592434,1.0056021536651574,1.0056171196250614,1.5468625244587653,1.5332245230470791,1.2221094923860703,0.5390023637484069,1.0056104790880431,0.7596994119565448,1.012419704912216,0.8194602775777565,1.542055335079247,1.918466977987327,1.0056083724070477,1.6922019118508678,1.666725669709179,1.0056167834311067,0.6540509650750879,1.2220659709902049,1.8340059909411563,1.5391234665128515,1.7646032719687523,1.0055607127349946,1.3777794230586118,1.5276612333215092,0.9838216450716758,1.005549675937715,1.22211318376151,1.5276178420493458,1.0054185516087457,1.0056165620109128,1.0574905821421559,1.6431957005190394,-0.026263905584015222,0.25603031416650385,1.0055979503412904,1.5997211212686526,0.8768636988475087,1.2221084796486004,1.564807294128535,0.8409479372266817,1.6421683440012316,1.5423897289392983,1.005616397473037,1.0056155795261508,0.8408628275311947,1.5497713348810156,1.618631072357799,1.0056070834695554,1.7007029751659872,1.6922438608740669,1.6186307061883605,0.6810124877664614,1.003731422421942,1.3025054015642459,0.8409994153836973,1.0047101321789242,0.8409789316386594,1.9012581666211261,1.005586011928861,1.7108477344744,0.3024058571067984,1.527357316433455,0.6548263254734095,1.70520642376693,0.8456278674645167,1.5276569607862927,1.6922846751869374,0.8330009918729827,0.9243024608400517,1.527642227126246,1.005145860988501,1.0574801942743186,1.2221076421096095,0.840915136926649,1.6185684511094365,0.8997920581892414,1.057453196412208,0.9974985101981876,1.5710138250355035,3.2874099321441936,1.4001938274279295,1.4459727586069755,1.0641204286895787,1.6922728438289687,1.0056132310326045,1.6922828476987481,1.5276585946074903,0.9820442094100637,1.0574897776103922,1.0055856068549898,1.5646752421291228,1.8992690711846572,1.2219264625708761,1.2221144249165212,1.8340430455495305,0.9949316040970939,1.2222128198128572,1.0055241118998905,1.0055997084143766,0.6548433197852506,1.0056211988911443,1.2220505216441027,1.001020864801277,0.8262846152041123,1.2218359382431427,1.0056334728389658,1.0055835712405141,1.222098432198783,1.0055815683969234,1.6186615486854299,0.7025852481239185,0.8194512240145891,1.8341024225507216,0.8401031781915733,1.0055723400825862,0.5390935061101527,1.7646321331524097,1.8345246615384492,1.834563844067414,0.6547626208165037,2.9184131037699976,1.6186638234845265,1.7047416274366067,0.783597677621942,1.0055048101822228,0.8409964149266543],\"z\":[-0.5066538939215492,-0.5071466537624292,-0.6267084534946467,-0.38780126516144714,-0.15456512091298033,-0.2840585695073988,-0.025093371907050892,-0.5064846809877015,-0.5066634829852714,-0.5069035665597172,-0.506702248103067,-0.5066539840818252,-0.5066544490966883,-0.4915025926569341,-0.4325237391657134,-0.05885667315717885,-0.2928881747327929,-0.5067065975281545,-0.12948600496464638,-0.38780465200818315,-0.7292248415997198,-0.25605275800298044,-0.28504433703086673,-0.24769461949326302,-0.569078298550945,-0.5690582866953218,-0.242893558653294,-0.5068030889957797,-0.506697350887213,-0.5181726543030241,-0.12884640003240508,-0.38779448525788124,0.08749362027898988,-0.07742980620931075,-0.38779651630556106,-0.5073207456209501,-0.506688322967149,-0.45257229378792785,-0.3877980237672978,0.08750055466005163,-0.5690653346969311,-0.5068589476535631,-0.6353116935838602,-0.11576677912836461,-0.2840801925264156,-0.4325426983919564,-0.24769656648787175,-0.5690548889440866,-0.24782796004409643,-0.5066544706473555,-0.5690565889704132,-0.12883047081489474,-0.5066613917607291,-0.38779507941761304,-0.8681970451209852,-0.48449391578740564,-0.2848803078481308,-0.24773986787460947,-0.5690687306295887,-0.28421865534502183,-0.5064324077666607,-0.4418528459315397,-0.2840595049901881,-0.3960155182871844,-0.2840583889840625,-0.477709543336404,-0.5066635997214773,-0.24773426317115627,-0.38785498541926267,-0.2767563275641546,-0.28406242722966496,-0.4710687462486101,-0.05886523803010387,-0.38785837225280917,-0.28408802033673974,-0.2841385034976543,-0.47379903631229525,-0.387824486939466,-0.0961481018857492,-0.5072671865492129,-0.5066621851833765,-0.5067078766969514,-0.31011566820138353,-0.12918114280951903,-0.3878079453014432,-0.5066840760652113,-0.2840581501366414,-0.3877951837639096,-0.5066579934189923,-0.5066546561258687,-0.24775252427240252,-0.36063756932514485,-0.5769524509583213,-0.05889440202453187,-0.5066670658394868,-0.3881188403817038,-0.058918751911505876,-0.31008567222582883,-0.6481742350395515,-0.05890566124162776,-0.5678496638547101,-0.194320660929797,-0.3878060991111186,-0.6054018805212666,-0.38779656478211944,-0.05888143286952647,-0.5066662705138775,-0.5066610264036371,-0.05886523803010387,-0.38780568378681574,-0.284062648023474,-0.5066666961058265,-0.0054662226101347385,-0.506662361109128,-0.5067537675992309,-0.387795539276411,-0.5066783400759975,-0.26574845021891785,-0.5066571682785884,-0.5066556838545564,-0.14531036781874368,-0.2549442208802483,-0.5067367629382753,-0.2840589087332122,-0.3877980823870745,-0.5066614770273764,-0.506657237105499,-0.2476951132130679,-0.3737119034958862,-0.31009216351018476,-0.5071937218796293,-0.24770510750709843,-0.38781434709401696,-0.6434501214105234,-0.38785411342027015,-0.05891431145165576,-0.38781763136951064,-0.05907093116392526,-0.38791574229565096,-0.5066591196428625,-0.5066585465844187,-0.5068009953477651,-0.036144203141354116,-0.3878071078788174,-0.24809566056220891,-0.05886332410179535,-0.5066777112720374,-0.535620540703417,-0.025120279765618453,-0.09618200054361288,-0.5713209124599128,-0.47375613336306177,-0.4737953852682905,-0.6460982306036809,-0.5690650952832741,-0.517553104609463,-0.5690637193496323,-0.051002052003758507,-0.6461141547669067,-0.38780082006629246,-0.2476957753274213,-0.0588650625045439,-0.5066686599117334,-0.5066561611763951,-0.15298220182466518,-0.1967178900526598,-0.3878013046479153,-0.24302226418909026,-0.5066566534249402,-0.07894147223303388,-0.5293673595570001,-0.2841056905487775,-0.47414956944452735,-0.3354345620091518,-0.506657823565455,-0.4043134886633695,-0.07778658682312307,-0.5066624955905312,-0.029945274174669956,-0.387830648072915,-0.19444643262147399,-0.489318854011692,-0.5691552961970765,-0.5067283493523408,-0.21479429321652943,-0.14531363197883226,-0.5159289846562517,-0.5066792378237472,-0.3878195798853058,-0.14533238683965494,-0.5070183348148176,-0.5066554655890511,-0.12883129254154776,-0.09613972401933907,0.1579280527460878,-0.22919231732758402,-0.5067802523536817,-0.31029233632183095,-0.3605216949378616,-0.38779900906230425,-0.5627063527700942,-0.2477141483410722,-0.09732661813840333,-0.473765788095768,-0.5066546668843792,-0.5066550929191048,-0.24786436497332534,-0.18236309904350806,-0.05887596492336996,-0.5066621833250657,-0.44319640907981034,-0.4043563282895552,-0.058870545591470584,-0.03869530012698483,-0.5079580598579009,-0.4597904373927575,-0.24770491340164533,-0.5121601393025599,-0.24769534689842496,-0.5663495389826649,-0.5066747207950157,-0.24748033997618477,-0.4768550549639579,-0.14540058709394546,-0.025124266641343363,-0.1130901562547707,-0.2976816023156386,-0.14530989940868183,-0.40427512300275514,-0.2501660506943718,-0.33790947638782665,-0.14534467615524302,-0.5068029221645207,-0.1288421270339972,-0.38781392058080344,-0.24776642327481452,-0.058888956362308356,-0.301981510173877,-0.12884293630114318,-0.5097146640020511,-0.22681600880617087,-0.6635555900030344,-0.3037393770825016,-0.6256829314094284,-0.13558865057300945,-0.4042938482305698,-0.5066627853425537,-0.40428201361761257,-0.1453067558776391,-0.5297545172015207,-0.12882965105346614,-0.5066743071211828,-0.5628489935927867,-0.5674085142875088,-0.38786224370792444,-0.3878082339196271,-0.19479961070039356,-0.5178147114244428,-0.38788979759204256,-0.5066846647239205,-0.5066699493858999,-0.025091633175812388,-0.5066576782188069,-0.3880393905145009,-0.5085817486274704,-0.29113167358664793,-0.3881355881578352,-0.5066796728532885,-0.5068715211336694,-0.3879041615601727,-0.5067181141146201,-0.058857265070690355,-0.08678606912199337,-0.2840995981408094,-0.19433043105946363,-0.2530855590224102,-0.5067969841757198,-0.24290101859291524,-0.5690524043546955,-0.19466077812850402,-0.19470079252611677,-0.025626650332572828,5.897815779037731,-0.05885935742691262,0.09686446980406184,-0.1073459102925502,-0.5066964868970733,-0.24768608240414888],\"type\":\"scatter3d\"},{\"customdata\":[[\"Bitcoin\",\"SHA-256\"],[\"Ethereum\",\"Ethash\"],[\"Litecoin\",\"Scrypt\"],[\"Monero\",\"CryptoNight-V7\"],[\"Ethereum Classic\",\"Ethash\"],[\"ZCash\",\"Equihash\"],[\"DigiByte\",\"Multiple\"],[\"ProsperCoin\",\"Scrypt\"],[\"Spreadcoin\",\"X11\"],[\"Argentum\",\"Scrypt\"],[\"MyriadCoin\",\"Multiple\"],[\"MoonCoin\",\"Scrypt\"],[\"ZetaCoin\",\"SHA-256\"],[\"SexCoin\",\"Scrypt\"],[\"Quatloo\",\"Scrypt\"],[\"QuarkCoin\",\"Quark\"],[\"Riecoin\",\"Groestl\"],[\"Digitalcoin \",\"Scrypt\"],[\"Catcoin\",\"Scrypt\"],[\"CannaCoin\",\"Scrypt\"],[\"CryptCoin\",\"X11\"],[\"Verge\",\"Multiple\"],[\"DevCoin\",\"SHA-256\"],[\"EarthCoin\",\"Scrypt\"],[\"E-Gulden\",\"Scrypt\"],[\"Einsteinium\",\"Scrypt\"],[\"Emerald\",\"Scrypt\"],[\"Franko\",\"Scrypt\"],[\"FeatherCoin\",\"NeoScrypt\"],[\"GrandCoin\",\"Scrypt\"],[\"GlobalCoin\",\"Scrypt\"],[\"GoldCoin\",\"Scrypt\"],[\"Infinite Coin\",\"Scrypt\"],[\"IXcoin\",\"SHA-256\"],[\"KrugerCoin\",\"Scrypt\"],[\"LuckyCoin\",\"Scrypt\"],[\"Litebar \",\"Scrypt\"],[\"MegaCoin\",\"Scrypt\"],[\"MediterraneanCoin\",\"HybridScryptHash256\"],[\"MinCoin\",\"Scrypt\"],[\"NobleCoin\",\"Scrypt\"],[\"Namecoin\",\"SHA-256\"],[\"NyanCoin\",\"Scrypt\"],[\"RonPaulCoin\",\"Scrypt\"],[\"StableCoin\",\"Scrypt\"],[\"SmartCoin\",\"Scrypt\"],[\"SysCoin\",\"SHA-256\"],[\"TigerCoin\",\"SHA-256\"],[\"TerraCoin\",\"SHA-256\"],[\"UnbreakableCoin\",\"SHA-256\"],[\"Unobtanium\",\"SHA-256\"],[\"UroCoin\",\"X11\"],[\"ViaCoin\",\"Scrypt\"],[\"Vertcoin\",\"Lyra2REv2\"],[\"WorldCoin\",\"Scrypt\"],[\"JouleCoin\",\"SHA-256\"],[\"ByteCoin\",\"CryptoNight\"],[\"DigitalNote \",\"CryptoNight\"],[\"MonaCoin\",\"Scrypt\"],[\"Gulden\",\"Scrypt\"],[\"PesetaCoin\",\"Scrypt\"],[\"Wild Beast Coin\",\"Scrypt\"],[\"Flo\",\"Scrypt\"],[\"ArtByte\",\"Scrypt\"],[\"Folding Coin\",\"Stanford Folding\"],[\"Unitus\",\"Multiple\"],[\"CypherPunkCoin\",\"QuBit\"],[\"OmniCron\",\"Scrypt\"],[\"GreenCoin\",\"Scrypt\"],[\"Cryptonite\",\"M7 POW\"],[\"MasterCoin\",\"Scrypt\"],[\"SoonCoin\",\"SHA-256\"],[\"1Credit\",\"Scrypt\"],[\"MarsCoin \",\"X11\"],[\"Crypto\",\"Lyra2RE\"],[\"Anarchists Prime\",\"SHA-256\"],[\"BowsCoin\",\"X11\"],[\"Song Coin\",\"Scrypt\"],[\"BitZeny\",\"Scrypt\"],[\"Expanse\",\"Ethash\"],[\"Siacoin\",\"Blake2b\"],[\"MindCoin\",\"X11\"],[\"I0coin\",\"SHA-256\"],[\"Revolution VR\",\"Scrypt\"],[\"HOdlcoin\",\"1GB AES Pattern Search\"],[\"Gamecredits\",\"Scrypt\"],[\"CarpeDiemCoin\",\"SHA-256\"],[\"Adzcoin\",\"X11\"],[\"SoilCoin\",\"Dagger\"],[\"YoCoin\",\"Scrypt\"],[\"SibCoin\",\"X11GOST\"],[\"Francs\",\"Scrypt\"],[\"BolivarCoin\",\"X11\"],[\"Omni\",\"Scrypt\"],[\"PizzaCoin\",\"X11\"],[\"Komodo\",\"Equihash\"],[\"Karbo\",\"CryptoNight\"],[\"ZayedCoin\",\"SHA-256\"],[\"Circuits of Value\",\"Multiple\"],[\"DopeCoin\",\"Scrypt\"],[\"DollarCoin\",\"SHA-256\"],[\"Shilling\",\"Scrypt\"],[\"ZCoin\",\"Lyra2Z\"],[\"Elementrem\",\"Ethash\"],[\"ZClassic\",\"Equihash\"],[\"KiloCoin\",\"Scrypt\"],[\"ArtexCoin\",\"X11\"],[\"Kurrent\",\"X11\"],[\"Cannabis Industry Coin\",\"CryptoNight\"],[\"OsmiumCoin\",\"Scrypt\"],[\"Bikercoins\",\"CryptoNight\"],[\"HexxCoin\",\"Lyra2RE\"],[\"PacCoin\",\"X11\"],[\"Citadel\",\"CryptoNight-V7\"],[\"BeaverCoin\",\"Scrypt\"],[\"VaultCoin\",\"X11\"],[\"Zero\",\"Equihash\"],[\"Canada eCoin\",\"Scrypt\"],[\"Zoin\",\"Lyra2RE\"],[\"DubaiCoin\",\"Dagger-Hashimoto\"],[\"EB3coin\",\"Scrypt\"],[\"Coinonat\",\"NIST5\"],[\"BenjiRolls\",\"Scrypt\"],[\"ILCoin\",\"SHA-256\"],[\"EquiTrader\",\"Scrypt\"],[\"Quantum Resistant Ledger\",\"CryptoNight-V7\"],[\"Dynamic\",\"Argon2d\"],[\"Nano\",\"Blake2b\"],[\"ChanCoin\",\"Cloverhash\"],[\"Dinastycoin\",\"CryptoNight\"],[\"DigitalPrice\",\"X11\"],[\"Unify\",\"Scrypt\"],[\"SocialCoin\",\"Scrypt\"],[\"ArcticCoin\",\"X11\"],[\"DAS\",\"X11\"],[\"LeviarCoin\",\"CryptoNight\"],[\"Bitcore\",\"Time Travel\"],[\"gCn Coin\",\"Scrypt\"],[\"SmartCash\",\"Keccak\"],[\"Onix\",\"X11\"],[\"Bitcoin Cash\",\"SHA-256\"],[\"Sojourn Coin\",\"Scrypt\"],[\"NewYorkCoin\",\"Scrypt\"],[\"FrazCoin\",\"Scrypt\"],[\"Kronecoin\",\"Scrypt\"],[\"AdCoin\",\"Scrypt\"],[\"Linx\",\"Scrypt\"],[\"Sumokoin\",\"CryptoNight\"],[\"BitcoinZ\",\"Equihash\"],[\"Elements\",\"X11\"],[\"VIVO Coin\",\"NeoScrypt\"],[\"Bitcoin Gold\",\"Equihash\"],[\"Pirl\",\"Dagger\"],[\"eBoost\",\"Scrypt\"],[\"Pura\",\"X11\"],[\"Innova\",\"NeoScrypt\"],[\"Ellaism\",\"Ethash\"],[\"GoByte\",\"NeoScrypt\"],[\"SHIELD\",\"Multiple\"],[\"UltraNote\",\"CryptoNight\"],[\"BitCoal\",\"CryptoNight\"],[\"DaxxCoin\",\"Ethash\"],[\"AC3\",\"X11\"],[\"Lethean\",\"CryptoNight-V7\"],[\"PopularCoin\",\"Scrypt\"],[\"Photon\",\"BLAKE256\"],[\"Sucre\",\"X11\"],[\"SparksPay\",\"NeoScrypt\"],[\"GunCoin\",\"NeoScrypt\"],[\"IrishCoin\",\"Scrypt\"],[\"Pioneer Coin\",\"X11\"],[\"UnitedBitcoin\",\"SHA-256\"],[\"Interzone\",\"C11\"],[\"TurtleCoin\",\"CryptoNight\"],[\"MUNcoin\",\"SkunkHash\"],[\"Niobio Cash\",\"CryptoNight\"],[\"ShareChain\",\"Scrypt\"],[\"Travelflex\",\"Dagger\"],[\"KREDS\",\"Lyra2REv2\"],[\"BitFlip\",\"Scrypt\"],[\"LottoCoin\",\"Scrypt\"],[\"Crypto Improvement Fund\",\"X11\"],[\"Callisto Network\",\"Ethash\"],[\"BitTube\",\"CryptoNight\"],[\"Poseidon\",\"Scrypt\"],[\"Aidos Kuneen\",\"IMesh\"],[\"Bitrolium\",\"Equihash\"],[\"Alpenschillling\",\"Lyra2Z\"],[\"FuturoCoin\",\"X11\"],[\"Monero Classic\",\"CryptoNight\"],[\"Jumpcoin\",\"NIST5\"],[\"Infinex\",\"Lyra2RE\"],[\"KEYCO\",\"Tribus\"],[\"GINcoin\",\"Lyra2Z\"],[\"PlatinCoin\",\"CryptoNight\"],[\"Loki\",\"CryptoNight Heavy\"],[\"Newton Coin\",\"CryptoNight\"],[\"MassGrid\",\"Jump Consistent Hash\"],[\"PluraCoin\",\"CryptoNight\"],[\"Motion\",\"X16R\"],[\"PlusOneCoin\",\"HMQ1725\"],[\"Axe\",\"X11\"],[\"HexCoin\",\"Scrypt\"],[\"Webchain\",\"CryptoNight-V7\"],[\"Ryo\",\"Cryptonight-GPU\"],[\"Urals Coin\",\"XEVAN\"],[\"Qwertycoin\",\"CryptoNight Heavy\"],[\"Project Pai\",\"SHA-256\"],[\"Azart\",\"X11\"],[\"Xchange\",\"X16R\"],[\"CrypticCoin\",\"Equihash\"],[\"Actinium\",\"Lyra2Z\"],[\"Bitcoin SV\",\"SHA-256\"],[\"FREDEnergy\",\"CryptoNight\"],[\"Universal Molecule\",\"Blake\"],[\"Lithium\",\"Blake\"],[\"PirateCash\",\"Equihash\"],[\"Exosis\",\"Exosis\"],[\"Block-Logic\",\"Scrypt\"],[\"Beam\",\"Equihash\"],[\"Bithereum\",\"Equihash\"],[\"SLICE\",\"QuBit\"],[\"BLAST\",\"SHA-256\"],[\"Bitcoin Rhodium\",\"X13\"],[\"GlobalToken\",\"SHA-256\"],[\"SolarCoin\",\"Scrypt\"],[\"UFO Coin\",\"NeoScrypt\"],[\"BlakeCoin\",\"Blake\"],[\"Crypto Escudo\",\"Scrypt\"],[\"Crown Coin\",\"SHA-256\"],[\"SmileyCoin\",\"Scrypt\"],[\"Groestlcoin\",\"Groestl\"],[\"Bata\",\"Scrypt\"],[\"Pakcoin\",\"Scrypt\"],[\"JoinCoin\",\"Multiple\"],[\"Vollar\",\"Equihash+Scrypt\"],[\"Reality Clash\",\"Ethash\"],[\"Beldex\",\"CryptoNight\"],[\"Horizen\",\"Equihash\"]],\"hovertemplate\":\"<b>%{hovertext}</b><br><br>Class=%{marker.color}<br>PC 1=%{x}<br>PC 2=%{y}<br>PC 3=%{z}<br>CoinName=%{customdata[0]}<br>Algorithm=%{customdata[1]}<extra></extra>\",\"hovertext\":[\"Bitcoin\",\"Ethereum\",\"Litecoin\",\"Monero\",\"Ethereum Classic\",\"ZCash\",\"DigiByte\",\"ProsperCoin\",\"Spreadcoin\",\"Argentum\",\"MyriadCoin\",\"MoonCoin\",\"ZetaCoin\",\"SexCoin\",\"Quatloo\",\"QuarkCoin\",\"Riecoin\",\"Digitalcoin \",\"Catcoin\",\"CannaCoin\",\"CryptCoin\",\"Verge\",\"DevCoin\",\"EarthCoin\",\"E-Gulden\",\"Einsteinium\",\"Emerald\",\"Franko\",\"FeatherCoin\",\"GrandCoin\",\"GlobalCoin\",\"GoldCoin\",\"Infinite Coin\",\"IXcoin\",\"KrugerCoin\",\"LuckyCoin\",\"Litebar \",\"MegaCoin\",\"MediterraneanCoin\",\"MinCoin\",\"NobleCoin\",\"Namecoin\",\"NyanCoin\",\"RonPaulCoin\",\"StableCoin\",\"SmartCoin\",\"SysCoin\",\"TigerCoin\",\"TerraCoin\",\"UnbreakableCoin\",\"Unobtanium\",\"UroCoin\",\"ViaCoin\",\"Vertcoin\",\"WorldCoin\",\"JouleCoin\",\"ByteCoin\",\"DigitalNote \",\"MonaCoin\",\"Gulden\",\"PesetaCoin\",\"Wild Beast Coin\",\"Flo\",\"ArtByte\",\"Folding Coin\",\"Unitus\",\"CypherPunkCoin\",\"OmniCron\",\"GreenCoin\",\"Cryptonite\",\"MasterCoin\",\"SoonCoin\",\"1Credit\",\"MarsCoin \",\"Crypto\",\"Anarchists Prime\",\"BowsCoin\",\"Song Coin\",\"BitZeny\",\"Expanse\",\"Siacoin\",\"MindCoin\",\"I0coin\",\"Revolution VR\",\"HOdlcoin\",\"Gamecredits\",\"CarpeDiemCoin\",\"Adzcoin\",\"SoilCoin\",\"YoCoin\",\"SibCoin\",\"Francs\",\"BolivarCoin\",\"Omni\",\"PizzaCoin\",\"Komodo\",\"Karbo\",\"ZayedCoin\",\"Circuits of Value\",\"DopeCoin\",\"DollarCoin\",\"Shilling\",\"ZCoin\",\"Elementrem\",\"ZClassic\",\"KiloCoin\",\"ArtexCoin\",\"Kurrent\",\"Cannabis Industry Coin\",\"OsmiumCoin\",\"Bikercoins\",\"HexxCoin\",\"PacCoin\",\"Citadel\",\"BeaverCoin\",\"VaultCoin\",\"Zero\",\"Canada eCoin\",\"Zoin\",\"DubaiCoin\",\"EB3coin\",\"Coinonat\",\"BenjiRolls\",\"ILCoin\",\"EquiTrader\",\"Quantum Resistant Ledger\",\"Dynamic\",\"Nano\",\"ChanCoin\",\"Dinastycoin\",\"DigitalPrice\",\"Unify\",\"SocialCoin\",\"ArcticCoin\",\"DAS\",\"LeviarCoin\",\"Bitcore\",\"gCn Coin\",\"SmartCash\",\"Onix\",\"Bitcoin Cash\",\"Sojourn Coin\",\"NewYorkCoin\",\"FrazCoin\",\"Kronecoin\",\"AdCoin\",\"Linx\",\"Sumokoin\",\"BitcoinZ\",\"Elements\",\"VIVO Coin\",\"Bitcoin Gold\",\"Pirl\",\"eBoost\",\"Pura\",\"Innova\",\"Ellaism\",\"GoByte\",\"SHIELD\",\"UltraNote\",\"BitCoal\",\"DaxxCoin\",\"AC3\",\"Lethean\",\"PopularCoin\",\"Photon\",\"Sucre\",\"SparksPay\",\"GunCoin\",\"IrishCoin\",\"Pioneer Coin\",\"UnitedBitcoin\",\"Interzone\",\"TurtleCoin\",\"MUNcoin\",\"Niobio Cash\",\"ShareChain\",\"Travelflex\",\"KREDS\",\"BitFlip\",\"LottoCoin\",\"Crypto Improvement Fund\",\"Callisto Network\",\"BitTube\",\"Poseidon\",\"Aidos Kuneen\",\"Bitrolium\",\"Alpenschillling\",\"FuturoCoin\",\"Monero Classic\",\"Jumpcoin\",\"Infinex\",\"KEYCO\",\"GINcoin\",\"PlatinCoin\",\"Loki\",\"Newton Coin\",\"MassGrid\",\"PluraCoin\",\"Motion\",\"PlusOneCoin\",\"Axe\",\"HexCoin\",\"Webchain\",\"Ryo\",\"Urals Coin\",\"Qwertycoin\",\"Project Pai\",\"Azart\",\"Xchange\",\"CrypticCoin\",\"Actinium\",\"Bitcoin SV\",\"FREDEnergy\",\"Universal Molecule\",\"Lithium\",\"PirateCash\",\"Exosis\",\"Block-Logic\",\"Beam\",\"Bithereum\",\"SLICE\",\"BLAST\",\"Bitcoin Rhodium\",\"GlobalToken\",\"SolarCoin\",\"UFO Coin\",\"BlakeCoin\",\"Crypto Escudo\",\"Crown Coin\",\"SmileyCoin\",\"Groestlcoin\",\"Bata\",\"Pakcoin\",\"JoinCoin\",\"Vollar\",\"Reality Clash\",\"Beldex\",\"Horizen\"],\"legendgroup\":\"1\",\"marker\":{\"color\":[1,1,1,1,1,1,1,1,1,1,1,1,1,1,1,1,1,1,1,1,1,1,1,1,1,1,1,1,1,1,1,1,1,1,1,1,1,1,1,1,1,1,1,1,1,1,1,1,1,1,1,1,1,1,1,1,1,1,1,1,1,1,1,1,1,1,1,1,1,1,1,1,1,1,1,1,1,1,1,1,1,1,1,1,1,1,1,1,1,1,1,1,1,1,1,1,1,1,1,1,1,1,1,1,1,1,1,1,1,1,1,1,1,1,1,1,1,1,1,1,1,1,1,1,1,1,1,1,1,1,1,1,1,1,1,1,1,1,1,1,1,1,1,1,1,1,1,1,1,1,1,1,1,1,1,1,1,1,1,1,1,1,1,1,1,1,1,1,1,1,1,1,1,1,1,1,1,1,1,1,1,1,1,1,1,1,1,1,1,1,1,1,1,1,1,1,1,1,1,1,1,1,1,1,1,1,1,1,1,1,1,1,1,1,1,1,1,1,1,1,1,1,1,1,1,1,1,1,1,1,1,1,1,1,1,1,1,1,1],\"coloraxis\":\"coloraxis\",\"symbol\":\"diamond\"},\"mode\":\"markers\",\"name\":\"1\",\"scene\":\"scene\",\"showlegend\":true,\"x\":[-0.1453880272498263,-0.16163620804969686,-0.16346318981265892,-0.15788404739879916,-0.16008749535128777,-0.16099588397985268,0.1541896540824821,-0.1646035418527525,-0.23074677192568616,-0.1642222734307472,-0.09786292516141375,2.5409082000451493,-0.14248782081217579,-0.1614921275660411,-0.16402756537301877,-0.23681135762813377,-0.18607999451901513,-0.1640755876070402,-0.16458588910241279,-0.1646718687685669,-0.23083568476371003,0.17787515564718231,0.23051511213306491,0.082782363645726,-0.16441940549544604,-0.16004767602663994,-0.16435908881780845,-0.16472859133250284,-0.16693267444481114,-0.14406038541280353,-0.16352981181216725,-0.16380601137458237,1.5752512164806292,-0.14534957363008438,-0.1611097772359213,-0.1644457158419381,-0.16479871528264933,-0.1640617703601401,-0.14062325897270359,-0.16468061323943456,-0.030356533067742178,-0.14542682867206663,-0.15837686538627335,-0.16466026028435088,-0.1627656453791669,-0.16414966034904846,-0.1326465454728777,-0.14489331659453897,-0.14517915517237998,-0.14516260311383503,-0.14574979554804474,-0.23100860021159683,-0.164378068603758,-0.1841091665792758,-0.1614969762037512,-0.14496028273788783,3.8358526573608756,0.45216787724158786,-0.16325168204035054,-0.14793708675882747,-0.16197698914252737,-0.16480092742533678,-0.16184258199699894,-0.14813783555604337,-0.126729738716392,-0.13169347511059093,-0.1766092160353345,-0.1646745939549617,-0.03829589050851765,-0.11072620137238652,-0.1648097588821617,-0.1454544789757896,0.4834271937134816,-0.23039892755701505,-0.15480192445561802,-0.14519586476031723,-0.23068239989433087,-0.16294425953725503,-0.16214060392332963,-0.1626989489257421,0.3803281001897612,-0.23071758384269828,-0.14535069084125177,-0.16078825579042733,-0.16796595653775973,-0.1633805366306821,0.2709974255857781,-0.22988283916460475,-0.14871735527078214,-0.16362768515760112,-0.15851055488385482,-0.16460082925077968,-0.230681086935999,-0.164809817078379,-0.2308303712575228,-0.2985065660269627,0.2978841838465746,-0.14560947053131454,-0.11186937878381453,-0.16199152619361865,-0.14556829880302594,-0.1644750568066242,-0.1396956219189529,-0.16244238093347158,-0.16101740206218804,-0.09197286034214328,-0.21747994321926548,-0.22867052774059957,0.2978784617660819,-0.16479165986453476,0.29800853859592447,-0.15533932772632136,0.48012383927675745,-0.15665628778020171,-0.164760098759229,-0.22360760681967745,-0.1610296795495445,-0.16290289398708013,-0.15505910901262096,-0.14225249487760264,-0.13585753089584254,-0.18307186882942203,-0.1643248066412179,-0.1121141018772492,-0.16414805717402134,-0.15651386136346818,-0.151637005195554,-0.01814571040415638,-0.17613613347800888,0.3338149672414986,-0.22989135701903549,-0.16446532062038374,-0.16423035139816133,-0.23028382322068797,-0.2308582134570347,0.29827130531047513,-0.12358200824329374,3.2272443019204027,-0.12074023416016601,-0.22178312794588304,-0.14538719529345157,-0.09083095579875194,1.5742110782574665,-0.16456272755174764,-0.16401753225193466,-0.16372003924089104,-0.16370702999860365,0.2984537195625269,0.05011106430832568,-0.18547209422847405,-0.17159680187794885,-0.16087647631457921,-0.14748341742963877,-0.1629011113406127,-0.22642640907093686,-0.17144310470011484,-0.16081765030366696,-0.1715427167342016,-0.12197672730240686,1.1311197814623153,0.29786139682920887,-0.08614968218038103,-0.22617120207394564,-0.14568487988517276,-0.0813841266694824,1.0911378477188767,-0.23083234025940366,-0.1715943106338679,-0.16466892973541394,-0.16381760535500678,-0.2307581217660302,-0.1453666785234432,-0.21489593201226723,7.990097110975967,-0.14534764157851848,0.3017147969495197,0.027245066946629707,-0.14698833403210365,-0.16974367369170776,-0.16438845932295484,0.14109507357743228,-0.22493071083407423,-0.11413449593040323,0.30573820587559764,-0.16462419157318411,-0.13031772010888426,-0.15987268489663126,-0.13749211843520096,-0.22993194285874505,0.2980430200760272,-0.18313078047385056,-0.1551854404674757,-0.16875347165046456,-0.13977950115935336,0.30194732911152916,0.5801088563496999,2.0963762010027884,-0.16106675144100543,0.3115756946563219,-0.19961078232841736,-0.15366411375616593,-0.2308145943501735,-0.16464867218653356,-0.14557295876291332,-0.13845610398273075,-0.18349728103330787,3.089241959047533,-0.10541998825158373,-0.23078613178851048,-0.19904191840590152,-0.05618165461326493,-0.13918075906834457,-0.14538723268699164,0.3773559856066,-0.13218327100578295,-0.13257268673587888,-0.2921426962609996,-0.1539577862192895,-0.16354703657843245,-0.15894792325443508,-0.16071016101665359,-0.1758248198532846,-0.14466712605587925,-0.10693602556373608,-0.1435413057887548,0.5270834663097856,-0.09714293725326631,-0.08333592648840904,-0.148287732578339,-0.14517852850424862,0.5472430466140035,-0.18564321765752162,-0.1647249845248832,-0.16269185589751362,-0.13242502619053637,-0.1064522773961265,-0.16247537021677683,0.3195048038224356,-0.1609969360911895],\"y\":[-1.31635432686346,-1.9974251839353012,-1.1302215521333092,-2.185601917093703,-1.9975224796616025,-2.146337158481002,-1.8322628059768085,-1.130213743560608,-0.9137092042144916,-1.130231636299481,-1.8270013195137669,-1.3121111897855577,-1.3163662236963962,-1.1302748322507445,-1.130250555199327,-0.44355581147017265,-1.3209786879460381,-1.1302159644493348,-1.1302131850331358,-1.1302104297334,-0.9137106240886484,-1.828416794707449,-1.3190758909740297,-1.1317766772210653,-1.1302079175441466,-1.1302638181761677,-1.1302136722939116,-1.1302108978655336,-1.596780811546607,-1.1305388026478957,-1.1302139069318136,-1.1302242102661466,-1.1382671502769972,-1.3163531102030166,-1.1302734777074928,-1.1302080533451953,-1.1302062296132112,-1.1302112317318143,-2.2042169727987027,-1.1302085189245712,-1.1364013314130887,-1.3163555545282588,-1.1302368748885083,-1.130215538113954,-1.130315125954013,-1.1302204217238396,-1.3165551859735487,-1.316356795612491,-1.3163623478675113,-1.3163882968672542,-1.316351317610276,-0.9137035553782709,-1.1302080029579764,-1.2115214097843512,-1.1302857285611159,-1.31635751276262,-2.3108616765718746,-2.2963776490670647,-1.130229573342811,-1.1308421645836344,-1.1302319234218274,-1.130207189923467,-1.1302232220148132,-1.1303747941825564,-2.1142190115942197,-1.8266784073913087,-1.532583748580055,-1.130203710617931,-1.1331692799667563,-2.053615337555353,-1.1302060701110443,-1.316356429375177,-1.1737874291966401,-0.9137072549785864,-2.2349185709462946,-1.3163710691581383,-0.9137078641536995,-1.1302930784440777,-1.1302953498388362,-1.997470586564746,-2.1122202963343906,-0.9137054941125458,-1.3163531455512272,-1.1302246959672713,-2.2093814979062865,-1.1302189370126132,-1.3182313412918283,-0.9137264552563296,-2.1862331391988588,-1.130285520051168,-2.173794705311059,-1.1302129610846896,-0.9137106092122868,-1.1302060698415046,-0.9137153325212909,-1.9038746600234129,-2.29429960268646,-1.316353486193176,-1.8268871592681608,-1.130255800564133,-1.3163528121185766,-1.1302159481845342,-2.1705943481141743,-1.9974689470818088,-2.146337839306363,-1.134867602418572,-0.9136238379458556,-0.9137884157103079,-2.2943074468817723,-1.130206956811902,-2.2943061178919426,-2.2348967087371774,-0.9608685529415285,-2.185691951423463,-1.1302064080651373,-0.9141660403178965,-2.146335441162028,-1.1302149709502238,-2.234895505856345,-2.2829245547059482,-1.1320761993354853,-0.593434361253758,-1.130215040103436,-1.317028545783613,-1.130234861320801,-2.1856317130928913,-2.2099157141636345,-2.125064940164573,-2.1901597036495777,-2.2945490975824776,-0.9137378711592702,-1.1302081698169104,-1.1302395550343156,-0.9137224226647566,-0.9137119638744629,-2.2943180068869724,-2.069114616972196,-1.162212123181829,-1.2373661882357518,-0.9141779793842663,-1.3163543005406193,-1.1351797979397813,-1.0751835659375883,-1.1302117555589102,-1.1302390913538258,-1.130240825169179,-1.1302404135608426,-2.2943365407027416,-2.154272822273009,-0.9135167647228633,-1.5967131182087968,-2.1463333804600095,-2.1862820893843606,-1.1302149145478493,-0.9138024038064206,-1.5967207949791984,-1.9975943470378474,-1.596714750892062,-1.8268307615742188,-2.327144577550182,-2.2943020652856365,-2.0020033144264273,-0.9139336591460608,-2.185912228110555,-1.1310493279931453,-1.3642969599945325,-0.9137117722396628,-1.5967088594863537,-1.5968234379828403,-1.130218832728775,-0.9137116532700046,-1.316353070390329,-1.2589612869469822,-2.7475634812645997,-2.159056979413483,-2.2944055112064046,-1.1310955846761213,-2.186227199013475,-1.2117746865499766,-1.1302201747678138,-1.1333501291312338,-0.9138595778909886,-2.0004504699822836,-2.29474078744198,-1.1302143969112708,-2.2996932080608308,-2.1463357566672503,-2.1707187166588917,-0.9137391552824802,-2.2943004290184614,-0.5934172400926698,-2.2349031812560964,-2.1152121641655532,-2.1705894085414936,-2.2945820699343757,-2.0873429727123027,-2.3655725222261976,-2.2297406971533635,-2.294556091132013,-1.2901780749182974,-2.090073737508525,-0.9137120467447261,-1.130215941451699,-2.1864315356963258,-2.130159611856339,-0.5710817584992568,-2.136361326214875,-1.3165380861152405,-0.9137139327983984,-1.2902143622096383,-2.1483007798963363,-2.170621668308186,-1.3163543017237385,-2.297407105716302,-2.217052505803495,-2.2170091705857815,-0.1751717517138732,-2.4109127975282103,-1.1302492844202034,-2.146440811628079,-2.146335005378601,-1.532628595535835,-1.3163614737281928,-0.3711919169342772,-1.3163983047334256,-1.1766557237236996,-1.5971252119619366,-2.2203103096327874,-1.1303795368772205,-1.3163623280399286,-1.1425090138240852,-1.3209794981143685,-1.1302064395678741,-1.1302654190750185,-1.8267035040576334,-2.1428477744503285,-1.9974687942897291,-2.29458403170943,-2.1463371917694753],\"z\":[0.19383791009462856,0.3768214760489055,-0.028788133213206345,0.43360302191032346,0.3767883959748408,0.3383092679663935,0.29890793790678,-0.028756375132454055,0.0901010665376772,-0.02876522148296269,0.30551754452158547,-0.08516253881939548,0.19375621806160792,-0.02883841373744086,-0.028768605171580634,0.07349255837119023,0.045349264162805776,-0.02877123997079692,-0.02875694551779969,-0.028754802220042164,0.09010377790373203,0.2977836174702078,0.1833863540775556,-0.0356611083368889,-0.028762324838747303,-0.02888106443408541,-0.02876338532132161,-0.028753123228790787,0.23487977994507594,-0.029307111620150688,-0.02878711129711429,-0.028778005520406092,-0.07765776994570638,0.19383666760375587,-0.028849522529261675,-0.028761555481003533,-0.028751655870060424,-0.028772184433597355,0.2875318617082852,-0.028754773281519586,-0.03188428029232633,0.1938391638234932,-0.028932045556834804,-0.0287545424796616,-0.028797264574623366,-0.028768601529248292,0.19349623958974613,0.19382402619628425,0.19383285724470714,0.19383539156211935,0.19384792342951845,0.09010791124442372,-0.02876349895864647,0.1399738977372667,-0.028837011582649206,0.19382602746695812,0.20871255423313642,0.3039530236929647,-0.028793261534143452,-0.029160899785714744,-0.028829500407731554,-0.028751481172647513,-0.02883435906950788,-0.029209334722099394,0.35574676759070034,0.30644912389630513,0.22297960678777937,-0.028755503148921766,-0.032031582345043746,0.4198670719494866,-0.028751358037644826,0.19384005724393719,-0.042266317127115656,0.09009087716206929,0.3958859633399975,0.1938343469725376,0.09009906735303072,-0.02879470458579225,-0.028817460548616614,0.3768571801859359,0.3529803841087854,0.09009980036226728,0.1938367037024298,-0.02886438750204512,0.3784831904098934,-0.02879080385448465,0.18212889586195807,0.0900783207218043,0.3460475775035243,-0.02877600535246503,0.4935422165305351,-0.02875654354724812,0.09009934799663093,-0.028751356401966122,0.09010417158432571,0.3599312960184447,0.3081312879811152,0.19384415548336772,0.30590549943160306,-0.028826315800311256,0.19384289804226987,-0.02875979976505659,0.401665454962481,0.37684964117281916,0.33830996324608664,-0.03029720348636819,0.08971116458405724,0.09005077964114629,0.3081323613042738,-0.028751773651609736,0.30812848140495924,0.3958988216938519,0.07520689428113261,0.4335782931148414,-0.02875274128334292,0.08994954145955854,0.33831003688193584,-0.028804944895689046,0.3958906558653689,0.1439950038030274,-0.02936382838827143,0.004138778894004872,-0.028764208695571537,0.19296300333795297,-0.028766973380964053,0.43356722977291784,0.20894288197160737,0.36588312035994497,0.4917990594494628,0.3071310394236698,0.09007988821430292,-0.028760980433406497,-0.028764072037763495,0.0900893386812753,0.09010457852780261,0.3081223332773251,0.2711040895627433,-0.12220011809702953,0.1743618943023996,0.08989866664370107,0.19383788321294132,-0.03029371664544596,-0.0849416323715497,-0.028757774667065104,-0.028770221624489473,-0.028778541776118955,-0.028778962123147612,0.30811925707802224,0.3331825101022493,0.08878194250694829,0.23500552756637688,0.3383054097357441,0.3460179086143993,-0.0288050024955192,0.08998812253889286,0.23500201519518793,0.3768176419896459,0.23500416767941143,0.30618846810194683,0.28807263572906794,0.3081322261788578,0.37519006742468197,0.08999602979674697,0.43328957445295185,-0.031043174383893795,0.011012809338905897,0.09010381521827845,0.23500496247004196,0.23481988090269384,-0.02877829688117412,0.09010167556743744,0.1938371529275682,0.11738037635952178,0.1403509801332467,0.31782424195973524,0.30803384542276036,-0.03414930343362023,0.3459973640553844,0.13959178738614383,-0.028761790184451456,-0.03714895353055064,0.0899519094299768,0.3758116126117442,0.3079574725320068,-0.028755707910763467,0.31193104177906344,0.33827693338695797,0.4016167582729682,0.09008119960022067,0.3081268341987552,0.00413848135617007,0.39589516426208626,0.4834284786423959,0.40166728486148257,0.30804765445272975,0.35286535060239704,0.26487974654996743,0.4382532572741176,0.3077688550083199,0.18024146653253437,0.46868741166637884,0.09010333874297986,-0.02875482763896169,0.43334657508849156,0.5026245334569311,-0.0848311476050927,0.28667864304127016,0.1927144003390458,0.09010274214447445,0.18022937942936612,0.33553470335013935,0.4016538750159178,0.19383788442117952,0.30621522955695907,0.25750198014052195,0.25750811015833264,0.1193596724707432,0.23451723768902585,-0.028782516401266067,0.3382626248658202,0.3383008343135406,0.2229623385156116,0.19381808972861253,-0.09115022947379738,0.19379011262821635,-0.043184235685434065,0.23292070427233874,0.256480530604378,-0.02920449133717572,0.19383283699617274,-0.047720502636029664,0.04533684738678199,-0.028753743416420015,-0.028805140958614056,0.30647298749398466,0.32996014848313715,0.37685056837862174,0.3075449789636143,0.3383093019616],\"type\":\"scatter3d\"},{\"customdata\":[[\"Vechain\",\"VeChainThor Authority\"],[\"BiblePay\",\"Proof-of-BibleHash\"],[\"LitecoinCash\",\"SHA-256 + Hive\"],[\"Poa Network\",\"Proof-of-Authority\"]],\"hovertemplate\":\"<b>%{hovertext}</b><br><br>Class=%{marker.color}<br>PC 1=%{x}<br>PC 2=%{y}<br>PC 3=%{z}<br>CoinName=%{customdata[0]}<br>Algorithm=%{customdata[1]}<extra></extra>\",\"hovertext\":[\"Vechain\",\"BiblePay\",\"LitecoinCash\",\"Poa Network\"],\"legendgroup\":\"3\",\"marker\":{\"color\":[3,3,3,3],\"coloraxis\":\"coloraxis\",\"symbol\":\"square\"},\"mode\":\"markers\",\"name\":\"3\",\"scene\":\"scene\",\"showlegend\":true,\"x\":[4.35159203800062,-0.09389014756784028,-0.3521430564515463,-0.4590255922913486],\"y\":[3.133707192097864,2.463268683483901,3.0388791311879055,3.451889514238419],\"z\":[10.078277144167423,13.75137233446162,21.667304210335324,14.615974568311088],\"type\":\"scatter3d\"},{\"customdata\":[[\"BitTorrent\",\"TRC10\"]],\"hovertemplate\":\"<b>%{hovertext}</b><br><br>Class=%{marker.color}<br>PC 1=%{x}<br>PC 2=%{y}<br>PC 3=%{z}<br>CoinName=%{customdata[0]}<br>Algorithm=%{customdata[1]}<extra></extra>\",\"hovertext\":[\"BitTorrent\"],\"legendgroup\":\"2\",\"marker\":{\"color\":[2],\"coloraxis\":\"coloraxis\",\"symbol\":\"x\"},\"mode\":\"markers\",\"name\":\"2\",\"scene\":\"scene\",\"showlegend\":true,\"x\":[33.967341185775375],\"y\":[1.6527277552900146],\"z\":[-1.2619784097902613],\"type\":\"scatter3d\"}],                        {\"template\":{\"data\":{\"histogram2dcontour\":[{\"type\":\"histogram2dcontour\",\"colorbar\":{\"outlinewidth\":0,\"ticks\":\"\"},\"colorscale\":[[0.0,\"#0d0887\"],[0.1111111111111111,\"#46039f\"],[0.2222222222222222,\"#7201a8\"],[0.3333333333333333,\"#9c179e\"],[0.4444444444444444,\"#bd3786\"],[0.5555555555555556,\"#d8576b\"],[0.6666666666666666,\"#ed7953\"],[0.7777777777777778,\"#fb9f3a\"],[0.8888888888888888,\"#fdca26\"],[1.0,\"#f0f921\"]]}],\"choropleth\":[{\"type\":\"choropleth\",\"colorbar\":{\"outlinewidth\":0,\"ticks\":\"\"}}],\"histogram2d\":[{\"type\":\"histogram2d\",\"colorbar\":{\"outlinewidth\":0,\"ticks\":\"\"},\"colorscale\":[[0.0,\"#0d0887\"],[0.1111111111111111,\"#46039f\"],[0.2222222222222222,\"#7201a8\"],[0.3333333333333333,\"#9c179e\"],[0.4444444444444444,\"#bd3786\"],[0.5555555555555556,\"#d8576b\"],[0.6666666666666666,\"#ed7953\"],[0.7777777777777778,\"#fb9f3a\"],[0.8888888888888888,\"#fdca26\"],[1.0,\"#f0f921\"]]}],\"heatmap\":[{\"type\":\"heatmap\",\"colorbar\":{\"outlinewidth\":0,\"ticks\":\"\"},\"colorscale\":[[0.0,\"#0d0887\"],[0.1111111111111111,\"#46039f\"],[0.2222222222222222,\"#7201a8\"],[0.3333333333333333,\"#9c179e\"],[0.4444444444444444,\"#bd3786\"],[0.5555555555555556,\"#d8576b\"],[0.6666666666666666,\"#ed7953\"],[0.7777777777777778,\"#fb9f3a\"],[0.8888888888888888,\"#fdca26\"],[1.0,\"#f0f921\"]]}],\"heatmapgl\":[{\"type\":\"heatmapgl\",\"colorbar\":{\"outlinewidth\":0,\"ticks\":\"\"},\"colorscale\":[[0.0,\"#0d0887\"],[0.1111111111111111,\"#46039f\"],[0.2222222222222222,\"#7201a8\"],[0.3333333333333333,\"#9c179e\"],[0.4444444444444444,\"#bd3786\"],[0.5555555555555556,\"#d8576b\"],[0.6666666666666666,\"#ed7953\"],[0.7777777777777778,\"#fb9f3a\"],[0.8888888888888888,\"#fdca26\"],[1.0,\"#f0f921\"]]}],\"contourcarpet\":[{\"type\":\"contourcarpet\",\"colorbar\":{\"outlinewidth\":0,\"ticks\":\"\"}}],\"contour\":[{\"type\":\"contour\",\"colorbar\":{\"outlinewidth\":0,\"ticks\":\"\"},\"colorscale\":[[0.0,\"#0d0887\"],[0.1111111111111111,\"#46039f\"],[0.2222222222222222,\"#7201a8\"],[0.3333333333333333,\"#9c179e\"],[0.4444444444444444,\"#bd3786\"],[0.5555555555555556,\"#d8576b\"],[0.6666666666666666,\"#ed7953\"],[0.7777777777777778,\"#fb9f3a\"],[0.8888888888888888,\"#fdca26\"],[1.0,\"#f0f921\"]]}],\"surface\":[{\"type\":\"surface\",\"colorbar\":{\"outlinewidth\":0,\"ticks\":\"\"},\"colorscale\":[[0.0,\"#0d0887\"],[0.1111111111111111,\"#46039f\"],[0.2222222222222222,\"#7201a8\"],[0.3333333333333333,\"#9c179e\"],[0.4444444444444444,\"#bd3786\"],[0.5555555555555556,\"#d8576b\"],[0.6666666666666666,\"#ed7953\"],[0.7777777777777778,\"#fb9f3a\"],[0.8888888888888888,\"#fdca26\"],[1.0,\"#f0f921\"]]}],\"mesh3d\":[{\"type\":\"mesh3d\",\"colorbar\":{\"outlinewidth\":0,\"ticks\":\"\"}}],\"scatter\":[{\"fillpattern\":{\"fillmode\":\"overlay\",\"size\":10,\"solidity\":0.2},\"type\":\"scatter\"}],\"parcoords\":[{\"type\":\"parcoords\",\"line\":{\"colorbar\":{\"outlinewidth\":0,\"ticks\":\"\"}}}],\"scatterpolargl\":[{\"type\":\"scatterpolargl\",\"marker\":{\"colorbar\":{\"outlinewidth\":0,\"ticks\":\"\"}}}],\"bar\":[{\"error_x\":{\"color\":\"#2a3f5f\"},\"error_y\":{\"color\":\"#2a3f5f\"},\"marker\":{\"line\":{\"color\":\"#E5ECF6\",\"width\":0.5},\"pattern\":{\"fillmode\":\"overlay\",\"size\":10,\"solidity\":0.2}},\"type\":\"bar\"}],\"scattergeo\":[{\"type\":\"scattergeo\",\"marker\":{\"colorbar\":{\"outlinewidth\":0,\"ticks\":\"\"}}}],\"scatterpolar\":[{\"type\":\"scatterpolar\",\"marker\":{\"colorbar\":{\"outlinewidth\":0,\"ticks\":\"\"}}}],\"histogram\":[{\"marker\":{\"pattern\":{\"fillmode\":\"overlay\",\"size\":10,\"solidity\":0.2}},\"type\":\"histogram\"}],\"scattergl\":[{\"type\":\"scattergl\",\"marker\":{\"colorbar\":{\"outlinewidth\":0,\"ticks\":\"\"}}}],\"scatter3d\":[{\"type\":\"scatter3d\",\"line\":{\"colorbar\":{\"outlinewidth\":0,\"ticks\":\"\"}},\"marker\":{\"colorbar\":{\"outlinewidth\":0,\"ticks\":\"\"}}}],\"scattermapbox\":[{\"type\":\"scattermapbox\",\"marker\":{\"colorbar\":{\"outlinewidth\":0,\"ticks\":\"\"}}}],\"scatterternary\":[{\"type\":\"scatterternary\",\"marker\":{\"colorbar\":{\"outlinewidth\":0,\"ticks\":\"\"}}}],\"scattercarpet\":[{\"type\":\"scattercarpet\",\"marker\":{\"colorbar\":{\"outlinewidth\":0,\"ticks\":\"\"}}}],\"carpet\":[{\"aaxis\":{\"endlinecolor\":\"#2a3f5f\",\"gridcolor\":\"white\",\"linecolor\":\"white\",\"minorgridcolor\":\"white\",\"startlinecolor\":\"#2a3f5f\"},\"baxis\":{\"endlinecolor\":\"#2a3f5f\",\"gridcolor\":\"white\",\"linecolor\":\"white\",\"minorgridcolor\":\"white\",\"startlinecolor\":\"#2a3f5f\"},\"type\":\"carpet\"}],\"table\":[{\"cells\":{\"fill\":{\"color\":\"#EBF0F8\"},\"line\":{\"color\":\"white\"}},\"header\":{\"fill\":{\"color\":\"#C8D4E3\"},\"line\":{\"color\":\"white\"}},\"type\":\"table\"}],\"barpolar\":[{\"marker\":{\"line\":{\"color\":\"#E5ECF6\",\"width\":0.5},\"pattern\":{\"fillmode\":\"overlay\",\"size\":10,\"solidity\":0.2}},\"type\":\"barpolar\"}],\"pie\":[{\"automargin\":true,\"type\":\"pie\"}]},\"layout\":{\"autotypenumbers\":\"strict\",\"colorway\":[\"#636efa\",\"#EF553B\",\"#00cc96\",\"#ab63fa\",\"#FFA15A\",\"#19d3f3\",\"#FF6692\",\"#B6E880\",\"#FF97FF\",\"#FECB52\"],\"font\":{\"color\":\"#2a3f5f\"},\"hovermode\":\"closest\",\"hoverlabel\":{\"align\":\"left\"},\"paper_bgcolor\":\"white\",\"plot_bgcolor\":\"#E5ECF6\",\"polar\":{\"bgcolor\":\"#E5ECF6\",\"angularaxis\":{\"gridcolor\":\"white\",\"linecolor\":\"white\",\"ticks\":\"\"},\"radialaxis\":{\"gridcolor\":\"white\",\"linecolor\":\"white\",\"ticks\":\"\"}},\"ternary\":{\"bgcolor\":\"#E5ECF6\",\"aaxis\":{\"gridcolor\":\"white\",\"linecolor\":\"white\",\"ticks\":\"\"},\"baxis\":{\"gridcolor\":\"white\",\"linecolor\":\"white\",\"ticks\":\"\"},\"caxis\":{\"gridcolor\":\"white\",\"linecolor\":\"white\",\"ticks\":\"\"}},\"coloraxis\":{\"colorbar\":{\"outlinewidth\":0,\"ticks\":\"\"}},\"colorscale\":{\"sequential\":[[0.0,\"#0d0887\"],[0.1111111111111111,\"#46039f\"],[0.2222222222222222,\"#7201a8\"],[0.3333333333333333,\"#9c179e\"],[0.4444444444444444,\"#bd3786\"],[0.5555555555555556,\"#d8576b\"],[0.6666666666666666,\"#ed7953\"],[0.7777777777777778,\"#fb9f3a\"],[0.8888888888888888,\"#fdca26\"],[1.0,\"#f0f921\"]],\"sequentialminus\":[[0.0,\"#0d0887\"],[0.1111111111111111,\"#46039f\"],[0.2222222222222222,\"#7201a8\"],[0.3333333333333333,\"#9c179e\"],[0.4444444444444444,\"#bd3786\"],[0.5555555555555556,\"#d8576b\"],[0.6666666666666666,\"#ed7953\"],[0.7777777777777778,\"#fb9f3a\"],[0.8888888888888888,\"#fdca26\"],[1.0,\"#f0f921\"]],\"diverging\":[[0,\"#8e0152\"],[0.1,\"#c51b7d\"],[0.2,\"#de77ae\"],[0.3,\"#f1b6da\"],[0.4,\"#fde0ef\"],[0.5,\"#f7f7f7\"],[0.6,\"#e6f5d0\"],[0.7,\"#b8e186\"],[0.8,\"#7fbc41\"],[0.9,\"#4d9221\"],[1,\"#276419\"]]},\"xaxis\":{\"gridcolor\":\"white\",\"linecolor\":\"white\",\"ticks\":\"\",\"title\":{\"standoff\":15},\"zerolinecolor\":\"white\",\"automargin\":true,\"zerolinewidth\":2},\"yaxis\":{\"gridcolor\":\"white\",\"linecolor\":\"white\",\"ticks\":\"\",\"title\":{\"standoff\":15},\"zerolinecolor\":\"white\",\"automargin\":true,\"zerolinewidth\":2},\"scene\":{\"xaxis\":{\"backgroundcolor\":\"#E5ECF6\",\"gridcolor\":\"white\",\"linecolor\":\"white\",\"showbackground\":true,\"ticks\":\"\",\"zerolinecolor\":\"white\",\"gridwidth\":2},\"yaxis\":{\"backgroundcolor\":\"#E5ECF6\",\"gridcolor\":\"white\",\"linecolor\":\"white\",\"showbackground\":true,\"ticks\":\"\",\"zerolinecolor\":\"white\",\"gridwidth\":2},\"zaxis\":{\"backgroundcolor\":\"#E5ECF6\",\"gridcolor\":\"white\",\"linecolor\":\"white\",\"showbackground\":true,\"ticks\":\"\",\"zerolinecolor\":\"white\",\"gridwidth\":2}},\"shapedefaults\":{\"line\":{\"color\":\"#2a3f5f\"}},\"annotationdefaults\":{\"arrowcolor\":\"#2a3f5f\",\"arrowhead\":0,\"arrowwidth\":1},\"geo\":{\"bgcolor\":\"white\",\"landcolor\":\"#E5ECF6\",\"subunitcolor\":\"white\",\"showland\":true,\"showlakes\":true,\"lakecolor\":\"white\"},\"title\":{\"x\":0.05},\"mapbox\":{\"style\":\"light\"}}},\"scene\":{\"domain\":{\"x\":[0.0,1.0],\"y\":[0.0,1.0]},\"xaxis\":{\"title\":{\"text\":\"PC 1\"}},\"yaxis\":{\"title\":{\"text\":\"PC 2\"}},\"zaxis\":{\"title\":{\"text\":\"PC 3\"}}},\"coloraxis\":{\"colorbar\":{\"title\":{\"text\":\"Class\"}},\"colorscale\":[[0.0,\"#0d0887\"],[0.1111111111111111,\"#46039f\"],[0.2222222222222222,\"#7201a8\"],[0.3333333333333333,\"#9c179e\"],[0.4444444444444444,\"#bd3786\"],[0.5555555555555556,\"#d8576b\"],[0.6666666666666666,\"#ed7953\"],[0.7777777777777778,\"#fb9f3a\"],[0.8888888888888888,\"#fdca26\"],[1.0,\"#f0f921\"]]},\"legend\":{\"title\":{\"text\":\"Class\"},\"tracegroupgap\":0},\"margin\":{\"t\":60}},                        {\"responsive\": true}                    ).then(function(){\n",
       "                            \n",
       "var gd = document.getElementById('8ecbfba7-eeac-45e4-8d82-90825cca93f5');\n",
       "var x = new MutationObserver(function (mutations, observer) {{\n",
       "        var display = window.getComputedStyle(gd).display;\n",
       "        if (!display || display === 'none') {{\n",
       "            console.log([gd, 'removed!']);\n",
       "            Plotly.purge(gd);\n",
       "            observer.disconnect();\n",
       "        }}\n",
       "}});\n",
       "\n",
       "// Listen for the removal of the full notebook cells\n",
       "var notebookContainer = gd.closest('#notebook-container');\n",
       "if (notebookContainer) {{\n",
       "    x.observe(notebookContainer, {childList: true});\n",
       "}}\n",
       "\n",
       "// Listen for the clearing of the current output cell\n",
       "var outputEl = gd.closest('.output');\n",
       "if (outputEl) {{\n",
       "    x.observe(outputEl, {childList: true});\n",
       "}}\n",
       "\n",
       "                        })                };                });            </script>        </div>"
      ]
     },
     "metadata": {},
     "output_type": "display_data"
    }
   ],
   "source": [
    "# Creating a 3D-Scatter with the PCA data and the clusters\n",
    "\n",
    "# 2. Create a 3D scatter plot using the Plotly Express scatter_3d() function \n",
    "# to plot the three clusters from the clustered_df DataFrame.\n",
    "\n",
    "# 3. Add the CoinName and Algorithm columns to the hover_name and hover_data parameters,\n",
    "# respectively, so each data point shows the CoinName and Algorithm on hover.\n",
    "\n",
    "#clustered_df[\"HoverName\"] = f\"{clustered_df.CoinName}, Algorithm: {clustered_df.Algorithm}\"\n",
    "\n",
    "fig = px.scatter_3d(\n",
    "    clustered_df,\n",
    "    x=\"PC 1\",\n",
    "    y=\"PC 2\",\n",
    "    z=\"PC 3\",\n",
    "    color=\"Class\",\n",
    "    symbol=\"Class\",\n",
    "    hover_name = \"CoinName\",\n",
    "    hover_data = ['CoinName','Algorithm']\n",
    ")\n",
    "\n",
    "fig.show()"
   ]
  },
  {
   "cell_type": "code",
   "execution_count": 45,
   "metadata": {},
   "outputs": [
    {
     "data": {},
     "metadata": {},
     "output_type": "display_data"
    },
    {
     "data": {
      "application/vnd.holoviews_exec.v0+json": "",
      "text/html": [
       "<div id='1654'>\n",
       "\n",
       "\n",
       "\n",
       "\n",
       "\n",
       "  <div class=\"bk-root\" id=\"62e15853-1bd7-4e14-adbc-25d2965da16d\" data-root-id=\"1654\"></div>\n",
       "</div>\n",
       "<script type=\"application/javascript\">(function(root) {\n",
       "  function embed_document(root) {\n",
       "    var docs_json = {\"3fbf70bf-dcad-4022-97de-4386eafe35ec\":{\"defs\":[{\"extends\":null,\"module\":null,\"name\":\"ReactiveHTML1\",\"overrides\":[],\"properties\":[]},{\"extends\":null,\"module\":null,\"name\":\"FlexBox1\",\"overrides\":[],\"properties\":[{\"default\":\"flex-start\",\"kind\":null,\"name\":\"align_content\"},{\"default\":\"flex-start\",\"kind\":null,\"name\":\"align_items\"},{\"default\":\"row\",\"kind\":null,\"name\":\"flex_direction\"},{\"default\":\"wrap\",\"kind\":null,\"name\":\"flex_wrap\"},{\"default\":\"flex-start\",\"kind\":null,\"name\":\"justify_content\"}]},{\"extends\":null,\"module\":null,\"name\":\"GridStack1\",\"overrides\":[],\"properties\":[{\"default\":\"warn\",\"kind\":null,\"name\":\"mode\"},{\"default\":null,\"kind\":null,\"name\":\"ncols\"},{\"default\":null,\"kind\":null,\"name\":\"nrows\"},{\"default\":true,\"kind\":null,\"name\":\"allow_resize\"},{\"default\":true,\"kind\":null,\"name\":\"allow_drag\"},{\"default\":[],\"kind\":null,\"name\":\"state\"}]},{\"extends\":null,\"module\":null,\"name\":\"click1\",\"overrides\":[],\"properties\":[{\"default\":\"\",\"kind\":null,\"name\":\"terminal_output\"},{\"default\":\"\",\"kind\":null,\"name\":\"debug_name\"},{\"default\":0,\"kind\":null,\"name\":\"clears\"}]},{\"extends\":null,\"module\":null,\"name\":\"TemplateActions1\",\"overrides\":[],\"properties\":[{\"default\":0,\"kind\":null,\"name\":\"open_modal\"},{\"default\":0,\"kind\":null,\"name\":\"close_modal\"}]},{\"extends\":null,\"module\":null,\"name\":\"MaterialTemplateActions1\",\"overrides\":[],\"properties\":[{\"default\":0,\"kind\":null,\"name\":\"open_modal\"},{\"default\":0,\"kind\":null,\"name\":\"close_modal\"}]}],\"roots\":{\"references\":[{\"attributes\":{},\"id\":\"1683\",\"type\":\"NumberFormatter\"},{\"attributes\":{},\"id\":\"1659\",\"type\":\"StringEditor\"},{\"attributes\":{},\"id\":\"1679\",\"type\":\"NumberEditor\"},{\"attributes\":{\"editor\":{\"id\":\"1669\"},\"field\":\"ProofType\",\"formatter\":{\"id\":\"1668\"},\"title\":\"ProofType\"},\"id\":\"1670\",\"type\":\"TableColumn\"},{\"attributes\":{\"editor\":{\"id\":\"1659\"},\"field\":\"CoinName\",\"formatter\":{\"id\":\"1658\"},\"title\":\"CoinName\"},\"id\":\"1660\",\"type\":\"TableColumn\"},{\"attributes\":{},\"id\":\"1663\",\"type\":\"StringFormatter\"},{\"attributes\":{\"format\":\"0,0.0[00000]\"},\"id\":\"1673\",\"type\":\"NumberFormatter\"},{\"attributes\":{\"data\":{\"Algorithm\":[\"Scrypt\",\"Scrypt\",\"X13\",\"SHA-256\",\"Ethash\",\"Scrypt\",\"X11\",\"CryptoNight-V7\",\"Ethash\",\"Equihash\",\"SHA-512\",\"Multiple\",\"SHA-256\",\"SHA-256\",\"Scrypt\",\"X15\",\"X11\",\"Scrypt\",\"Scrypt\",\"Scrypt\",\"Multiple\",\"Scrypt\",\"SHA-256\",\"Scrypt\",\"Scrypt\",\"Scrypt\",\"Quark\",\"Groestl\",\"Scrypt\",\"Scrypt\",\"Scrypt\",\"Scrypt\",\"Scrypt\",\"X11\",\"Scrypt\",\"Groestl\",\"Multiple\",\"SHA-256\",\"Scrypt\",\"Scrypt\",\"Scrypt\",\"Scrypt\",\"PoS\",\"Scrypt\",\"Scrypt\",\"NeoScrypt\",\"Scrypt\",\"Scrypt\",\"Scrypt\",\"Scrypt\",\"X11\",\"Scrypt\",\"X11\",\"SHA-256\",\"Scrypt\",\"Scrypt\",\"Scrypt\",\"SHA3\",\"Scrypt\",\"HybridScryptHash256\",\"Scrypt\",\"Scrypt\",\"SHA-256\",\"Scrypt\",\"X13\",\"Scrypt\",\"SHA-256\",\"Scrypt\",\"X13\",\"NeoScrypt\",\"Scrypt\",\"Scrypt\",\"Scrypt\",\"Scrypt\",\"Scrypt\",\"Scrypt\",\"X11\",\"X11\",\"SHA-256\",\"Multiple\",\"SHA-256\",\"PHI1612\",\"X11\",\"SHA-256\",\"SHA-256\",\"SHA-256\",\"X11\",\"Scrypt\",\"Scrypt\",\"Scrypt\",\"Scrypt\",\"Lyra2REv2\",\"Scrypt\",\"X11\",\"Multiple\",\"SHA-256\",\"X13\",\"Scrypt\",\"CryptoNight\",\"CryptoNight\",\"Shabal256\",\"Counterparty\",\"Scrypt\",\"SHA-256\",\"Groestl\",\"Scrypt\",\"Scrypt\",\"Scrypt\",\"X13\",\"Scrypt\",\"Scrypt\",\"Scrypt\",\"Scrypt\",\"X13\",\"Scrypt\",\"Stanford Folding\",\"X11\",\"Multiple\",\"QuBit\",\"Scrypt\",\"Scrypt\",\"Scrypt\",\"M7 POW\",\"Scrypt\",\"SHA-256\",\"Scrypt\",\"X11\",\"SHA3\",\"X11\",\"Lyra2RE\",\"SHA-256\",\"QUAIT\",\"X11\",\"X11\",\"Scrypt\",\"Scrypt\",\"Scrypt\",\"Ethash\",\"X13\",\"Blake2b\",\"SHA-256\",\"X15\",\"X11\",\"SHA-256\",\"BLAKE256\",\"Scrypt\",\"1GB AES Pattern Search\",\"SHA-256\",\"X11\",\"Scrypt\",\"SHA-256\",\"SHA-256\",\"NIST5\",\"Scrypt\",\"Scrypt\",\"X11\",\"Dagger\",\"Scrypt\",\"X11GOST\",\"X11\",\"Scrypt\",\"SHA-256\",\"Scrypt\",\"PoS\",\"Scrypt\",\"X11\",\"X11\",\"SHA-256\",\"SHA-256\",\"NIST5\",\"X11\",\"Scrypt\",\"POS 3.0\",\"Scrypt\",\"Scrypt\",\"Scrypt\",\"X13\",\"X11\",\"X11\",\"Equihash\",\"X11\",\"Scrypt\",\"CryptoNight\",\"SHA-256\",\"SHA-256\",\"X11\",\"Scrypt\",\"Multiple\",\"Scrypt\",\"Scrypt\",\"Scrypt\",\"SHA-256\",\"Scrypt\",\"Scrypt\",\"SHA-256D\",\"PoS\",\"Scrypt\",\"X11\",\"Lyra2Z\",\"PoS\",\"X13\",\"X14\",\"PoS\",\"SHA-256D\",\"Ethash\",\"Equihash\",\"DPoS\",\"X11\",\"Scrypt\",\"X11\",\"X13\",\"X11\",\"PoS\",\"Scrypt\",\"Scrypt\",\"X11\",\"PoS\",\"X11\",\"SHA-256\",\"Scrypt\",\"X11\",\"Scrypt\",\"Scrypt\",\"X11\",\"CryptoNight\",\"Scrypt\",\"Scrypt\",\"Scrypt\",\"Scrypt\",\"Quark\",\"QuBit\",\"Scrypt\",\"CryptoNight\",\"Lyra2RE\",\"Scrypt\",\"SHA-256\",\"X11\",\"Scrypt\",\"X11\",\"Scrypt\",\"CryptoNight-V7\",\"Scrypt\",\"Scrypt\",\"Scrypt\",\"X13\",\"X11\",\"Equihash\",\"Scrypt\",\"Scrypt\",\"Lyra2RE\",\"Scrypt\",\"Dagger-Hashimoto\",\"X11\",\"Blake2S\",\"X11\",\"Scrypt\",\"PoS\",\"X11\",\"NIST5\",\"PoS\",\"X11\",\"Scrypt\",\"Scrypt\",\"Scrypt\",\"SHA-256\",\"X11\",\"Scrypt\",\"Scrypt\",\"SHA-256\",\"PoS\",\"Scrypt\",\"X15\",\"SHA-256\",\"Scrypt\",\"POS 3.0\",\"CryptoNight-V7\",\"536\",\"Argon2d\",\"Blake2b\",\"Cloverhash\",\"CryptoNight\",\"NIST5\",\"X11\",\"NIST5\",\"Skein\",\"Scrypt\",\"X13\",\"Scrypt\",\"X11\",\"X11\",\"Scrypt\",\"CryptoNight\",\"X13\",\"Time Travel\",\"Scrypt\",\"Keccak\",\"SkunkHash v2 Raptor\",\"X11\",\"Skein\",\"SHA-256\",\"X11\",\"Scrypt\",\"VeChainThor Authority\",\"Scrypt\",\"PoS\",\"Scrypt\",\"Scrypt\",\"Scrypt\",\"Scrypt\",\"Scrypt\",\"Scrypt\",\"Scrypt\",\"CryptoNight\",\"SHA-512\",\"Ouroboros\",\"X11\",\"Equihash\",\"NeoScrypt\",\"X11\",\"Scrypt\",\"NeoScrypt\",\"Lyra2REv2\",\"Equihash\",\"Scrypt\",\"SHA-256\",\"NIST5\",\"PHI1612\",\"Dagger\",\"Scrypt\",\"Quark\",\"Scrypt\",\"POS 2.0\",\"Scrypt\",\"SHA-256\",\"X11\",\"NeoScrypt\",\"Ethash\",\"NeoScrypt\",\"X11\",\"DPoS\",\"NIST5\",\"X13\",\"Multiple\",\"Scrypt\",\"CryptoNight\",\"CryptoNight\",\"Ethash\",\"NIST5\",\"Quark\",\"X11\",\"CryptoNight-V7\",\"Scrypt\",\"Scrypt\",\"Scrypt\",\"X11\",\"BLAKE256\",\"X11\",\"NeoScrypt\",\"Quark\",\"NeoScrypt\",\"Scrypt\",\"Scrypt\",\"Scrypt\",\"X11\",\"X11\",\"SHA-256\",\"C11\",\"POS 3.0\",\"Ethash\",\"Scrypt\",\"CryptoNight\",\"SkunkHash\",\"Scrypt\",\"CryptoNight\",\"Scrypt\",\"Dagger\",\"Lyra2REv2\",\"X13\",\"Proof-of-BibleHash\",\"SHA-256 + Hive\",\"Scrypt\",\"Scrypt\",\"X11\",\"C11\",\"Proof-of-Authority\",\"X11\",\"XEVAN\",\"Scrypt\",\"VBFT\",\"Ethash\",\"CryptoNight\",\"Scrypt\",\"IMesh\",\"NIST5\",\"Scrypt\",\"Scrypt\",\"Equihash\",\"Scrypt\",\"Lyra2Z\",\"Green Protocol\",\"PoS\",\"Scrypt\",\"Semux BFT consensus\",\"X11\",\"Quark\",\"PoS\",\"CryptoNight\",\"X16R\",\"Scrypt\",\"NIST5\",\"Lyra2RE\",\"XEVAN\",\"Tribus\",\"Scrypt\",\"Lyra2Z\",\"CryptoNight\",\"CryptoNight Heavy\",\"CryptoNight\",\"Scrypt\",\"Scrypt\",\"Jump Consistent Hash\",\"SHA-256D\",\"CryptoNight\",\"Scrypt\",\"X15\",\"Scrypt\",\"Quark\",\"SHA-256\",\"DPoS\",\"X16R\",\"HMQ1725\",\"X11\",\"X16R\",\"Quark\",\"Quark\",\"Scrypt\",\"Lyra2REv2\",\"Quark\",\"Scrypt\",\"Scrypt\",\"CryptoNight-V7\",\"Cryptonight-GPU\",\"XEVAN\",\"CryptoNight Heavy\",\"X11\",\"X11\",\"Scrypt\",\"PoS\",\"SHA-256\",\"Keccak\",\"X11\",\"X11\",\"Scrypt\",\"SHA-512\",\"X16R\",\"ECC 256K1\",\"Equihash\",\"XEVAN\",\"Lyra2Z\",\"SHA-256\",\"XEVAN\",\"X11\",\"CryptoNight\",\"Quark\",\"Blake\",\"Blake\",\"Equihash\",\"Exosis\",\"Scrypt\",\"Scrypt\",\"Equihash\",\"Quark\",\"Equihash\",\"Quark\",\"Scrypt\",\"QuBit\",\"X11\",\"Scrypt\",\"XEVAN\",\"SHA-256D\",\"X11\",\"SHA-256\",\"X13\",\"SHA-256\",\"X11\",\"DPoS\",\"Scrypt\",\"Scrypt\",\"X11\",\"NeoScrypt\",\"Scrypt\",\"Blake\",\"Scrypt\",\"SHA-256\",\"Scrypt\",\"X11\",\"Scrypt\",\"Scrypt\",\"SHA-256\",\"X11\",\"SHA-256\",\"Scrypt\",\"Scrypt\",\"Scrypt\",\"Groestl\",\"X11\",\"Scrypt\",\"PoS\",\"Scrypt\",\"Scrypt\",\"X11\",\"SHA-256\",\"DPoS\",\"Scrypt\",\"Scrypt\",\"NeoScrypt\",\"Multiple\",\"X13\",\"Equihash+Scrypt\",\"DPoS\",\"Ethash\",\"DPoS\",\"SHA-256\",\"Leased POS\",\"PoS\",\"TRC10\",\"PoS\",\"SHA-256\",\"Scrypt\",\"CryptoNight\",\"Equihash\",\"Scrypt\"],\"Class\":{\"__ndarray__\":\"AAAAAAAAAAAAAAAAAQAAAAEAAAABAAAAAAAAAAEAAAABAAAAAQAAAAAAAAABAAAAAAAAAAAAAAABAAAAAAAAAAEAAAABAAAAAAAAAAAAAAABAAAAAQAAAAEAAAABAAAAAQAAAAAAAAABAAAAAQAAAAEAAAAAAAAAAQAAAAAAAAABAAAAAQAAAAAAAAAAAAAAAQAAAAEAAAABAAAAAQAAAAEAAAABAAAAAAAAAAAAAAABAAAAAQAAAAEAAAABAAAAAQAAAAAAAAAAAAAAAQAAAAAAAAABAAAAAQAAAAEAAAABAAAAAAAAAAEAAAABAAAAAAAAAAEAAAAAAAAAAAAAAAAAAAABAAAAAQAAAAEAAAAAAAAAAAAAAAAAAAAAAAAAAAAAAAEAAAABAAAAAQAAAAAAAAAAAAAAAQAAAAAAAAABAAAAAAAAAAAAAAABAAAAAQAAAAEAAAABAAAAAAAAAAAAAAABAAAAAAAAAAEAAAABAAAAAAAAAAAAAAABAAAAAAAAAAAAAAABAAAAAQAAAAAAAAAAAAAAAQAAAAAAAAAAAAAAAQAAAAAAAAABAAAAAAAAAAEAAAAAAAAAAQAAAAAAAAAAAAAAAQAAAAEAAAAAAAAAAQAAAAEAAAABAAAAAAAAAAEAAAABAAAAAQAAAAEAAAABAAAAAAAAAAAAAAABAAAAAQAAAAEAAAAAAAAAAQAAAAAAAAABAAAAAQAAAAAAAAABAAAAAAAAAAEAAAAAAAAAAAAAAAEAAAABAAAAAAAAAAEAAAABAAAAAAAAAAAAAAABAAAAAAAAAAEAAAAAAAAAAAAAAAAAAAABAAAAAQAAAAEAAAABAAAAAAAAAAAAAAAAAAAAAAAAAAAAAAABAAAAAQAAAAAAAAAAAAAAAAAAAAAAAAAAAAAAAQAAAAAAAAAAAAAAAAAAAAAAAAAAAAAAAQAAAAAAAAABAAAAAAAAAAAAAAABAAAAAAAAAAEAAAAAAAAAAAAAAAEAAAAAAAAAAQAAAAAAAAABAAAAAAAAAAEAAAAAAAAAAAAAAAAAAAAAAAAAAQAAAAAAAAAAAAAAAAAAAAAAAAAAAAAAAQAAAAEAAAAAAAAAAAAAAAEAAAABAAAAAAAAAAAAAAAAAAAAAAAAAAAAAAABAAAAAAAAAAAAAAAAAAAAAAAAAAAAAAAAAAAAAAAAAAAAAAABAAAAAAAAAAAAAAAAAAAAAAAAAAAAAAAAAAAAAQAAAAEAAAABAAAAAAAAAAAAAAAAAAAAAAAAAAEAAAAAAAAAAQAAAAAAAAAAAAAAAQAAAAAAAAABAAAAAQAAAAAAAAABAAAAAQAAAAAAAAABAAAAAAAAAAAAAAAAAAAAAQAAAAAAAAAAAAAAAQAAAAAAAAAAAAAAAAAAAAAAAAAAAAAAAAAAAAAAAAABAAAAAAAAAAEAAAAAAAAAAAAAAAAAAAAAAAAAAQAAAAAAAAABAAAAAAAAAAEAAAABAAAAAQAAAAEAAAAAAAAAAQAAAAAAAAAAAAAAAQAAAAAAAAABAAAAAQAAAAEAAAAAAAAAAQAAAAAAAAABAAAAAQAAAAEAAAAAAAAAAQAAAAAAAAABAAAAAAAAAAAAAAADAAAAAQAAAAAAAAABAAAAAQAAAAEAAAABAAAAAQAAAAAAAAAAAAAAAQAAAAAAAAAAAAAAAAAAAAEAAAAAAAAAAQAAAAAAAAABAAAAAAAAAAEAAAAAAAAAAAAAAAAAAAAAAAAAAQAAAAAAAAAAAAAAAQAAAAAAAAAAAAAAAAAAAAEAAAABAAAAAQAAAAEAAAAAAAAAAAAAAAAAAAAAAAAAAQAAAAAAAAABAAAAAQAAAAEAAAAAAAAAAAAAAAEAAAABAAAAAAAAAAAAAAABAAAAAAAAAAEAAAABAAAAAQAAAAAAAAABAAAAAQAAAAAAAAAAAAAAAAAAAAEAAAABAAAAAQAAAAAAAAAAAAAAAAAAAAEAAAABAAAAAAAAAAEAAAABAAAAAQAAAAEAAAAAAAAAAwAAAAMAAAABAAAAAQAAAAEAAAAAAAAAAwAAAAAAAAAAAAAAAAAAAAAAAAABAAAAAQAAAAEAAAABAAAAAAAAAAAAAAAAAAAAAQAAAAAAAAABAAAAAAAAAAAAAAAAAAAAAAAAAAEAAAAAAAAAAAAAAAEAAAAAAAAAAAAAAAEAAAABAAAAAAAAAAEAAAAAAAAAAQAAAAEAAAABAAAAAQAAAAAAAAAAAAAAAQAAAAAAAAABAAAAAAAAAAAAAAAAAAAAAAAAAAAAAAAAAAAAAQAAAAEAAAABAAAAAAAAAAAAAAAAAAAAAAAAAAAAAAAAAAAAAQAAAAAAAAABAAAAAQAAAAEAAAABAAAAAAAAAAAAAAAAAAAAAAAAAAEAAAAAAAAAAAAAAAEAAAAAAAAAAAAAAAEAAAAAAAAAAQAAAAAAAAABAAAAAQAAAAAAAAAAAAAAAQAAAAAAAAABAAAAAQAAAAEAAAABAAAAAQAAAAAAAAABAAAAAAAAAAEAAAAAAAAAAAAAAAEAAAAAAAAAAAAAAAAAAAAAAAAAAAAAAAEAAAABAAAAAQAAAAAAAAAAAAAAAAAAAAEAAAAAAAAAAQAAAAAAAAABAAAAAAAAAAAAAAAAAAAAAAAAAAEAAAAAAAAAAAAAAAAAAAABAAAAAAAAAAEAAAAAAAAAAQAAAAAAAAAAAAAAAAAAAAEAAAABAAAAAAAAAAAAAAAAAAAAAAAAAAAAAAAAAAAAAQAAAAAAAAABAAAAAAAAAAEAAAAAAAAAAAAAAAAAAAAAAAAAAgAAAAAAAAAAAAAAAAAAAAEAAAABAAAAAAAAAA==\",\"dtype\":\"int32\",\"order\":\"little\",\"shape\":[532]},\"CoinName\":[\"42 Coin\",\"404Coin\",\"EliteCoin\",\"Bitcoin\",\"Ethereum\",\"Litecoin\",\"Dash\",\"Monero\",\"Ethereum Classic\",\"ZCash\",\"Bitshares\",\"DigiByte\",\"BitcoinDark\",\"PayCoin\",\"ProsperCoin\",\"KoboCoin\",\"Spreadcoin\",\"Argentum\",\"Aurora Coin\",\"BlueCoin\",\"MyriadCoin\",\"MoonCoin\",\"ZetaCoin\",\"SexCoin\",\"Quatloo\",\"EnergyCoin\",\"QuarkCoin\",\"Riecoin\",\"Digitalcoin \",\"BitBar\",\"Catcoin\",\"CryptoBullion\",\"CannaCoin\",\"CryptCoin\",\"CasinoCoin\",\"Diamond\",\"Verge\",\"DevCoin\",\"EarthCoin\",\"E-Gulden\",\"Einsteinium\",\"Emerald\",\"Exclusive Coin\",\"FlutterCoin\",\"Franko\",\"FeatherCoin\",\"GrandCoin\",\"GlobalCoin\",\"GoldCoin\",\"HoboNickels\",\"HyperStake\",\"Infinite Coin\",\"IOCoin\",\"IXcoin\",\"KrugerCoin\",\"LuckyCoin\",\"Litebar \",\"MaxCoin\",\"MegaCoin\",\"MediterraneanCoin\",\"MintCoin\",\"MinCoin\",\"MazaCoin\",\"Nautilus Coin\",\"NavCoin\",\"NobleCoin\",\"Namecoin\",\"NyanCoin\",\"OpalCoin\",\"Orbitcoin\",\"PotCoin\",\"PhoenixCoin\",\"Reddcoin\",\"RonPaulCoin\",\"StableCoin\",\"SmartCoin\",\"SuperCoin\",\"SyncCoin\",\"SysCoin\",\"TeslaCoin\",\"TigerCoin\",\"TittieCoin\",\"TorCoin\",\"TerraCoin\",\"UnbreakableCoin\",\"Unobtanium\",\"UroCoin\",\"UnitaryStatus Dollar\",\"UltraCoin\",\"ViaCoin\",\"VeriCoin\",\"Vertcoin\",\"WorldCoin\",\"X11 Coin\",\"Crypti\",\"JouleCoin\",\"StealthCoin\",\"ZCC Coin\",\"ByteCoin\",\"DigitalNote \",\"BurstCoin\",\"StorjCoin\",\"MonaCoin\",\"Neutron\",\"FairCoin\",\"Gulden\",\"RubyCoin\",\"PesetaCoin\",\"Kore\",\"Wild Beast Coin\",\"Dnotes\",\"Flo\",\"8BIT Coin\",\"Sativa Coin\",\"ArtByte\",\"Folding Coin\",\"Ucoin\",\"Unitus\",\"CypherPunkCoin\",\"OmniCron\",\"Vtorrent\",\"GreenCoin\",\"Cryptonite\",\"MasterCoin\",\"SoonCoin\",\"1Credit\",\"IslaCoin\",\"Nexus\",\"MarsCoin \",\"Crypto\",\"Anarchists Prime\",\"Droidz\",\"BowsCoin\",\"Squall Coin\",\"Song Coin\",\"BitZeny\",\"Diggits\",\"Expanse\",\"Paycon\",\"Siacoin\",\"Emercoin\",\"EverGreenCoin\",\"MindCoin\",\"I0coin\",\"Decred\",\"Revolution VR\",\"HOdlcoin\",\"EDRCoin\",\"Hitcoin\",\"Gamecredits\",\"DubaiCoin\",\"CarpeDiemCoin\",\"PWR Coin\",\"BillaryCoin\",\"GPU Coin\",\"Adzcoin\",\"SoilCoin\",\"YoCoin\",\"SibCoin\",\"EuropeCoin\",\"ZeitCoin\",\"SwingCoin\",\"SafeExchangeCoin\",\"Nebuchadnezzar\",\"Francs\",\"BolivarCoin\",\"Ratecoin\",\"Revenu\",\"Clockcoin\",\"VIP Tokens\",\"BitSend\",\"Omni\",\"Let it Ride\",\"PutinCoin\",\"iBankCoin\",\"Frankywillcoin\",\"MudraCoin\",\"PizzaCoin\",\"Lutetium Coin\",\"Komodo\",\"GoldBlocks\",\"CarterCoin\",\"Karbo\",\"BitTokens\",\"ZayedCoin\",\"MustangCoin\",\"ZoneCoin\",\"Circuits of Value\",\"RootCoin\",\"DopeCoin\",\"BitCurrency\",\"DollarCoin\",\"Swiscoin\",\"Shilling\",\"BuzzCoin\",\"Opair\",\"PesoBit\",\"Halloween Coin\",\"ZCoin\",\"CoffeeCoin\",\"RoyalCoin\",\"GanjaCoin V2\",\"TeamUP\",\"LanaCoin\",\"Elementrem\",\"ZClassic\",\"ARK\",\"InsaneCoin\",\"KiloCoin\",\"ArtexCoin\",\"EmberCoin\",\"XenixCoin\",\"FreeCoin\",\"PLNCoin\",\"AquariusCoin\",\"Kurrent\",\"Creatio\",\"Eternity\",\"Eurocoin\",\"BitcoinFast\",\"Stakenet\",\"BitConnect Coin\",\"MoneyCoin\",\"Enigma\",\"Cannabis Industry Coin\",\"Russiacoin\",\"PandaCoin\",\"GameUnits\",\"GAKHcoin\",\"Allsafe\",\"LiteCreed\",\"OsmiumCoin\",\"Bikercoins\",\"HexxCoin\",\"Klingon Empire Darsek\",\"Internet of People\",\"KushCoin\",\"Printerium\",\"PacCoin\",\"Impeach\",\"Citadel\",\"Zilbercoin\",\"FirstCoin\",\"BeaverCoin\",\"FindCoin\",\"VaultCoin\",\"Zero\",\"OpenChat\",\"Canada eCoin\",\"Zoin\",\"RenosCoin\",\"DubaiCoin\",\"VirtacoinPlus\",\"TajCoin\",\"Impact\",\"EB3coin\",\"Atmos\",\"HappyCoin\",\"Coinonat\",\"MacronCoin\",\"Condensate\",\"Independent Money System\",\"ArgusCoin\",\"LomoCoin\",\"ProCurrency\",\"GoldReserve\",\"BenjiRolls\",\"GrowthCoin\",\"ILCoin\",\"Phreak\",\"Degas Coin\",\"HTML5 Coin\",\"Ultimate Secure Cash\",\"EquiTrader\",\"QTUM\",\"Quantum Resistant Ledger\",\"Espers\",\"Dynamic\",\"Nano\",\"ChanCoin\",\"Dinastycoin\",\"Denarius\",\"DigitalPrice\",\"Virta Unique Coin\",\"Bitcoin Planet\",\"Unify\",\"BritCoin\",\"SocialCoin\",\"ArcticCoin\",\"DAS\",\"Linda\",\"LeviarCoin\",\"DeepOnion\",\"Bitcore\",\"gCn Coin\",\"SmartCash\",\"Signatum\",\"Onix\",\"Cream\",\"Bitcoin Cash\",\"Monoeci\",\"Draftcoin\",\"Vechain\",\"Sojourn Coin\",\"Stakecoin\",\"NewYorkCoin\",\"FrazCoin\",\"Kronecoin\",\"AdCoin\",\"Linx\",\"CoinonatX\",\"Ethereum Dark\",\"Sumokoin\",\"Obsidian\",\"Cardano\",\"Regalcoin\",\"BitcoinZ\",\"TrezarCoin\",\"Elements\",\"TerraNovaCoin\",\"VIVO Coin\",\"Rupee\",\"Bitcoin Gold\",\"WomenCoin\",\"Theresa May Coin\",\"NamoCoin\",\"LUXCoin\",\"Pirl\",\"Xios\",\"Bitcloud 2.0\",\"eBoost\",\"KekCoin\",\"BlackholeCoin\",\"Infinity Economics\",\"Pura\",\"Innova\",\"Ellaism\",\"GoByte\",\"Magnet\",\"Lamden Tau\",\"Electra\",\"Bitcoin Diamond\",\"SHIELD\",\"Cash & Back Coin\",\"UltraNote\",\"BitCoal\",\"DaxxCoin\",\"Bulwark\",\"Kalkulus\",\"AC3\",\"Lethean\",\"GermanCoin\",\"LiteCoin Ultra\",\"PopularCoin\",\"PhantomX\",\"Photon\",\"Sucre\",\"SparksPay\",\"Digiwage\",\"GunCoin\",\"IrishCoin\",\"Trollcoin\",\"Litecoin Plus\",\"Monkey Project\",\"Pioneer Coin\",\"UnitedBitcoin\",\"Interzone\",\"TokenPay\",\"1717 Masonic Commemorative Token\",\"My Big Coin\",\"TurtleCoin\",\"MUNcoin\",\"Unified Society USDEX\",\"Niobio Cash\",\"ShareChain\",\"Travelflex\",\"KREDS\",\"Tokyo Coin\",\"BiblePay\",\"LitecoinCash\",\"BitFlip\",\"LottoCoin\",\"Crypto Improvement Fund\",\"Stipend\",\"Poa Network\",\"Pushi\",\"Ellerium\",\"Velox\",\"Ontology\",\"Callisto Network\",\"BitTube\",\"Poseidon\",\"Aidos Kuneen\",\"Bitspace\",\"Briacoin\",\"Ignition\",\"Bitrolium\",\"MedicCoin\",\"Alpenschillling\",\"Bitcoin Green\",\"Deviant Coin\",\"Abjcoin\",\"Semux\",\"FuturoCoin\",\"Carebit\",\"Zealium\",\"Monero Classic\",\"Proton\",\"iDealCash\",\"Jumpcoin\",\"Infinex\",\"Bitcoin Incognito\",\"KEYCO\",\"HollyWoodCoin\",\"GINcoin\",\"PlatinCoin\",\"Loki\",\"Newton Coin\",\"Swisscoin\",\"Xt3ch\",\"MassGrid\",\"TheVig\",\"PluraCoin\",\"EmaratCoin\",\"Dekado\",\"Lynx\",\"Poseidon Quark\",\"BitcoinWSpectrum\",\"Muse\",\"Motion\",\"PlusOneCoin\",\"Axe\",\"Trivechain\",\"Dystem\",\"Giant\",\"Peony Coin\",\"Absolute Coin\",\"Vitae\",\"HexCoin\",\"TPCash\",\"Webchain\",\"Ryo\",\"Urals Coin\",\"Qwertycoin\",\"ARENON\",\"EUNO\",\"MMOCoin\",\"Ketan\",\"Project Pai\",\"XDNA\",\"PAXEX\",\"Azart\",\"ThunderStake\",\"Kcash\",\"Xchange\",\"Acute Angle Cloud\",\"CrypticCoin\",\"Bettex coin\",\"Actinium\",\"Bitcoin SV\",\"BitMoney\",\"Junson Ming Chan Coin\",\"FREDEnergy\",\"HerbCoin\",\"Universal Molecule\",\"Lithium\",\"PirateCash\",\"Exosis\",\"Block-Logic\",\"Oduwa\",\"Beam\",\"Galilel\",\"Bithereum\",\"Crypto Sports\",\"Credit\",\"SLICE\",\"Dash Platinum\",\"Nasdacoin\",\"Beetle Coin\",\"Titan Coin\",\"Award\",\"BLAST\",\"Bitcoin Rhodium\",\"GlobalToken\",\"Insane Coin\",\"ALAX\",\"LiteDoge\",\"SolarCoin\",\"TruckCoin\",\"UFO Coin\",\"OrangeCoin\",\"BlakeCoin\",\"BitstarCoin\",\"NeosCoin\",\"HyperCoin\",\"PinkCoin\",\"Crypto Escudo\",\"AudioCoin\",\"IncaKoin\",\"Piggy Coin\",\"Crown Coin\",\"Genstake\",\"SmileyCoin\",\"XiaoMiCoin\",\"Groestlcoin\",\"CapriCoin\",\" ClubCoin\",\"Radium\",\"Bata\",\"Pakcoin\",\"Creditbit \",\"OKCash\",\"Lisk\",\"HiCoin\",\"WhiteCoin\",\"FriendshipCoin\",\"JoinCoin\",\"Triangles Coin\",\"Vollar\",\"EOS\",\"Reality Clash\",\"Oxycoin\",\"TigerCash\",\"Waves\",\"Particl\",\"BitTorrent\",\"Nxt\",\"ZEPHYR\",\"Gapcoin\",\"Beldex\",\"Horizen\",\"BitcoinPlus\"],\"ProofType\":[\"PoW/PoS\",\"PoW/PoS\",\"PoW/PoS\",\"PoW\",\"PoW\",\"PoW\",\"PoW/PoS\",\"PoW\",\"PoW\",\"PoW\",\"PoS\",\"PoW\",\"PoW/PoS\",\"PoS\",\"PoW\",\"PoW/PoS\",\"PoW\",\"PoW\",\"PoW/PoS\",\"PoW/PoS\",\"PoW\",\"PoW\",\"PoW\",\"PoW\",\"PoW\",\"PoW/PoS\",\"PoW\",\"PoW\",\"PoW\",\"PoW/PoS\",\"PoW\",\"PoW/PoS\",\"PoW\",\"PoW\",\"PoC\",\"PoW/PoS\",\"PoW\",\"PoW\",\"PoW\",\"PoW\",\"PoW\",\"PoW\",\"PoS\",\"PoS/PoW/PoT\",\"PoW\",\"PoW\",\"PoW\",\"PoW\",\"PoW\",\"PoW/PoS\",\"PoS\",\"PoW\",\"PoW/PoS\",\"PoW\",\"PoW\",\"PoW\",\"PoW\",\"PoW/PoS\",\"PoW\",\"PoW\",\"PoS\",\"PoW\",\"PoW/PoS\",\"PoS\",\"PoW/PoS\",\"PoW\",\"PoW\",\"PoW\",\"PoW/PoS\",\"PoW/PoS\",\"PoW/PoS\",\"PoW/PoS\",\"PoW/PoS\",\"PoW\",\"PoW\",\"PoW\",\"PoS\",\"PoW/PoS\",\"PoW\",\"PoS\",\"PoW\",\"PoS\",\"PoW/PoS\",\"PoW\",\"PoW\",\"PoW\",\"PoW\",\"PoW/PoS\",\"PoW/PoS\",\"PoW\",\"PoST\",\"PoW\",\"PoW\",\"PoW/PoS\",\"PoS\",\"PoW\",\"PoW/PoS\",\"PoW/PoS\",\"PoW\",\"PoW\",\"PoC\",\"PoS\",\"PoW\",\"PoW/PoS\",\"PoW/PoS\",\"PoW\",\"PoS\",\"PoW\",\"PoW/PoS\",\"PoW\",\"PoS\",\"PoW\",\"PoW/PoS\",\"PoW/PoS\",\"PoW\",\"PoW\",\"PoS\",\"PoW\",\"PoW\",\"PoW\",\"PoW/PoS\",\"PoW\",\"PoW\",\"PoW\",\"PoW\",\"PoW\",\"PoW/PoS\",\"PoW/nPoS\",\"PoW\",\"PoW\",\"PoW\",\"PoW/PoS\",\"PoW\",\"PoS/PoW\",\"PoW\",\"PoW\",\"PoS\",\"PoW\",\"PoW/PoS\",\"PoW\",\"PoW/PoS\",\"PoW/PoS\",\"PoW\",\"PoW\",\"PoW/PoS\",\"PoW\",\"PoW\",\"PoW/PoS\",\"PoW/PoS\",\"PoW\",\"PoW/PoS\",\"PoW\",\"PoW/PoS\",\"PoW/PoS\",\"PoS\",\"PoW\",\"PoW\",\"PoW\",\"PoW\",\"PoW/PoS\",\"PoS\",\"PoW/PoS\",\"PoC\",\"PoS\",\"PoW\",\"PoW\",\"PoW/PoS\",\"PoW/PoS\",\"PoW/PoS\",\"PoW/PoS\",\"PoW/PoS\",\"PoW\",\"PoS\",\"PoW/PoS\",\"PoW/PoS\",\"PoW/PoS\",\"PoS\",\"PoW\",\"PoS\",\"dPoW/PoW\",\"PoW/PoS\",\"PoW/PoS\",\"PoW\",\"PoW/PoS\",\"PoW\",\"PoW/PoS\",\"PoW/PoS\",\"PoW\",\"PoW/PoS\",\"PoW\",\"PoS\",\"PoW\",\"PoW/PoW\",\"PoW\",\"PoW/PoS\",\"PoS\",\"PoW/PoS\",\"PoW/PoS\",\"PoW\",\"PoS\",\"PoS\",\"PoW/PoS\",\"PoS\",\"PoW/PoS\",\"PoW\",\"PoW\",\"DPoS\",\"PoW/PoS\",\"PoW\",\"PoW\",\"PoW/PoS\",\"PoW/PoS\",\"PoS\",\"PoW/PoS\",\"PoW/PoS\",\"PoW\",\"PoS\",\"PoW/PoS\",\"PoW/PoS\",\"PoW/PoS\",\"TPoS\",\"PoW/PoS\",\"PoW/PoS\",\"PoW/PoS\",\"PoW\",\"PoW/PoS\",\"PoS\",\"PoW/PoS\",\"PoW/PoS\",\"PoS\",\"PoW/PoS\",\"PoW\",\"PoW\",\"PoW\",\"PoW/PoS\",\"PoW/PoS\",\"PoW/PoS\",\"PoW/PoS\",\"PoW\",\"PoW/PoS\",\"PoW\",\"PoS\",\"PoW/PoS \",\"PoW\",\"PoS\",\"PoW\",\"PoW\",\"PoW/PoS\",\"PoW\",\"PoW\",\"PoS\",\"PoW\",\"PoW/PoS\",\"PoW/PoS\",\"PoW/PoS\",\"PoW\",\"PoS\",\"PoW/PoS\",\"PoW\",\"PoS\",\"PoW/PoS\",\"PoW/PoS\",\"PoW/PoS\",\"PoW/PoS\",\"PoS\",\"PoW/PoS\",\"PoW\",\"PoS\",\"PoW\",\"PoS\",\"PoW/PoS\",\"PoW/PoS\",\"PoS\",\"PoW\",\"PoS\",\"PoW\",\"PoW/PoS\",\"PoW\",\"PoW\",\"PoW\",\"PoW\",\"PoW/PoS\",\"PoW\",\"PoW/PoS\",\"PoW/PoS\",\"PoW\",\"PoW/PoS\",\"PoW\",\"PoW\",\"PoW\",\"PoW/PoS\",\"PoW\",\"PoW/PoS\",\"PoW\",\"PoW\",\"PoW\",\"PoS\",\"PoW\",\"PoW/PoS\",\"PoW\",\"PoW/PoS\",\"PoS\",\"Proof of Authority\",\"PoW\",\"PoS\",\"PoW\",\"PoW\",\"PoW\",\"PoW\",\"PoW\",\"PoW/PoS\",\"PoW/PoS\",\"PoW\",\"PoS\",\"PoS\",\"PoW/PoS\",\"PoW\",\"PoW/PoS\",\"PoW\",\"PoW/PoS\",\"PoW\",\"PoS\",\"PoW\",\"PoW/PoS\",\"PoW/PoS\",\"PoW/PoS\",\"PoW/PoS\",\"PoW\",\"PoW/PoS\",\"PoW/PoS\",\"PoW\",\"PoS\",\"PoW/PoS\",\"PoS\",\"PoW\",\"PoW\",\"PoW\",\"PoW\",\"PoW/PoS\",\"DPoS\",\"PoW/PoS\",\"PoW/PoS\",\"PoW\",\"PoW/PoS\",\"PoW\",\"PoW\",\"PoW\",\"PoS\",\"PoS\",\"PoW\",\"PoW\",\"PoW/PoS\",\"PoW/PoS\",\"PoW\",\"PoW/PoS\",\"PoW\",\"PoW\",\"PoW\",\"PoS\",\"PoW\",\"PoW\",\"PoW/PoS\",\"PoW/PoS\",\"PoS\",\"PoW\",\"PoW\",\"PoW\",\"PoS\",\"PoS\",\"PoW and PoS\",\"PoW\",\"PoW\",\"PoW/PoS\",\"PoW\",\"PoW\",\"PoW\",\"PoW\",\"PoS\",\"POBh\",\"PoW + Hive\",\"PoW\",\"PoW\",\"PoW\",\"PoW/PoS\",\"PoA\",\"PoW/PoS\",\"PoW/PoS\",\"PoS\",\"PoS\",\"PoW\",\"PoW\",\"PoW\",\"PoW\",\"PoW/PoS\",\"PoW/PoS\",\"PoW/PoS\",\"PoW\",\"PoS\",\"PoW\",\"PoS\",\"PoS\",\"PoW/PoS\",\"DPoS\",\"PoW\",\"PoW/PoS\",\"PoS\",\"PoW\",\"PoS\",\"PoW/PoS\",\"PoW\",\"PoW\",\"PoS/PoW\",\"PoW\",\"PoS\",\"PoW\",\"PoW\",\"PoW\",\"PoW\",\"PoW/PoS\",\"PoS\",\"PoW\",\"PoW/PoS\",\"PoW\",\"PoW/PoS\",\"PoS\",\"HPoW\",\"PoS\",\"PoS\",\"PoS\",\"PoW\",\"PoW\",\"PoW\",\"PoW/PoS\",\"PoS\",\"PoW/PoS\",\"PoS\",\"PoW/PoS\",\"PoS\",\"PoW\",\"PoW/PoS\",\"PoW\",\"PoW\",\"PoW\",\"PoW\",\"PoS\",\"PoW/PoS\",\"PoS\",\"PoS\",\"PoW\",\"PoW/PoS\",\"PoS\",\"PoW\",\"PoW/PoS\",\"Zero-Knowledge Proof\",\"PoW\",\"DPOS\",\"PoW\",\"PoS\",\"PoW\",\"PoW\",\"Pos\",\"PoS\",\"PoW\",\"PoW/PoS\",\"PoW\",\"PoW\",\"PoS\",\"PoW\",\"PoW\",\"PoW/PoS\",\"PoW\",\"PoW/PoS\",\"PoW\",\"PoS\",\"PoW/PoS\",\"PoW\",\"PoS\",\"PoW/PoS\",\"PoW/PoS\",\"PoW/PoS\",\"PoW/PoS\",\"PoW\",\"PoW\",\"PoW\",\"PoW/PoS\",\"DPoS\",\"PoW/PoS\",\"PoW\",\"PoW/PoS\",\"PoW\",\"PoW/PoS\",\"PoW\",\"PoW/PoS\",\"PoS\",\"PoW/PoS\",\"PoW/PoS\",\"PoW\",\"PoW/PoS\",\"PoW/PoS\",\"PoW/PoS\",\"PoW\",\"PoW/PoS\",\"PoW\",\"PoW/PoS\",\"PoW\",\"PoW/PoS\",\"PoW/PoS\",\"PoS\",\"PoW\",\"PoW\",\"Proof of Trust\",\"PoW/PoS\",\"DPoS\",\"PoS\",\"PoW/PoS\",\"PoW/PoS\",\"PoW\",\"PoW/PoS\",\"PoW\",\"DPoS\",\"PoW\",\"DPoS\",\"PoS\",\"LPoS\",\"PoS\",\"DPoS\",\"PoS/LPoS\",\"DPoS\",\"PoW/PoS\",\"PoW\",\"PoW\",\"PoS\"],\"TotalCoinSupply\":{\"__ndarray__\":\"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\",\"dtype\":\"float64\",\"order\":\"little\",\"shape\":[532]},\"TotalCoinsMined\":{\"__ndarray__\":\"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\",\"dtype\":\"float64\",\"order\":\"little\",\"shape\":[532]}},\"selected\":{\"id\":\"1657\"},\"selection_policy\":{\"id\":\"1691\"}},\"id\":\"1656\",\"type\":\"ColumnDataSource\"},{\"attributes\":{\"margin\":[5,5,5,5],\"name\":\"HSpacer02878\",\"sizing_mode\":\"stretch_width\"},\"id\":\"1695\",\"type\":\"Spacer\"},{\"attributes\":{},\"id\":\"1674\",\"type\":\"NumberEditor\"},{\"attributes\":{\"children\":[{\"id\":\"1655\"},{\"id\":\"1688\"},{\"id\":\"1695\"}],\"margin\":[0,0,0,0],\"name\":\"Row02873\",\"tags\":[\"embedded\"]},\"id\":\"1654\",\"type\":\"Row\"},{\"attributes\":{},\"id\":\"1691\",\"type\":\"UnionRenderers\"},{\"attributes\":{},\"id\":\"1657\",\"type\":\"Selection\"},{\"attributes\":{},\"id\":\"1669\",\"type\":\"StringEditor\"},{\"attributes\":{\"margin\":[5,5,5,5],\"name\":\"HSpacer02877\",\"sizing_mode\":\"stretch_width\"},\"id\":\"1655\",\"type\":\"Spacer\"},{\"attributes\":{\"format\":\"0,0.0[00000]\"},\"id\":\"1678\",\"type\":\"NumberFormatter\"},{\"attributes\":{\"editor\":{\"id\":\"1664\"},\"field\":\"Algorithm\",\"formatter\":{\"id\":\"1663\"},\"title\":\"Algorithm\"},\"id\":\"1665\",\"type\":\"TableColumn\"},{\"attributes\":{},\"id\":\"1684\",\"type\":\"IntEditor\"},{\"attributes\":{\"editor\":{\"id\":\"1679\"},\"field\":\"TotalCoinsMined\",\"formatter\":{\"id\":\"1678\"},\"title\":\"TotalCoinsMined\"},\"id\":\"1680\",\"type\":\"TableColumn\"},{\"attributes\":{},\"id\":\"1658\",\"type\":\"StringFormatter\"},{\"attributes\":{},\"id\":\"1668\",\"type\":\"StringFormatter\"},{\"attributes\":{\"editor\":{\"id\":\"1684\"},\"field\":\"Class\",\"formatter\":{\"id\":\"1683\"},\"title\":\"Class\"},\"id\":\"1685\",\"type\":\"TableColumn\"},{\"attributes\":{\"columns\":[{\"id\":\"1660\"},{\"id\":\"1665\"},{\"id\":\"1670\"},{\"id\":\"1675\"},{\"id\":\"1680\"},{\"id\":\"1685\"}],\"height\":300,\"reorderable\":false,\"source\":{\"id\":\"1656\"},\"view\":{\"id\":\"1690\"},\"width\":700},\"id\":\"1688\",\"type\":\"DataTable\"},{\"attributes\":{\"source\":{\"id\":\"1656\"}},\"id\":\"1690\",\"type\":\"CDSView\"},{\"attributes\":{},\"id\":\"1664\",\"type\":\"StringEditor\"},{\"attributes\":{\"editor\":{\"id\":\"1674\"},\"field\":\"TotalCoinSupply\",\"formatter\":{\"id\":\"1673\"},\"title\":\"TotalCoinSupply\"},\"id\":\"1675\",\"type\":\"TableColumn\"}],\"root_ids\":[\"1654\"]},\"title\":\"Bokeh Application\",\"version\":\"2.4.2\"}};\n",
       "    var render_items = [{\"docid\":\"3fbf70bf-dcad-4022-97de-4386eafe35ec\",\"root_ids\":[\"1654\"],\"roots\":{\"1654\":\"62e15853-1bd7-4e14-adbc-25d2965da16d\"}}];\n",
       "    root.Bokeh.embed.embed_items_notebook(docs_json, render_items);\n",
       "  }\n",
       "  if (root.Bokeh !== undefined && root.Bokeh.Panel !== undefined) {\n",
       "    embed_document(root);\n",
       "  } else {\n",
       "    var attempts = 0;\n",
       "    var timer = setInterval(function(root) {\n",
       "      if (root.Bokeh !== undefined && root.Bokeh.Panel !== undefined) {\n",
       "        clearInterval(timer);\n",
       "        embed_document(root);\n",
       "      } else if (document.readyState == \"complete\") {\n",
       "        attempts++;\n",
       "        if (attempts > 200) {\n",
       "          clearInterval(timer);\n",
       "          console.log(\"Bokeh: ERROR: Unable to run BokehJS code because BokehJS library is missing\");\n",
       "        }\n",
       "      }\n",
       "    }, 25, root)\n",
       "  }\n",
       "})(window);</script>"
      ],
      "text/plain": [
       ":Table   [CoinName,Algorithm,ProofType,TotalCoinSupply,TotalCoinsMined,Class]"
      ]
     },
     "execution_count": 45,
     "metadata": {
      "application/vnd.holoviews_exec.v0+json": {
       "id": "1654"
      }
     },
     "output_type": "execute_result"
    }
   ],
   "source": [
    "# Create a table with tradable cryptocurrencies.\n",
    "clustered_df.hvplot.table(columns=['CoinName','Algorithm','ProofType','TotalCoinSupply','TotalCoinsMined','Class'], sortable=True, selectable=True)"
   ]
  },
  {
   "cell_type": "code",
   "execution_count": 46,
   "metadata": {},
   "outputs": [
    {
     "name": "stdout",
     "output_type": "stream",
     "text": [
      "There are 532 tradable currencies.\n"
     ]
    }
   ],
   "source": [
    "# Print the total number of tradable cryptocurrencies.\n",
    "# YOUR CODE HERE\n",
    "print(f\"There are {clustered_df['CoinName'].count()} tradable currencies.\")"
   ]
  },
  {
   "cell_type": "code",
   "execution_count": 47,
   "metadata": {},
   "outputs": [],
   "source": [
    "# Scaling data to create the scatter plot with tradable cryptocurrencies.\n",
    "# YOUR CODE HERE\n",
    "\n",
    "# Use the MinMaxScaler().fit_transform method to scale the TotalCoinSupply \n",
    "# and TotalCoinsMined columns between the given range of zero and one.\n",
    "data = clustered_df[['TotalCoinSupply','TotalCoinsMined']].copy()\n"
   ]
  },
  {
   "cell_type": "code",
   "execution_count": 48,
   "metadata": {},
   "outputs": [
    {
     "data": {
      "text/plain": [
       "array([[4.20000000e-11, 0.00000000e+00],\n",
       "       [5.32000000e-04, 1.06585544e-03],\n",
       "       [3.14159265e-01, 2.95755135e-02],\n",
       "       ...,\n",
       "       [1.40022261e-03, 9.90135079e-04],\n",
       "       [2.10000000e-05, 7.37028150e-06],\n",
       "       [1.00000000e-06, 1.29582282e-07]])"
      ]
     },
     "execution_count": 48,
     "metadata": {},
     "output_type": "execute_result"
    }
   ],
   "source": [
    "scaler = MinMaxScaler()\n",
    "scaled = scaler.fit_transform(data)\n",
    "scaled\n"
   ]
  },
  {
   "cell_type": "code",
   "execution_count": 49,
   "metadata": {},
   "outputs": [
    {
     "data": {
      "text/html": [
       "<div>\n",
       "<style scoped>\n",
       "    .dataframe tbody tr th:only-of-type {\n",
       "        vertical-align: middle;\n",
       "    }\n",
       "\n",
       "    .dataframe tbody tr th {\n",
       "        vertical-align: top;\n",
       "    }\n",
       "\n",
       "    .dataframe thead th {\n",
       "        text-align: right;\n",
       "    }\n",
       "</style>\n",
       "<table border=\"1\" class=\"dataframe\">\n",
       "  <thead>\n",
       "    <tr style=\"text-align: right;\">\n",
       "      <th></th>\n",
       "      <th>TotalCoinSupply</th>\n",
       "      <th>TotalCoinsMined</th>\n",
       "      <th>CoinName</th>\n",
       "      <th>Class</th>\n",
       "    </tr>\n",
       "  </thead>\n",
       "  <tbody>\n",
       "    <tr>\n",
       "      <th>42</th>\n",
       "      <td>4.200000e+01</td>\n",
       "      <td>4.199995e+01</td>\n",
       "      <td>42 Coin</td>\n",
       "      <td>0</td>\n",
       "    </tr>\n",
       "    <tr>\n",
       "      <th>404</th>\n",
       "      <td>5.320000e+08</td>\n",
       "      <td>1.055185e+09</td>\n",
       "      <td>404Coin</td>\n",
       "      <td>0</td>\n",
       "    </tr>\n",
       "    <tr>\n",
       "      <th>1337</th>\n",
       "      <td>3.141593e+11</td>\n",
       "      <td>2.927942e+10</td>\n",
       "      <td>EliteCoin</td>\n",
       "      <td>0</td>\n",
       "    </tr>\n",
       "    <tr>\n",
       "      <th>BTC</th>\n",
       "      <td>2.100000e+07</td>\n",
       "      <td>1.792718e+07</td>\n",
       "      <td>Bitcoin</td>\n",
       "      <td>1</td>\n",
       "    </tr>\n",
       "    <tr>\n",
       "      <th>ETH</th>\n",
       "      <td>0.000000e+00</td>\n",
       "      <td>1.076842e+08</td>\n",
       "      <td>Ethereum</td>\n",
       "      <td>1</td>\n",
       "    </tr>\n",
       "    <tr>\n",
       "      <th>LTC</th>\n",
       "      <td>8.400000e+07</td>\n",
       "      <td>6.303924e+07</td>\n",
       "      <td>Litecoin</td>\n",
       "      <td>1</td>\n",
       "    </tr>\n",
       "    <tr>\n",
       "      <th>DASH</th>\n",
       "      <td>2.200000e+07</td>\n",
       "      <td>9.031294e+06</td>\n",
       "      <td>Dash</td>\n",
       "      <td>0</td>\n",
       "    </tr>\n",
       "    <tr>\n",
       "      <th>XMR</th>\n",
       "      <td>0.000000e+00</td>\n",
       "      <td>1.720114e+07</td>\n",
       "      <td>Monero</td>\n",
       "      <td>1</td>\n",
       "    </tr>\n",
       "    <tr>\n",
       "      <th>ETC</th>\n",
       "      <td>2.100000e+08</td>\n",
       "      <td>1.133597e+08</td>\n",
       "      <td>Ethereum Classic</td>\n",
       "      <td>1</td>\n",
       "    </tr>\n",
       "    <tr>\n",
       "      <th>ZEC</th>\n",
       "      <td>2.100000e+07</td>\n",
       "      <td>7.383056e+06</td>\n",
       "      <td>ZCash</td>\n",
       "      <td>1</td>\n",
       "    </tr>\n",
       "  </tbody>\n",
       "</table>\n",
       "</div>"
      ],
      "text/plain": [
       "      TotalCoinSupply  TotalCoinsMined          CoinName  Class\n",
       "42       4.200000e+01     4.199995e+01           42 Coin      0\n",
       "404      5.320000e+08     1.055185e+09           404Coin      0\n",
       "1337     3.141593e+11     2.927942e+10         EliteCoin      0\n",
       "BTC      2.100000e+07     1.792718e+07           Bitcoin      1\n",
       "ETH      0.000000e+00     1.076842e+08          Ethereum      1\n",
       "LTC      8.400000e+07     6.303924e+07          Litecoin      1\n",
       "DASH     2.200000e+07     9.031294e+06              Dash      0\n",
       "XMR      0.000000e+00     1.720114e+07            Monero      1\n",
       "ETC      2.100000e+08     1.133597e+08  Ethereum Classic      1\n",
       "ZEC      2.100000e+07     7.383056e+06             ZCash      1"
      ]
     },
     "execution_count": 49,
     "metadata": {},
     "output_type": "execute_result"
    }
   ],
   "source": [
    "# 7. Create a new DataFrame using the clustered_df DataFrame index \n",
    "# that contains the scaled data you created in Step 5.\n",
    "plot_df = pd.DataFrame(\n",
    "    data=clustered_df, columns=[\"TotalCoinSupply\", \"TotalCoinsMined\"], index=clustered_df.index)\n",
    "\n",
    "# 8. Add the CoinName column from the clustered_df DataFrame to \n",
    "# the new DataFrame.\n",
    "plot_df = plot_df.merge(crypto_name_list_df[['CoinName']], left_index=True, right_index=True, how = 'left')\n",
    "\n",
    "# 9. Add the Class column from the clustered_df DataFrame to the new DataFrame.\n",
    "plot_df = plot_df.merge(clustered_df[['Class']], left_index=True, right_index=True, how = 'left')\n",
    "\n",
    "\n",
    "plot_df.head(10)"
   ]
  },
  {
   "cell_type": "code",
   "execution_count": 50,
   "metadata": {},
   "outputs": [
    {
     "data": {},
     "metadata": {},
     "output_type": "display_data"
    },
    {
     "data": {
      "application/vnd.holoviews_exec.v0+json": "",
      "text/html": [
       "<div id='1707'>\n",
       "\n",
       "\n",
       "\n",
       "\n",
       "\n",
       "  <div class=\"bk-root\" id=\"fc661db0-83eb-4b87-98bc-55655ce018b6\" data-root-id=\"1707\"></div>\n",
       "</div>\n",
       "<script type=\"application/javascript\">(function(root) {\n",
       "  function embed_document(root) {\n",
       "    var docs_json = {\"9a0becf1-4d01-4aec-b675-067a7c493ac3\":{\"defs\":[{\"extends\":null,\"module\":null,\"name\":\"ReactiveHTML1\",\"overrides\":[],\"properties\":[]},{\"extends\":null,\"module\":null,\"name\":\"FlexBox1\",\"overrides\":[],\"properties\":[{\"default\":\"flex-start\",\"kind\":null,\"name\":\"align_content\"},{\"default\":\"flex-start\",\"kind\":null,\"name\":\"align_items\"},{\"default\":\"row\",\"kind\":null,\"name\":\"flex_direction\"},{\"default\":\"wrap\",\"kind\":null,\"name\":\"flex_wrap\"},{\"default\":\"flex-start\",\"kind\":null,\"name\":\"justify_content\"}]},{\"extends\":null,\"module\":null,\"name\":\"GridStack1\",\"overrides\":[],\"properties\":[{\"default\":\"warn\",\"kind\":null,\"name\":\"mode\"},{\"default\":null,\"kind\":null,\"name\":\"ncols\"},{\"default\":null,\"kind\":null,\"name\":\"nrows\"},{\"default\":true,\"kind\":null,\"name\":\"allow_resize\"},{\"default\":true,\"kind\":null,\"name\":\"allow_drag\"},{\"default\":[],\"kind\":null,\"name\":\"state\"}]},{\"extends\":null,\"module\":null,\"name\":\"click1\",\"overrides\":[],\"properties\":[{\"default\":\"\",\"kind\":null,\"name\":\"terminal_output\"},{\"default\":\"\",\"kind\":null,\"name\":\"debug_name\"},{\"default\":0,\"kind\":null,\"name\":\"clears\"}]},{\"extends\":null,\"module\":null,\"name\":\"TemplateActions1\",\"overrides\":[],\"properties\":[{\"default\":0,\"kind\":null,\"name\":\"open_modal\"},{\"default\":0,\"kind\":null,\"name\":\"close_modal\"}]},{\"extends\":null,\"module\":null,\"name\":\"MaterialTemplateActions1\",\"overrides\":[],\"properties\":[{\"default\":0,\"kind\":null,\"name\":\"open_modal\"},{\"default\":0,\"kind\":null,\"name\":\"close_modal\"}]}],\"roots\":{\"references\":[{\"attributes\":{\"angle\":{\"value\":0.0},\"fill_alpha\":{\"value\":1.0},\"fill_color\":{\"value\":\"#30a2da\"},\"hatch_alpha\":{\"value\":1.0},\"hatch_color\":{\"value\":\"#30a2da\"},\"hatch_scale\":{\"value\":12.0},\"hatch_weight\":{\"value\":1.0},\"line_alpha\":{\"value\":1.0},\"line_cap\":{\"value\":\"butt\"},\"line_color\":{\"value\":\"#30a2da\"},\"line_dash\":{\"value\":[]},\"line_dash_offset\":{\"value\":0},\"line_join\":{\"value\":\"bevel\"},\"line_width\":{\"value\":1},\"marker\":{\"value\":\"circle\"},\"size\":{\"value\":5.477225575051661},\"x\":{\"field\":\"TotalCoinsMined\"},\"y\":{\"field\":\"TotalCoinSupply\"}},\"id\":\"1771\",\"type\":\"Scatter\"},{\"attributes\":{\"data\":{\"Class\":[1,1,1,1,1,1,1,1,1,1,1,1,1,1,1,1,1,1,1,1,1,1,1,1,1,1,1,1,1,1,1,1,1,1,1,1,1,1,1,1,1,1,1,1,1,1,1,1,1,1,1,1,1,1,1,1,1,1,1,1,1,1,1,1,1,1,1,1,1,1,1,1,1,1,1,1,1,1,1,1,1,1,1,1,1,1,1,1,1,1,1,1,1,1,1,1,1,1,1,1,1,1,1,1,1,1,1,1,1,1,1,1,1,1,1,1,1,1,1,1,1,1,1,1,1,1,1,1,1,1,1,1,1,1,1,1,1,1,1,1,1,1,1,1,1,1,1,1,1,1,1,1,1,1,1,1,1,1,1,1,1,1,1,1,1,1,1,1,1,1,1,1,1,1,1,1,1,1,1,1,1,1,1,1,1,1,1,1,1,1,1,1,1,1,1,1,1,1,1,1,1,1,1,1,1,1,1,1,1,1,1,1,1,1,1,1,1,1,1,1,1,1,1,1,1,1,1,1,1,1,1,1,1,1,1,1,1,1,1],\"CoinName\":[\"Bitcoin\",\"Ethereum\",\"Litecoin\",\"Monero\",\"Ethereum Classic\",\"ZCash\",\"DigiByte\",\"ProsperCoin\",\"Spreadcoin\",\"Argentum\",\"MyriadCoin\",\"MoonCoin\",\"ZetaCoin\",\"SexCoin\",\"Quatloo\",\"QuarkCoin\",\"Riecoin\",\"Digitalcoin \",\"Catcoin\",\"CannaCoin\",\"CryptCoin\",\"Verge\",\"DevCoin\",\"EarthCoin\",\"E-Gulden\",\"Einsteinium\",\"Emerald\",\"Franko\",\"FeatherCoin\",\"GrandCoin\",\"GlobalCoin\",\"GoldCoin\",\"Infinite Coin\",\"IXcoin\",\"KrugerCoin\",\"LuckyCoin\",\"Litebar \",\"MegaCoin\",\"MediterraneanCoin\",\"MinCoin\",\"NobleCoin\",\"Namecoin\",\"NyanCoin\",\"RonPaulCoin\",\"StableCoin\",\"SmartCoin\",\"SysCoin\",\"TigerCoin\",\"TerraCoin\",\"UnbreakableCoin\",\"Unobtanium\",\"UroCoin\",\"ViaCoin\",\"Vertcoin\",\"WorldCoin\",\"JouleCoin\",\"ByteCoin\",\"DigitalNote \",\"MonaCoin\",\"Gulden\",\"PesetaCoin\",\"Wild Beast Coin\",\"Flo\",\"ArtByte\",\"Folding Coin\",\"Unitus\",\"CypherPunkCoin\",\"OmniCron\",\"GreenCoin\",\"Cryptonite\",\"MasterCoin\",\"SoonCoin\",\"1Credit\",\"MarsCoin \",\"Crypto\",\"Anarchists Prime\",\"BowsCoin\",\"Song Coin\",\"BitZeny\",\"Expanse\",\"Siacoin\",\"MindCoin\",\"I0coin\",\"Revolution VR\",\"HOdlcoin\",\"Gamecredits\",\"CarpeDiemCoin\",\"Adzcoin\",\"SoilCoin\",\"YoCoin\",\"SibCoin\",\"Francs\",\"BolivarCoin\",\"Omni\",\"PizzaCoin\",\"Komodo\",\"Karbo\",\"ZayedCoin\",\"Circuits of Value\",\"DopeCoin\",\"DollarCoin\",\"Shilling\",\"ZCoin\",\"Elementrem\",\"ZClassic\",\"KiloCoin\",\"ArtexCoin\",\"Kurrent\",\"Cannabis Industry Coin\",\"OsmiumCoin\",\"Bikercoins\",\"HexxCoin\",\"PacCoin\",\"Citadel\",\"BeaverCoin\",\"VaultCoin\",\"Zero\",\"Canada eCoin\",\"Zoin\",\"DubaiCoin\",\"EB3coin\",\"Coinonat\",\"BenjiRolls\",\"ILCoin\",\"EquiTrader\",\"Quantum Resistant Ledger\",\"Dynamic\",\"Nano\",\"ChanCoin\",\"Dinastycoin\",\"DigitalPrice\",\"Unify\",\"SocialCoin\",\"ArcticCoin\",\"DAS\",\"LeviarCoin\",\"Bitcore\",\"gCn Coin\",\"SmartCash\",\"Onix\",\"Bitcoin Cash\",\"Sojourn Coin\",\"NewYorkCoin\",\"FrazCoin\",\"Kronecoin\",\"AdCoin\",\"Linx\",\"Sumokoin\",\"BitcoinZ\",\"Elements\",\"VIVO Coin\",\"Bitcoin Gold\",\"Pirl\",\"eBoost\",\"Pura\",\"Innova\",\"Ellaism\",\"GoByte\",\"SHIELD\",\"UltraNote\",\"BitCoal\",\"DaxxCoin\",\"AC3\",\"Lethean\",\"PopularCoin\",\"Photon\",\"Sucre\",\"SparksPay\",\"GunCoin\",\"IrishCoin\",\"Pioneer Coin\",\"UnitedBitcoin\",\"Interzone\",\"TurtleCoin\",\"MUNcoin\",\"Niobio Cash\",\"ShareChain\",\"Travelflex\",\"KREDS\",\"BitFlip\",\"LottoCoin\",\"Crypto Improvement Fund\",\"Callisto Network\",\"BitTube\",\"Poseidon\",\"Aidos Kuneen\",\"Bitrolium\",\"Alpenschillling\",\"FuturoCoin\",\"Monero Classic\",\"Jumpcoin\",\"Infinex\",\"KEYCO\",\"GINcoin\",\"PlatinCoin\",\"Loki\",\"Newton Coin\",\"MassGrid\",\"PluraCoin\",\"Motion\",\"PlusOneCoin\",\"Axe\",\"HexCoin\",\"Webchain\",\"Ryo\",\"Urals Coin\",\"Qwertycoin\",\"Project Pai\",\"Azart\",\"Xchange\",\"CrypticCoin\",\"Actinium\",\"Bitcoin SV\",\"FREDEnergy\",\"Universal Molecule\",\"Lithium\",\"PirateCash\",\"Exosis\",\"Block-Logic\",\"Beam\",\"Bithereum\",\"SLICE\",\"BLAST\",\"Bitcoin Rhodium\",\"GlobalToken\",\"SolarCoin\",\"UFO Coin\",\"BlakeCoin\",\"Crypto Escudo\",\"Crown Coin\",\"SmileyCoin\",\"Groestlcoin\",\"Bata\",\"Pakcoin\",\"JoinCoin\",\"Vollar\",\"Reality Clash\",\"Beldex\",\"Horizen\"],\"TotalCoinSupply\":{\"__ndarray__\":\"AAAAAPQGdEEAAAAAAAAAAAAAAAD0BpRBAAAAAAAAAAAAAAAAsQipQQAAAAD0BnRBAAAASMqOE0IAAAAA9AZ0QQAAAADQEnNBAAAAAICEjkEAAAAAZc3dQQAAAMALWlZCAAAACMA9pEEAAAAAZc2tQQAAAACE15dBAAAAgNdxrUEAAAAA9AaUQQAAAICj94ZBAAAAAPQGdEEAAAAABBBpQQAAAACIKnFBAAAABgrWDkIAAABIyo4TQgAAADhNJQlCAAAAAPQGdEEAAABKeN6xQQAAAACAhH5BAAAAoDxuZUEAAAAA9Aa0QQAAgBMyK9VBAAAAAHawkEEAAAAQhzmRQQAAAEouGDVCAAAAAPQGdEEAAAAAAKSvQQAAAADQEnNBAAAAAHCZNEEAAAAA9AaEQQAAAACE16dBAAAAANASY0EAAACwjvALQgAAAAD0BnRBAAAAQDYWtEEAAAAA9AZ0QQAAAABlza1BAAAAAABqiEEAAAAA53bKQQAAAADEaoZBAAAAAPQGhEEAAAAA0BKTQQAAAACAhA5BAAAAAAAAAAAAAAAAPO91QQAAAAD0BpRBAAAAAACkr0EAAAAAKnWFQQCAL+KOeUVCAAAAIF+gAkIAAAAABBCZQQAAAACxCNlBAAAAoLLVo0EAAAAA0AxEQQAAAADQEqNBAAAAAGXNzUEAAAAAZc3NQQAAAAAAAAAAAAAAAAAAAAAAAACApLhJQQAAACBfoAJCAAAAAAtr20EAAAAArOciQQAAAAD0BnRBAAAAmKBrNUIAAAAApHh/QQAAAGDlXo9BAAAAAICiiUEAAAAA9AZ0QQAAAAAEEKlBAAAAAGXNrUEAAADQiR9wQQAAAAAAAAAAAAAAAICEbkEAAAAA9AZ0QQAAAACxCKlBAAAA0JGKk0EAAAAA9AaUQQAAAGEbJBRCAAAAAPQGlEEAAAAAOJx8QQAAAIisEaRBAAAAAGDjdkEAAAAA0BJzQQAAAACE13dBAAAAAADQIkEAAAAAhNd3QQAAAACE16dBAAAAANASY0EAAAAA6JFiQQAAAACj4dFBAAAAAITXp0EAAABAe0pkQQAAAAA4nHxBAAAAAJxodEEAAAAw1v14QQAAAAD0BnRBAAAAIF+gAkIAAAAAZc29QQAAAAACLqtBAAAAAPQGdEEAAAAAV7VEQQAAAACE13dBAAAA4M8SY0EAAADodkg3QgAAAIDADaZBAAAAAICiSUEAAAAAZc3NQQAAAABkNnBBAAAAAITXl0EAAAAA9AZ0QQAAAIAiCUFBAAAAAGXN7UEAAAAAIwKHQQAAAID874BBAAAAIF+g4kEAAAAAiCqRQQAAAACxCJlBAAAAAAAAAAAAAAD/S0i0QQAAAAA4nHxBAAAAAGXN3UEAAAAAhNeXQQAAAABAYnJBAAAAAKPhkUEAAAAAOJyMQQAAAABCBnJBAAAAAMy/iUEAAAAA9AZ0QQAAAOh2SEdCAAAAIF+g8kEAAADAKmTQQQAAAAD0BnRBAAAASMqOA0IAAAAAAAAAAAAAAADQEnNBAAAAAPQGlEEAAAAAhNeXQQAAAACE15dBAAAA4FgxlUEAAABIyo4TQgAAAIB00tpBAAAAAMy/eUEAAAAA9AZ0QR+Fa1kaoqJBAAAAAITXl0EAAACAk9y0QQAAAAAqdYVBAAAAAHawsEEAAAAArFN+QQAAAIBmq8NBAAAAEmXKM0IAAAAAhNdnQQAAACBfoAJCAAAAwCpkwEEAAABWcMnNQQAA8B9foPJBAAAABGv0NEIAAAAA/OFyQQAAAAD0BnRBAAAAAGXNvUEAAAAAgISOQQAAAAA873VBAAAAAFc7c0EAAAAAPO91QQAAAKKUGm1CAAAAAHipb0EAAAAA9Aa0QQAAACBfoAJCAAAAAITXl0EAAADAKmTQQQAAAADQEoNBAAAA5JAkEUIAAAAAZc29QQAAABDiNvhBAAAAAGXNzUEAAAAA9AZ0QQAAAACE13dBAAAAAHawkEEAAAAAo+GxQQAAAACE15dBAAAAADCMcUEAAAAA9AZ0QQAAAAAEEHlBAAAAAIgqcUEAAAAA9AZkQQAAAAOk4cFBAAAAAKPhoUEAAACYoGtFQgAAAAD0BqRBAAAAAGXNzUEAAABAkw11QQAAAAD0BnRBAAAAAPQGdEEAAADwyhR1QQAAAGC4E9pBAAAAYJ8GlUEAAAAAsQipQQAAwGiieUVCAAAAQN1K30EAAAAAhNd3QQAAAACE15dBAAAAwOxP/EEAAAAA9AaUQQAAAAD0BnRBAAAAQLAZ/kFcj8IFBBCZQQAAAABgD3hBAAAAALEImUEAAAAA9AZ0QQAAAAA4nJxBAAAAAAVUr0EAAAAAh3R9QQAAAACE15dBAAAAAICEjkEAAAAAkAVAQQAAAAD0BqRBAAAANTfXNkIAAAAAZc3tQQAAAGC4E/pBAAAAAGXNzUEAAAAA9AaEQQAAAOh2SCdCAAAAALEImUEAAAAA0BJTQQAAAAAzsqVBAAAAAMBcRUEAAABA3UrfQQAAAICAWndBAACA5Gzd1EEAAAAA9AZ0QQ==\",\"dtype\":\"float64\",\"order\":\"little\",\"shape\":[239]},\"TotalCoinsMined\":{\"__ndarray__\":\"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\",\"dtype\":\"float64\",\"order\":\"little\",\"shape\":[239]}},\"selected\":{\"id\":\"1773\"},\"selection_policy\":{\"id\":\"1789\"}},\"id\":\"1772\",\"type\":\"ColumnDataSource\"},{\"attributes\":{},\"id\":\"1732\",\"type\":\"SaveTool\"},{\"attributes\":{},\"id\":\"1733\",\"type\":\"PanTool\"},{\"attributes\":{\"click_policy\":\"mute\",\"coordinates\":null,\"group\":null,\"items\":[{\"id\":\"1770\"},{\"id\":\"1792\"},{\"id\":\"1816\"},{\"id\":\"1842\"}],\"location\":[0,0],\"title\":\"Class\"},\"id\":\"1769\",\"type\":\"Legend\"},{\"attributes\":{\"fill_color\":{\"value\":\"#e5ae38\"},\"hatch_color\":{\"value\":\"#e5ae38\"},\"line_color\":{\"value\":\"#e5ae38\"},\"size\":{\"value\":5.477225575051661},\"x\":{\"field\":\"TotalCoinsMined\"},\"y\":{\"field\":\"TotalCoinSupply\"}},\"id\":\"1797\",\"type\":\"Scatter\"},{\"attributes\":{},\"id\":\"1736\",\"type\":\"ResetTool\"},{\"attributes\":{\"label\":{\"value\":\"1\"},\"renderers\":[{\"id\":\"1778\"}]},\"id\":\"1792\",\"type\":\"LegendItem\"},{\"attributes\":{},\"id\":\"1734\",\"type\":\"WheelZoomTool\"},{\"attributes\":{\"callback\":null,\"renderers\":[{\"id\":\"1757\"},{\"id\":\"1778\"},{\"id\":\"1800\"},{\"id\":\"1824\"}],\"tags\":[\"hv_created\"],\"tooltips\":[[\"Class\",\"@{Class}\"],[\"TotalCoinsMined\",\"@{TotalCoinsMined}\"],[\"TotalCoinSupply\",\"@{TotalCoinSupply}\"],[\"CoinName\",\"@{CoinName}\"]]},\"id\":\"1711\",\"type\":\"HoverTool\"},{\"attributes\":{\"end\":1100000000000.0,\"reset_end\":1100000000000.0,\"reset_start\":-100000000000.0,\"start\":-100000000000.0,\"tags\":[[[\"TotalCoinSupply\",\"TotalCoinSupply\",null]]]},\"id\":\"1710\",\"type\":\"Range1d\"},{\"attributes\":{\"source\":{\"id\":\"1751\"}},\"id\":\"1758\",\"type\":\"CDSView\"},{\"attributes\":{\"overlay\":{\"id\":\"1737\"}},\"id\":\"1735\",\"type\":\"BoxZoomTool\"},{\"attributes\":{},\"id\":\"1813\",\"type\":\"UnionRenderers\"},{\"attributes\":{\"data\":{\"Class\":[3,3,3,3],\"CoinName\":[\"Vechain\",\"BiblePay\",\"LitecoinCash\",\"Poa Network\"],\"TotalCoinSupply\":{\"__ndarray__\":\"AABizHkwNEIAAABAG1/zQQAAAACxCMlBAAAAAH4YrkE=\",\"dtype\":\"float64\",\"order\":\"little\",\"shape\":[4]},\"TotalCoinsMined\":{\"__ndarray__\":\"AACgM7jSKULx13gn/mfaQZawGn54BsNBAAAAfjRgqEE=\",\"dtype\":\"float64\",\"order\":\"little\",\"shape\":[4]}},\"selected\":{\"id\":\"1819\"},\"selection_policy\":{\"id\":\"1839\"}},\"id\":\"1818\",\"type\":\"ColumnDataSource\"},{\"attributes\":{},\"id\":\"1766\",\"type\":\"UnionRenderers\"},{\"attributes\":{},\"id\":\"1750\",\"type\":\"AllLabels\"},{\"attributes\":{},\"id\":\"1749\",\"type\":\"BasicTickFormatter\"},{\"attributes\":{\"tools\":[{\"id\":\"1711\"},{\"id\":\"1732\"},{\"id\":\"1733\"},{\"id\":\"1734\"},{\"id\":\"1735\"},{\"id\":\"1736\"}]},\"id\":\"1738\",\"type\":\"Toolbar\"},{\"attributes\":{\"fill_alpha\":{\"value\":0.1},\"fill_color\":{\"value\":\"#30a2da\"},\"hatch_alpha\":{\"value\":0.1},\"hatch_color\":{\"value\":\"#30a2da\"},\"line_alpha\":{\"value\":0.1},\"line_color\":{\"value\":\"#30a2da\"},\"size\":{\"value\":5.477225575051661},\"x\":{\"field\":\"TotalCoinsMined\"},\"y\":{\"field\":\"TotalCoinSupply\"}},\"id\":\"1755\",\"type\":\"Scatter\"},{\"attributes\":{\"end\":1032416801156.6912,\"reset_end\":1032416801156.6912,\"reset_start\":-42428087675.042145,\"start\":-42428087675.042145,\"tags\":[[[\"TotalCoinsMined\",\"TotalCoinsMined\",null]]]},\"id\":\"1709\",\"type\":\"Range1d\"},{\"attributes\":{\"data\":{\"Class\":[0,0,0,0,0,0,0,0,0,0,0,0,0,0,0,0,0,0,0,0,0,0,0,0,0,0,0,0,0,0,0,0,0,0,0,0,0,0,0,0,0,0,0,0,0,0,0,0,0,0,0,0,0,0,0,0,0,0,0,0,0,0,0,0,0,0,0,0,0,0,0,0,0,0,0,0,0,0,0,0,0,0,0,0,0,0,0,0,0,0,0,0,0,0,0,0,0,0,0,0,0,0,0,0,0,0,0,0,0,0,0,0,0,0,0,0,0,0,0,0,0,0,0,0,0,0,0,0,0,0,0,0,0,0,0,0,0,0,0,0,0,0,0,0,0,0,0,0,0,0,0,0,0,0,0,0,0,0,0,0,0,0,0,0,0,0,0,0,0,0,0,0,0,0,0,0,0,0,0,0,0,0,0,0,0,0,0,0,0,0,0,0,0,0,0,0,0,0,0,0,0,0,0,0,0,0,0,0,0,0,0,0,0,0,0,0,0,0,0,0,0,0,0,0,0,0,0,0,0,0,0,0,0,0,0,0,0,0,0,0,0,0,0,0,0,0,0,0,0,0,0,0,0,0,0,0,0,0,0,0,0,0,0,0,0,0,0,0,0,0,0,0,0,0,0,0,0,0,0,0,0,0,0,0,0,0,0,0],\"CoinName\":[\"42 Coin\",\"404Coin\",\"EliteCoin\",\"Dash\",\"Bitshares\",\"BitcoinDark\",\"PayCoin\",\"KoboCoin\",\"Aurora Coin\",\"BlueCoin\",\"EnergyCoin\",\"BitBar\",\"CryptoBullion\",\"CasinoCoin\",\"Diamond\",\"Exclusive Coin\",\"FlutterCoin\",\"HoboNickels\",\"HyperStake\",\"IOCoin\",\"MaxCoin\",\"MintCoin\",\"MazaCoin\",\"Nautilus Coin\",\"NavCoin\",\"OpalCoin\",\"Orbitcoin\",\"PotCoin\",\"PhoenixCoin\",\"Reddcoin\",\"SuperCoin\",\"SyncCoin\",\"TeslaCoin\",\"TittieCoin\",\"TorCoin\",\"UnitaryStatus Dollar\",\"UltraCoin\",\"VeriCoin\",\"X11 Coin\",\"Crypti\",\"StealthCoin\",\"ZCC Coin\",\"BurstCoin\",\"StorjCoin\",\"Neutron\",\"FairCoin\",\"RubyCoin\",\"Kore\",\"Dnotes\",\"8BIT Coin\",\"Sativa Coin\",\"Ucoin\",\"Vtorrent\",\"IslaCoin\",\"Nexus\",\"Droidz\",\"Squall Coin\",\"Diggits\",\"Paycon\",\"Emercoin\",\"EverGreenCoin\",\"Decred\",\"EDRCoin\",\"Hitcoin\",\"DubaiCoin\",\"PWR Coin\",\"BillaryCoin\",\"GPU Coin\",\"EuropeCoin\",\"ZeitCoin\",\"SwingCoin\",\"SafeExchangeCoin\",\"Nebuchadnezzar\",\"Ratecoin\",\"Revenu\",\"Clockcoin\",\"VIP Tokens\",\"BitSend\",\"Let it Ride\",\"PutinCoin\",\"iBankCoin\",\"Frankywillcoin\",\"MudraCoin\",\"Lutetium Coin\",\"GoldBlocks\",\"CarterCoin\",\"BitTokens\",\"MustangCoin\",\"ZoneCoin\",\"RootCoin\",\"BitCurrency\",\"Swiscoin\",\"BuzzCoin\",\"Opair\",\"PesoBit\",\"Halloween Coin\",\"CoffeeCoin\",\"RoyalCoin\",\"GanjaCoin V2\",\"TeamUP\",\"LanaCoin\",\"ARK\",\"InsaneCoin\",\"EmberCoin\",\"XenixCoin\",\"FreeCoin\",\"PLNCoin\",\"AquariusCoin\",\"Creatio\",\"Eternity\",\"Eurocoin\",\"BitcoinFast\",\"Stakenet\",\"BitConnect Coin\",\"MoneyCoin\",\"Enigma\",\"Russiacoin\",\"PandaCoin\",\"GameUnits\",\"GAKHcoin\",\"Allsafe\",\"LiteCreed\",\"Klingon Empire Darsek\",\"Internet of People\",\"KushCoin\",\"Printerium\",\"Impeach\",\"Zilbercoin\",\"FirstCoin\",\"FindCoin\",\"OpenChat\",\"RenosCoin\",\"VirtacoinPlus\",\"TajCoin\",\"Impact\",\"Atmos\",\"HappyCoin\",\"MacronCoin\",\"Condensate\",\"Independent Money System\",\"ArgusCoin\",\"LomoCoin\",\"ProCurrency\",\"GoldReserve\",\"GrowthCoin\",\"Phreak\",\"Degas Coin\",\"HTML5 Coin\",\"Ultimate Secure Cash\",\"QTUM\",\"Espers\",\"Denarius\",\"Virta Unique Coin\",\"Bitcoin Planet\",\"BritCoin\",\"Linda\",\"DeepOnion\",\"Signatum\",\"Cream\",\"Monoeci\",\"Draftcoin\",\"Stakecoin\",\"CoinonatX\",\"Ethereum Dark\",\"Obsidian\",\"Cardano\",\"Regalcoin\",\"TrezarCoin\",\"TerraNovaCoin\",\"Rupee\",\"WomenCoin\",\"Theresa May Coin\",\"NamoCoin\",\"LUXCoin\",\"Xios\",\"Bitcloud 2.0\",\"KekCoin\",\"BlackholeCoin\",\"Infinity Economics\",\"Magnet\",\"Lamden Tau\",\"Electra\",\"Bitcoin Diamond\",\"Cash & Back Coin\",\"Bulwark\",\"Kalkulus\",\"GermanCoin\",\"LiteCoin Ultra\",\"PhantomX\",\"Digiwage\",\"Trollcoin\",\"Litecoin Plus\",\"Monkey Project\",\"TokenPay\",\"1717 Masonic Commemorative Token\",\"My Big Coin\",\"Unified Society USDEX\",\"Tokyo Coin\",\"Stipend\",\"Pushi\",\"Ellerium\",\"Velox\",\"Ontology\",\"Bitspace\",\"Briacoin\",\"Ignition\",\"MedicCoin\",\"Bitcoin Green\",\"Deviant Coin\",\"Abjcoin\",\"Semux\",\"Carebit\",\"Zealium\",\"Proton\",\"iDealCash\",\"Bitcoin Incognito\",\"HollyWoodCoin\",\"Swisscoin\",\"Xt3ch\",\"TheVig\",\"EmaratCoin\",\"Dekado\",\"Lynx\",\"Poseidon Quark\",\"BitcoinWSpectrum\",\"Muse\",\"Trivechain\",\"Dystem\",\"Giant\",\"Peony Coin\",\"Absolute Coin\",\"Vitae\",\"TPCash\",\"ARENON\",\"EUNO\",\"MMOCoin\",\"Ketan\",\"XDNA\",\"PAXEX\",\"ThunderStake\",\"Kcash\",\"Acute Angle Cloud\",\"Bettex coin\",\"BitMoney\",\"Junson Ming Chan Coin\",\"HerbCoin\",\"Oduwa\",\"Galilel\",\"Crypto Sports\",\"Credit\",\"Dash Platinum\",\"Nasdacoin\",\"Beetle Coin\",\"Titan Coin\",\"Award\",\"Insane Coin\",\"ALAX\",\"LiteDoge\",\"TruckCoin\",\"OrangeCoin\",\"BitstarCoin\",\"NeosCoin\",\"HyperCoin\",\"PinkCoin\",\"AudioCoin\",\"IncaKoin\",\"Piggy Coin\",\"Genstake\",\"XiaoMiCoin\",\"CapriCoin\",\" ClubCoin\",\"Radium\",\"Creditbit \",\"OKCash\",\"Lisk\",\"HiCoin\",\"WhiteCoin\",\"FriendshipCoin\",\"Triangles Coin\",\"EOS\",\"Oxycoin\",\"TigerCash\",\"Waves\",\"Particl\",\"Nxt\",\"ZEPHYR\",\"Gapcoin\",\"BitcoinPlus\"],\"TotalCoinSupply\":{\"__ndarray__\":\"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\",\"dtype\":\"float64\",\"order\":\"little\",\"shape\":[288]},\"TotalCoinsMined\":{\"__ndarray__\":\"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\",\"dtype\":\"float64\",\"order\":\"little\",\"shape\":[288]}},\"selected\":{\"id\":\"1752\"},\"selection_policy\":{\"id\":\"1766\"}},\"id\":\"1751\",\"type\":\"ColumnDataSource\"},{\"attributes\":{\"label\":{\"value\":\"0\"},\"renderers\":[{\"id\":\"1757\"}]},\"id\":\"1770\",\"type\":\"LegendItem\"},{\"attributes\":{\"fill_color\":{\"value\":\"#6d904f\"},\"hatch_color\":{\"value\":\"#6d904f\"},\"line_color\":{\"value\":\"#6d904f\"},\"size\":{\"value\":5.477225575051661},\"x\":{\"field\":\"TotalCoinsMined\"},\"y\":{\"field\":\"TotalCoinSupply\"}},\"id\":\"1821\",\"type\":\"Scatter\"},{\"attributes\":{},\"id\":\"1773\",\"type\":\"Selection\"},{\"attributes\":{\"bottom_units\":\"screen\",\"coordinates\":null,\"fill_alpha\":0.5,\"fill_color\":\"lightgrey\",\"group\":null,\"left_units\":\"screen\",\"level\":\"overlay\",\"line_alpha\":1.0,\"line_color\":\"black\",\"line_dash\":[4,4],\"line_width\":2,\"right_units\":\"screen\",\"syncable\":false,\"top_units\":\"screen\"},\"id\":\"1737\",\"type\":\"BoxAnnotation\"},{\"attributes\":{\"children\":[{\"id\":\"1708\"},{\"id\":\"1715\"},{\"id\":\"1988\"}],\"margin\":[0,0,0,0],\"name\":\"Row03064\",\"tags\":[\"embedded\"]},\"id\":\"1707\",\"type\":\"Row\"},{\"attributes\":{\"fill_alpha\":{\"value\":0.2},\"fill_color\":{\"value\":\"#fc4f30\"},\"hatch_alpha\":{\"value\":0.2},\"hatch_color\":{\"value\":\"#fc4f30\"},\"line_alpha\":{\"value\":0.2},\"line_color\":{\"value\":\"#fc4f30\"},\"size\":{\"value\":5.477225575051661},\"x\":{\"field\":\"TotalCoinsMined\"},\"y\":{\"field\":\"TotalCoinSupply\"}},\"id\":\"1777\",\"type\":\"Scatter\"},{\"attributes\":{},\"id\":\"1725\",\"type\":\"BasicTicker\"},{\"attributes\":{\"coordinates\":null,\"data_source\":{\"id\":\"1751\"},\"glyph\":{\"id\":\"1754\"},\"group\":null,\"hover_glyph\":null,\"muted_glyph\":{\"id\":\"1756\"},\"nonselection_glyph\":{\"id\":\"1755\"},\"selection_glyph\":{\"id\":\"1771\"},\"view\":{\"id\":\"1758\"}},\"id\":\"1757\",\"type\":\"GlyphRenderer\"},{\"attributes\":{\"margin\":[5,5,5,5],\"name\":\"HSpacer03068\",\"sizing_mode\":\"stretch_width\"},\"id\":\"1708\",\"type\":\"Spacer\"},{\"attributes\":{\"coordinates\":null,\"data_source\":{\"id\":\"1772\"},\"glyph\":{\"id\":\"1775\"},\"group\":null,\"hover_glyph\":null,\"muted_glyph\":{\"id\":\"1777\"},\"nonselection_glyph\":{\"id\":\"1776\"},\"selection_glyph\":{\"id\":\"1793\"},\"view\":{\"id\":\"1779\"}},\"id\":\"1778\",\"type\":\"GlyphRenderer\"},{\"attributes\":{\"source\":{\"id\":\"1794\"}},\"id\":\"1801\",\"type\":\"CDSView\"},{\"attributes\":{\"fill_alpha\":{\"value\":0.2},\"fill_color\":{\"value\":\"#30a2da\"},\"hatch_alpha\":{\"value\":0.2},\"hatch_color\":{\"value\":\"#30a2da\"},\"line_alpha\":{\"value\":0.2},\"line_color\":{\"value\":\"#30a2da\"},\"size\":{\"value\":5.477225575051661},\"x\":{\"field\":\"TotalCoinsMined\"},\"y\":{\"field\":\"TotalCoinSupply\"}},\"id\":\"1756\",\"type\":\"Scatter\"},{\"attributes\":{\"fill_alpha\":{\"value\":0.1},\"fill_color\":{\"value\":\"#fc4f30\"},\"hatch_alpha\":{\"value\":0.1},\"hatch_color\":{\"value\":\"#fc4f30\"},\"line_alpha\":{\"value\":0.1},\"line_color\":{\"value\":\"#fc4f30\"},\"size\":{\"value\":5.477225575051661},\"x\":{\"field\":\"TotalCoinsMined\"},\"y\":{\"field\":\"TotalCoinSupply\"}},\"id\":\"1776\",\"type\":\"Scatter\"},{\"attributes\":{\"source\":{\"id\":\"1772\"}},\"id\":\"1779\",\"type\":\"CDSView\"},{\"attributes\":{},\"id\":\"1789\",\"type\":\"UnionRenderers\"},{\"attributes\":{\"below\":[{\"id\":\"1724\"}],\"center\":[{\"id\":\"1727\"},{\"id\":\"1731\"}],\"height\":300,\"left\":[{\"id\":\"1728\"}],\"margin\":[5,5,5,5],\"min_border_bottom\":10,\"min_border_left\":10,\"min_border_right\":10,\"min_border_top\":10,\"renderers\":[{\"id\":\"1757\"},{\"id\":\"1778\"},{\"id\":\"1800\"},{\"id\":\"1824\"}],\"right\":[{\"id\":\"1769\"}],\"sizing_mode\":\"fixed\",\"title\":{\"id\":\"1716\"},\"toolbar\":{\"id\":\"1738\"},\"width\":700,\"x_range\":{\"id\":\"1709\"},\"x_scale\":{\"id\":\"1720\"},\"y_range\":{\"id\":\"1710\"},\"y_scale\":{\"id\":\"1722\"}},\"id\":\"1715\",\"subtype\":\"Figure\",\"type\":\"Plot\"},{\"attributes\":{\"coordinates\":null,\"data_source\":{\"id\":\"1794\"},\"glyph\":{\"id\":\"1797\"},\"group\":null,\"hover_glyph\":null,\"muted_glyph\":{\"id\":\"1799\"},\"nonselection_glyph\":{\"id\":\"1798\"},\"selection_glyph\":{\"id\":\"1817\"},\"view\":{\"id\":\"1801\"}},\"id\":\"1800\",\"type\":\"GlyphRenderer\"},{\"attributes\":{\"margin\":[5,5,5,5],\"name\":\"HSpacer03069\",\"sizing_mode\":\"stretch_width\"},\"id\":\"1988\",\"type\":\"Spacer\"},{\"attributes\":{},\"id\":\"1729\",\"type\":\"BasicTicker\"},{\"attributes\":{},\"id\":\"1720\",\"type\":\"LinearScale\"},{\"attributes\":{},\"id\":\"1747\",\"type\":\"AllLabels\"},{\"attributes\":{\"coordinates\":null,\"group\":null,\"text_color\":\"black\",\"text_font_size\":\"12pt\"},\"id\":\"1716\",\"type\":\"Title\"},{\"attributes\":{\"axis\":{\"id\":\"1724\"},\"coordinates\":null,\"grid_line_color\":null,\"group\":null,\"ticker\":null},\"id\":\"1727\",\"type\":\"Grid\"},{\"attributes\":{\"fill_alpha\":{\"value\":0.1},\"fill_color\":{\"value\":\"#e5ae38\"},\"hatch_alpha\":{\"value\":0.1},\"hatch_color\":{\"value\":\"#e5ae38\"},\"line_alpha\":{\"value\":0.1},\"line_color\":{\"value\":\"#e5ae38\"},\"size\":{\"value\":5.477225575051661},\"x\":{\"field\":\"TotalCoinsMined\"},\"y\":{\"field\":\"TotalCoinSupply\"}},\"id\":\"1798\",\"type\":\"Scatter\"},{\"attributes\":{\"label\":{\"value\":\"2\"},\"renderers\":[{\"id\":\"1800\"}]},\"id\":\"1816\",\"type\":\"LegendItem\"},{\"attributes\":{\"coordinates\":null,\"data_source\":{\"id\":\"1818\"},\"glyph\":{\"id\":\"1821\"},\"group\":null,\"hover_glyph\":null,\"muted_glyph\":{\"id\":\"1823\"},\"nonselection_glyph\":{\"id\":\"1822\"},\"selection_glyph\":{\"id\":\"1843\"},\"view\":{\"id\":\"1825\"}},\"id\":\"1824\",\"type\":\"GlyphRenderer\"},{\"attributes\":{\"label\":{\"value\":\"3\"},\"renderers\":[{\"id\":\"1824\"}]},\"id\":\"1842\",\"type\":\"LegendItem\"},{\"attributes\":{\"fill_alpha\":{\"value\":0.2},\"fill_color\":{\"value\":\"#e5ae38\"},\"hatch_alpha\":{\"value\":0.2},\"hatch_color\":{\"value\":\"#e5ae38\"},\"line_alpha\":{\"value\":0.2},\"line_color\":{\"value\":\"#e5ae38\"},\"size\":{\"value\":5.477225575051661},\"x\":{\"field\":\"TotalCoinsMined\"},\"y\":{\"field\":\"TotalCoinSupply\"}},\"id\":\"1799\",\"type\":\"Scatter\"},{\"attributes\":{},\"id\":\"1722\",\"type\":\"LinearScale\"},{\"attributes\":{\"angle\":{\"value\":0.0},\"fill_alpha\":{\"value\":1.0},\"fill_color\":{\"value\":\"#e5ae38\"},\"hatch_alpha\":{\"value\":1.0},\"hatch_color\":{\"value\":\"#e5ae38\"},\"hatch_scale\":{\"value\":12.0},\"hatch_weight\":{\"value\":1.0},\"line_alpha\":{\"value\":1.0},\"line_cap\":{\"value\":\"butt\"},\"line_color\":{\"value\":\"#e5ae38\"},\"line_dash\":{\"value\":[]},\"line_dash_offset\":{\"value\":0},\"line_join\":{\"value\":\"bevel\"},\"line_width\":{\"value\":1},\"marker\":{\"value\":\"circle\"},\"size\":{\"value\":5.477225575051661},\"x\":{\"field\":\"TotalCoinsMined\"},\"y\":{\"field\":\"TotalCoinSupply\"}},\"id\":\"1817\",\"type\":\"Scatter\"},{\"attributes\":{\"axis_label\":\"TotalCoinSupply\",\"coordinates\":null,\"formatter\":{\"id\":\"1749\"},\"group\":null,\"major_label_policy\":{\"id\":\"1750\"},\"ticker\":{\"id\":\"1729\"}},\"id\":\"1728\",\"type\":\"LinearAxis\"},{\"attributes\":{\"angle\":{\"value\":0.0},\"fill_alpha\":{\"value\":1.0},\"fill_color\":{\"value\":\"#fc4f30\"},\"hatch_alpha\":{\"value\":1.0},\"hatch_color\":{\"value\":\"#fc4f30\"},\"hatch_scale\":{\"value\":12.0},\"hatch_weight\":{\"value\":1.0},\"line_alpha\":{\"value\":1.0},\"line_cap\":{\"value\":\"butt\"},\"line_color\":{\"value\":\"#fc4f30\"},\"line_dash\":{\"value\":[]},\"line_dash_offset\":{\"value\":0},\"line_join\":{\"value\":\"bevel\"},\"line_width\":{\"value\":1},\"marker\":{\"value\":\"circle\"},\"size\":{\"value\":5.477225575051661},\"x\":{\"field\":\"TotalCoinsMined\"},\"y\":{\"field\":\"TotalCoinSupply\"}},\"id\":\"1793\",\"type\":\"Scatter\"},{\"attributes\":{\"fill_alpha\":{\"value\":0.1},\"fill_color\":{\"value\":\"#6d904f\"},\"hatch_alpha\":{\"value\":0.1},\"hatch_color\":{\"value\":\"#6d904f\"},\"line_alpha\":{\"value\":0.1},\"line_color\":{\"value\":\"#6d904f\"},\"size\":{\"value\":5.477225575051661},\"x\":{\"field\":\"TotalCoinsMined\"},\"y\":{\"field\":\"TotalCoinSupply\"}},\"id\":\"1822\",\"type\":\"Scatter\"},{\"attributes\":{},\"id\":\"1795\",\"type\":\"Selection\"},{\"attributes\":{\"axis_label\":\"TotalCoinsMined\",\"coordinates\":null,\"formatter\":{\"id\":\"1746\"},\"group\":null,\"major_label_policy\":{\"id\":\"1747\"},\"ticker\":{\"id\":\"1725\"}},\"id\":\"1724\",\"type\":\"LinearAxis\"},{\"attributes\":{},\"id\":\"1752\",\"type\":\"Selection\"},{\"attributes\":{\"angle\":{\"value\":0.0},\"fill_alpha\":{\"value\":1.0},\"fill_color\":{\"value\":\"#6d904f\"},\"hatch_alpha\":{\"value\":1.0},\"hatch_color\":{\"value\":\"#6d904f\"},\"hatch_scale\":{\"value\":12.0},\"hatch_weight\":{\"value\":1.0},\"line_alpha\":{\"value\":1.0},\"line_cap\":{\"value\":\"butt\"},\"line_color\":{\"value\":\"#6d904f\"},\"line_dash\":{\"value\":[]},\"line_dash_offset\":{\"value\":0},\"line_join\":{\"value\":\"bevel\"},\"line_width\":{\"value\":1},\"marker\":{\"value\":\"circle\"},\"size\":{\"value\":5.477225575051661},\"x\":{\"field\":\"TotalCoinsMined\"},\"y\":{\"field\":\"TotalCoinSupply\"}},\"id\":\"1843\",\"type\":\"Scatter\"},{\"attributes\":{\"fill_alpha\":{\"value\":0.2},\"fill_color\":{\"value\":\"#6d904f\"},\"hatch_alpha\":{\"value\":0.2},\"hatch_color\":{\"value\":\"#6d904f\"},\"line_alpha\":{\"value\":0.2},\"line_color\":{\"value\":\"#6d904f\"},\"size\":{\"value\":5.477225575051661},\"x\":{\"field\":\"TotalCoinsMined\"},\"y\":{\"field\":\"TotalCoinSupply\"}},\"id\":\"1823\",\"type\":\"Scatter\"},{\"attributes\":{\"axis\":{\"id\":\"1728\"},\"coordinates\":null,\"dimension\":1,\"grid_line_color\":null,\"group\":null,\"ticker\":null},\"id\":\"1731\",\"type\":\"Grid\"},{\"attributes\":{\"fill_color\":{\"value\":\"#fc4f30\"},\"hatch_color\":{\"value\":\"#fc4f30\"},\"line_color\":{\"value\":\"#fc4f30\"},\"size\":{\"value\":5.477225575051661},\"x\":{\"field\":\"TotalCoinsMined\"},\"y\":{\"field\":\"TotalCoinSupply\"}},\"id\":\"1775\",\"type\":\"Scatter\"},{\"attributes\":{},\"id\":\"1839\",\"type\":\"UnionRenderers\"},{\"attributes\":{\"source\":{\"id\":\"1818\"}},\"id\":\"1825\",\"type\":\"CDSView\"},{\"attributes\":{\"data\":{\"Class\":[2],\"CoinName\":[\"BitTorrent\"],\"TotalCoinSupply\":{\"__ndarray__\":\"AACAJRPQbEI=\",\"dtype\":\"float64\",\"order\":\"little\",\"shape\":[1]},\"TotalCoinsMined\":{\"__ndarray__\":\"xfR7nv3PbEI=\",\"dtype\":\"float64\",\"order\":\"little\",\"shape\":[1]}},\"selected\":{\"id\":\"1795\"},\"selection_policy\":{\"id\":\"1813\"}},\"id\":\"1794\",\"type\":\"ColumnDataSource\"},{\"attributes\":{},\"id\":\"1746\",\"type\":\"BasicTickFormatter\"},{\"attributes\":{},\"id\":\"1819\",\"type\":\"Selection\"},{\"attributes\":{\"fill_color\":{\"value\":\"#30a2da\"},\"hatch_color\":{\"value\":\"#30a2da\"},\"line_color\":{\"value\":\"#30a2da\"},\"size\":{\"value\":5.477225575051661},\"x\":{\"field\":\"TotalCoinsMined\"},\"y\":{\"field\":\"TotalCoinSupply\"}},\"id\":\"1754\",\"type\":\"Scatter\"}],\"root_ids\":[\"1707\"]},\"title\":\"Bokeh Application\",\"version\":\"2.4.2\"}};\n",
       "    var render_items = [{\"docid\":\"9a0becf1-4d01-4aec-b675-067a7c493ac3\",\"root_ids\":[\"1707\"],\"roots\":{\"1707\":\"fc661db0-83eb-4b87-98bc-55655ce018b6\"}}];\n",
       "    root.Bokeh.embed.embed_items_notebook(docs_json, render_items);\n",
       "  }\n",
       "  if (root.Bokeh !== undefined && root.Bokeh.Panel !== undefined) {\n",
       "    embed_document(root);\n",
       "  } else {\n",
       "    var attempts = 0;\n",
       "    var timer = setInterval(function(root) {\n",
       "      if (root.Bokeh !== undefined && root.Bokeh.Panel !== undefined) {\n",
       "        clearInterval(timer);\n",
       "        embed_document(root);\n",
       "      } else if (document.readyState == \"complete\") {\n",
       "        attempts++;\n",
       "        if (attempts > 200) {\n",
       "          clearInterval(timer);\n",
       "          console.log(\"Bokeh: ERROR: Unable to run BokehJS code because BokehJS library is missing\");\n",
       "        }\n",
       "      }\n",
       "    }, 25, root)\n",
       "  }\n",
       "})(window);</script>"
      ],
      "text/plain": [
       ":NdOverlay   [Class]\n",
       "   :Scatter   [TotalCoinsMined]   (TotalCoinSupply,CoinName)"
      ]
     },
     "execution_count": 50,
     "metadata": {
      "application/vnd.holoviews_exec.v0+json": {
       "id": "1707"
      }
     },
     "output_type": "execute_result"
    }
   ],
   "source": [
    "#10. Create an hvplot scatter plot with x=\"TotalCoinsMined\", \n",
    "# y=\"TotalCoinSupply\", and by=\"Class\", and have it show the \n",
    "# CoinName when you hover over the the data point.\n",
    "\n",
    "plot_df.hvplot(kind=\"scatter\", x='TotalCoinsMined', y='TotalCoinSupply', by='Class', hover_cols='CoinName')\n",
    "\n",
    "\n"
   ]
  }
 ],
 "metadata": {
  "file_extension": ".py",
  "interpreter": {
   "hash": "79cce83be72e55c1187b298660b26fa831a7f54746f9fd5c4205698cac5dca1a"
  },
  "kernelspec": {
   "display_name": "PythonData",
   "language": "python",
   "name": "pythondata"
  },
  "language_info": {
   "codemirror_mode": {
    "name": "ipython",
    "version": 3
   },
   "file_extension": ".py",
   "mimetype": "text/x-python",
   "name": "python",
   "nbconvert_exporter": "python",
   "pygments_lexer": "ipython3",
   "version": "3.7.12"
  },
  "latex_envs": {
   "LaTeX_envs_menu_present": true,
   "autoclose": false,
   "autocomplete": true,
   "bibliofile": "biblio.bib",
   "cite_by": "apalike",
   "current_citInitial": 1,
   "eqLabelWithNumbers": true,
   "eqNumInitial": 1,
   "hotkeys": {
    "equation": "Ctrl-E",
    "itemize": "Ctrl-I"
   },
   "labels_anchors": false,
   "latex_user_defs": false,
   "report_style_numbering": false,
   "user_envs_cfg": false
  },
  "mimetype": "text/x-python",
  "name": "python",
  "npconvert_exporter": "python",
  "pygments_lexer": "ipython3",
  "version": 3
 },
 "nbformat": 4,
 "nbformat_minor": 2
}
